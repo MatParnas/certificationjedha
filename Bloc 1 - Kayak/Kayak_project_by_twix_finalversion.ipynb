{
 "cells": [
  {
   "cell_type": "markdown",
   "metadata": {},
   "source": [
    "# PROJECT KAYAK"
   ]
  },
  {
   "cell_type": "code",
   "execution_count": 1,
   "metadata": {},
   "outputs": [
    {
     "name": "stdout",
     "output_type": "stream",
     "text": [
      "Requirement already satisfied: scrapy in c:\\users\\mista\\anaconda3\\lib\\site-packages (2.6.2)\n",
      "Requirement already satisfied: itemloaders>=1.0.1 in c:\\users\\mista\\anaconda3\\lib\\site-packages (from scrapy) (1.0.4)\n",
      "Requirement already satisfied: w3lib>=1.17.0 in c:\\users\\mista\\anaconda3\\lib\\site-packages (from scrapy) (2.0.1)\n",
      "Requirement already satisfied: itemadapter>=0.1.0 in c:\\users\\mista\\anaconda3\\lib\\site-packages (from scrapy) (0.7.0)\n",
      "Requirement already satisfied: lxml>=3.5.0 in c:\\users\\mista\\anaconda3\\lib\\site-packages (from scrapy) (4.6.3)\n",
      "Requirement already satisfied: tldextract in c:\\users\\mista\\anaconda3\\lib\\site-packages (from scrapy) (3.3.1)\n",
      "Requirement already satisfied: parsel>=1.5.0 in c:\\users\\mista\\anaconda3\\lib\\site-packages (from scrapy) (1.6.0)\n",
      "Requirement already satisfied: setuptools in c:\\users\\mista\\anaconda3\\lib\\site-packages (from scrapy) (58.0.4)\n",
      "Requirement already satisfied: Twisted>=17.9.0 in c:\\users\\mista\\anaconda3\\lib\\site-packages (from scrapy) (22.4.0)\n",
      "Requirement already satisfied: pyOpenSSL>=16.2.0 in c:\\users\\mista\\anaconda3\\lib\\site-packages (from scrapy) (21.0.0)\n",
      "Requirement already satisfied: queuelib>=1.4.2 in c:\\users\\mista\\anaconda3\\lib\\site-packages (from scrapy) (1.6.2)\n",
      "Requirement already satisfied: cssselect>=0.9.1 in c:\\users\\mista\\anaconda3\\lib\\site-packages (from scrapy) (1.1.0)\n",
      "Requirement already satisfied: cryptography>=2.0 in c:\\users\\mista\\anaconda3\\lib\\site-packages (from scrapy) (3.4.8)\n",
      "Requirement already satisfied: PyDispatcher>=2.0.5 in c:\\users\\mista\\anaconda3\\lib\\site-packages (from scrapy) (2.0.5)\n",
      "Requirement already satisfied: service-identity>=16.0.0 in c:\\users\\mista\\anaconda3\\lib\\site-packages (from scrapy) (21.1.0)\n",
      "Requirement already satisfied: zope.interface>=4.1.3 in c:\\users\\mista\\anaconda3\\lib\\site-packages (from scrapy) (5.4.0)\n",
      "Requirement already satisfied: protego>=0.1.15 in c:\\users\\mista\\anaconda3\\lib\\site-packages (from scrapy) (0.2.1)\n",
      "Requirement already satisfied: cffi>=1.12 in c:\\users\\mista\\anaconda3\\lib\\site-packages (from cryptography>=2.0->scrapy) (1.14.6)\n",
      "Requirement already satisfied: pycparser in c:\\users\\mista\\anaconda3\\lib\\site-packages (from cffi>=1.12->cryptography>=2.0->scrapy) (2.20)\n",
      "Requirement already satisfied: jmespath>=0.9.5 in c:\\users\\mista\\anaconda3\\lib\\site-packages (from itemloaders>=1.0.1->scrapy) (1.0.1)\n",
      "Requirement already satisfied: six>=1.6.0 in c:\\users\\mista\\anaconda3\\lib\\site-packages (from parsel>=1.5.0->scrapy) (1.16.0)\n",
      "Requirement already satisfied: attrs>=19.1.0 in c:\\users\\mista\\anaconda3\\lib\\site-packages (from service-identity>=16.0.0->scrapy) (21.2.0)\n",
      "Requirement already satisfied: pyasn1 in c:\\users\\mista\\anaconda3\\lib\\site-packages (from service-identity>=16.0.0->scrapy) (0.4.8)\n",
      "Requirement already satisfied: pyasn1-modules in c:\\users\\mista\\anaconda3\\lib\\site-packages (from service-identity>=16.0.0->scrapy) (0.2.8)\n",
      "Requirement already satisfied: incremental>=21.3.0 in c:\\users\\mista\\anaconda3\\lib\\site-packages (from Twisted>=17.9.0->scrapy) (21.3.0)\n",
      "Requirement already satisfied: typing-extensions>=3.6.5 in c:\\users\\mista\\anaconda3\\lib\\site-packages (from Twisted>=17.9.0->scrapy) (3.10.0.2)\n",
      "Requirement already satisfied: hyperlink>=17.1.1 in c:\\users\\mista\\anaconda3\\lib\\site-packages (from Twisted>=17.9.0->scrapy) (21.0.0)\n",
      "Requirement already satisfied: twisted-iocpsupport<2,>=1.0.2 in c:\\users\\mista\\anaconda3\\lib\\site-packages (from Twisted>=17.9.0->scrapy) (1.0.2)\n",
      "Requirement already satisfied: constantly>=15.1 in c:\\users\\mista\\anaconda3\\lib\\site-packages (from Twisted>=17.9.0->scrapy) (15.1.0)\n",
      "Requirement already satisfied: Automat>=0.8.0 in c:\\users\\mista\\anaconda3\\lib\\site-packages (from Twisted>=17.9.0->scrapy) (20.2.0)\n",
      "Requirement already satisfied: idna>=2.5 in c:\\users\\mista\\anaconda3\\lib\\site-packages (from hyperlink>=17.1.1->Twisted>=17.9.0->scrapy) (3.2)\n",
      "Requirement already satisfied: requests-file>=1.4 in c:\\users\\mista\\anaconda3\\lib\\site-packages (from tldextract->scrapy) (1.5.1)\n",
      "Requirement already satisfied: requests>=2.1.0 in c:\\users\\mista\\anaconda3\\lib\\site-packages (from tldextract->scrapy) (2.26.0)\n",
      "Requirement already satisfied: filelock>=3.0.8 in c:\\users\\mista\\anaconda3\\lib\\site-packages (from tldextract->scrapy) (3.3.1)\n",
      "Requirement already satisfied: urllib3<1.27,>=1.21.1 in c:\\users\\mista\\anaconda3\\lib\\site-packages (from requests>=2.1.0->tldextract->scrapy) (1.26.7)\n",
      "Requirement already satisfied: charset-normalizer~=2.0.0 in c:\\users\\mista\\anaconda3\\lib\\site-packages (from requests>=2.1.0->tldextract->scrapy) (2.0.4)\n",
      "Requirement already satisfied: certifi>=2017.4.17 in c:\\users\\mista\\anaconda3\\lib\\site-packages (from requests>=2.1.0->tldextract->scrapy) (2021.10.8)\n",
      "Requirement already satisfied: boto3 in c:\\users\\mista\\anaconda3\\lib\\site-packages (1.24.52)\n",
      "Requirement already satisfied: jmespath<2.0.0,>=0.7.1 in c:\\users\\mista\\anaconda3\\lib\\site-packages (from boto3) (1.0.1)\n",
      "Requirement already satisfied: s3transfer<0.7.0,>=0.6.0 in c:\\users\\mista\\anaconda3\\lib\\site-packages (from boto3) (0.6.0)\n",
      "Requirement already satisfied: botocore<1.28.0,>=1.27.52 in c:\\users\\mista\\anaconda3\\lib\\site-packages (from boto3) (1.27.52)\n",
      "Requirement already satisfied: urllib3<1.27,>=1.25.4 in c:\\users\\mista\\anaconda3\\lib\\site-packages (from botocore<1.28.0,>=1.27.52->boto3) (1.26.7)\n",
      "Requirement already satisfied: python-dateutil<3.0.0,>=2.1 in c:\\users\\mista\\anaconda3\\lib\\site-packages (from botocore<1.28.0,>=1.27.52->boto3) (2.8.2)\n",
      "Requirement already satisfied: six>=1.5 in c:\\users\\mista\\anaconda3\\lib\\site-packages (from python-dateutil<3.0.0,>=2.1->botocore<1.28.0,>=1.27.52->boto3) (1.16.0)\n",
      "Requirement already satisfied: psycopg2-binary in c:\\users\\mista\\anaconda3\\lib\\site-packages (2.9.3)\n"
     ]
    }
   ],
   "source": [
    "## Import of the necessary libraries\n",
    "\n",
    "import requests\n",
    "import pandas as pd\n",
    "import seaborn as sns\n",
    "from bs4 import BeautifulSoup\n",
    "import numpy as np\n",
    "\n",
    "import os\n",
    "import logging\n",
    "import pandas as pd\n",
    "!pip install scrapy\n",
    "import scrapy\n",
    "from scrapy.crawler import CrawlerProcess\n",
    "\n",
    "import plotly.express as px\n",
    "import plotly.io as pio\n",
    "\n",
    "!pip install boto3\n",
    "!pip install psycopg2-binary\n",
    "import boto3\n",
    "from sqlalchemy import create_engine, text\n",
    "from sqlalchemy.orm import sessionmaker \n",
    "\n"
   ]
  },
  {
   "cell_type": "code",
   "execution_count": 2,
   "metadata": {
    "tags": []
   },
   "outputs": [],
   "source": [
    "# Definition of the 35 selected cities for the project\n",
    "\n",
    "cities = [\"Mont Saint Michel\",\n",
    "\"St Malo\",\n",
    "\"Bayeux\",\n",
    "\"Le Havre\",\n",
    "\"Rouen\",\n",
    "\"Paris\",\n",
    "\"Amiens\",\n",
    "\"Lille\",\n",
    "\"Strasbourg\",\n",
    "\"Chateau du Haut Koenigsbourg\",\n",
    "\"Colmar\",\n",
    "\"Eguisheim\",\n",
    "\"Besancon\",\n",
    "\"Dijon\",\n",
    "\"Annecy\",\n",
    "\"Grenoble\",\n",
    "\"Lyon\",\n",
    "\"Gorges du Verdon\",\n",
    "\"Bormes les Mimosas\",\n",
    "\"Cassis\",\n",
    "\"Marseille\",\n",
    "\"Aix en Provence\",\n",
    "\"Avignon\",\n",
    "\"Uzes\",\n",
    "\"Nimes\",\n",
    "\"Aigues Mortes\",\n",
    "\"Saintes Maries de la mer\",\n",
    "\"Collioure\",\n",
    "\"Carcassonne\",\n",
    "\"Ariege\",\n",
    "\"Toulouse\",\n",
    "\"Montauban\",\n",
    "\"Biarritz\",\n",
    "\"Bayonne\",\n",
    "\"La Rochelle\"]"
   ]
  },
  {
   "cell_type": "markdown",
   "metadata": {},
   "source": [
    "## PART 1 : Data collection\n",
    "### A - GPS Coordinates"
   ]
  },
  {
   "cell_type": "code",
   "execution_count": 3,
   "metadata": {},
   "outputs": [],
   "source": [
    "# On va d'abord recuperer les latitudes et longitudes, dans l'ordre, de nos villes concernées\n",
    "\n",
    "cities_bis = [c.replace(' ','+') for c in cities]\n",
    "gpslat = []\n",
    "gpslon = []\n",
    "\n",
    "for city in cities_bis:\n",
    "    r = requests.get('https://nominatim.openstreetmap.org/search?q={}&country=france&format=json'.format(city))\n",
    "    gpslat.append(r.json()[0]['lat'])\n",
    "    gpslon.append(r.json()[0]['lon'])\n",
    " "
   ]
  },
  {
   "cell_type": "code",
   "execution_count": 4,
   "metadata": {
    "tags": []
   },
   "outputs": [
    {
     "name": "stdout",
     "output_type": "stream",
     "text": [
      "['48.6359541', '48.649518', '49.2764624', '49.4938975', '49.4404591', '48.8588897', '49.8941708', '50.6365654', '48.584614', '48.249489800000006', '48.0777517', '48.0447968', '47.2380222', '47.3215806', '45.8992348', '45.1875602', '45.7578137', '43.7496562', '43.1506968', '43.2140359', '43.2961743', '43.5298424', '43.9492493', '44.0121279', '43.8374249', '43.5658225', '43.4522771', '42.52505', '43.2130358', '42.9455368', '43.6044622', '44.0175835', '43.471143749999996', '43.4945144', '46.1591126']\n"
     ]
    }
   ],
   "source": [
    "print(gpslat)"
   ]
  },
  {
   "cell_type": "code",
   "execution_count": 5,
   "metadata": {
    "tags": []
   },
   "outputs": [
    {
     "name": "stdout",
     "output_type": "stream",
     "text": [
      "['-1.511459954959514', '-2.0260409', '-0.7024738', '0.1079732', '1.0939658', '2.3200410217200766', '2.2956951', '3.0635282', '7.7507127', '7.34429620253195', '7.3579641', '7.3079618', '6.0243622', '5.0414701', '6.1288847', '5.7357819', '4.8320114', '6.3285616', '6.3419285', '5.5396318', '5.3699525', '5.4474738', '4.8059012', '4.4196718', '4.3600687', '4.1912837', '4.4287172', '3.0831554', '2.3491069', '1.4065544156065486', '1.4442469', '1.3549991', '-1.552726590666314', '-1.4736657', '-1.1520434']\n"
     ]
    }
   ],
   "source": [
    "print(gpslon)"
   ]
  },
  {
   "cell_type": "code",
   "execution_count": 6,
   "metadata": {},
   "outputs": [],
   "source": [
    "# Assembling collecting gps coordinates\n",
    "\n",
    "list_df_gps = [gpslat,gpslon]\n",
    "df_gps = pd.DataFrame(list_df_gps,columns = cities, index = ('City_Lat', 'City_Lon'))\n",
    "df_gps = df_gps.transpose()\n",
    "df_gps['City'] = df_gps.index"
   ]
  },
  {
   "cell_type": "code",
   "execution_count": 7,
   "metadata": {},
   "outputs": [
    {
     "data": {
      "text/html": [
       "<div>\n",
       "<style scoped>\n",
       "    .dataframe tbody tr th:only-of-type {\n",
       "        vertical-align: middle;\n",
       "    }\n",
       "\n",
       "    .dataframe tbody tr th {\n",
       "        vertical-align: top;\n",
       "    }\n",
       "\n",
       "    .dataframe thead th {\n",
       "        text-align: right;\n",
       "    }\n",
       "</style>\n",
       "<table border=\"1\" class=\"dataframe\">\n",
       "  <thead>\n",
       "    <tr style=\"text-align: right;\">\n",
       "      <th></th>\n",
       "      <th>City_Lat</th>\n",
       "      <th>City_Lon</th>\n",
       "      <th>City</th>\n",
       "    </tr>\n",
       "  </thead>\n",
       "  <tbody>\n",
       "    <tr>\n",
       "      <th>Mont Saint Michel</th>\n",
       "      <td>48.6359541</td>\n",
       "      <td>-1.511459954959514</td>\n",
       "      <td>Mont Saint Michel</td>\n",
       "    </tr>\n",
       "    <tr>\n",
       "      <th>St Malo</th>\n",
       "      <td>48.649518</td>\n",
       "      <td>-2.0260409</td>\n",
       "      <td>St Malo</td>\n",
       "    </tr>\n",
       "    <tr>\n",
       "      <th>Bayeux</th>\n",
       "      <td>49.2764624</td>\n",
       "      <td>-0.7024738</td>\n",
       "      <td>Bayeux</td>\n",
       "    </tr>\n",
       "    <tr>\n",
       "      <th>Le Havre</th>\n",
       "      <td>49.4938975</td>\n",
       "      <td>0.1079732</td>\n",
       "      <td>Le Havre</td>\n",
       "    </tr>\n",
       "    <tr>\n",
       "      <th>Rouen</th>\n",
       "      <td>49.4404591</td>\n",
       "      <td>1.0939658</td>\n",
       "      <td>Rouen</td>\n",
       "    </tr>\n",
       "    <tr>\n",
       "      <th>Paris</th>\n",
       "      <td>48.8588897</td>\n",
       "      <td>2.3200410217200766</td>\n",
       "      <td>Paris</td>\n",
       "    </tr>\n",
       "    <tr>\n",
       "      <th>Amiens</th>\n",
       "      <td>49.8941708</td>\n",
       "      <td>2.2956951</td>\n",
       "      <td>Amiens</td>\n",
       "    </tr>\n",
       "    <tr>\n",
       "      <th>Lille</th>\n",
       "      <td>50.6365654</td>\n",
       "      <td>3.0635282</td>\n",
       "      <td>Lille</td>\n",
       "    </tr>\n",
       "    <tr>\n",
       "      <th>Strasbourg</th>\n",
       "      <td>48.584614</td>\n",
       "      <td>7.7507127</td>\n",
       "      <td>Strasbourg</td>\n",
       "    </tr>\n",
       "    <tr>\n",
       "      <th>Chateau du Haut Koenigsbourg</th>\n",
       "      <td>48.249489800000006</td>\n",
       "      <td>7.34429620253195</td>\n",
       "      <td>Chateau du Haut Koenigsbourg</td>\n",
       "    </tr>\n",
       "    <tr>\n",
       "      <th>Colmar</th>\n",
       "      <td>48.0777517</td>\n",
       "      <td>7.3579641</td>\n",
       "      <td>Colmar</td>\n",
       "    </tr>\n",
       "    <tr>\n",
       "      <th>Eguisheim</th>\n",
       "      <td>48.0447968</td>\n",
       "      <td>7.3079618</td>\n",
       "      <td>Eguisheim</td>\n",
       "    </tr>\n",
       "    <tr>\n",
       "      <th>Besancon</th>\n",
       "      <td>47.2380222</td>\n",
       "      <td>6.0243622</td>\n",
       "      <td>Besancon</td>\n",
       "    </tr>\n",
       "    <tr>\n",
       "      <th>Dijon</th>\n",
       "      <td>47.3215806</td>\n",
       "      <td>5.0414701</td>\n",
       "      <td>Dijon</td>\n",
       "    </tr>\n",
       "    <tr>\n",
       "      <th>Annecy</th>\n",
       "      <td>45.8992348</td>\n",
       "      <td>6.1288847</td>\n",
       "      <td>Annecy</td>\n",
       "    </tr>\n",
       "    <tr>\n",
       "      <th>Grenoble</th>\n",
       "      <td>45.1875602</td>\n",
       "      <td>5.7357819</td>\n",
       "      <td>Grenoble</td>\n",
       "    </tr>\n",
       "    <tr>\n",
       "      <th>Lyon</th>\n",
       "      <td>45.7578137</td>\n",
       "      <td>4.8320114</td>\n",
       "      <td>Lyon</td>\n",
       "    </tr>\n",
       "    <tr>\n",
       "      <th>Gorges du Verdon</th>\n",
       "      <td>43.7496562</td>\n",
       "      <td>6.3285616</td>\n",
       "      <td>Gorges du Verdon</td>\n",
       "    </tr>\n",
       "    <tr>\n",
       "      <th>Bormes les Mimosas</th>\n",
       "      <td>43.1506968</td>\n",
       "      <td>6.3419285</td>\n",
       "      <td>Bormes les Mimosas</td>\n",
       "    </tr>\n",
       "    <tr>\n",
       "      <th>Cassis</th>\n",
       "      <td>43.2140359</td>\n",
       "      <td>5.5396318</td>\n",
       "      <td>Cassis</td>\n",
       "    </tr>\n",
       "    <tr>\n",
       "      <th>Marseille</th>\n",
       "      <td>43.2961743</td>\n",
       "      <td>5.3699525</td>\n",
       "      <td>Marseille</td>\n",
       "    </tr>\n",
       "    <tr>\n",
       "      <th>Aix en Provence</th>\n",
       "      <td>43.5298424</td>\n",
       "      <td>5.4474738</td>\n",
       "      <td>Aix en Provence</td>\n",
       "    </tr>\n",
       "    <tr>\n",
       "      <th>Avignon</th>\n",
       "      <td>43.9492493</td>\n",
       "      <td>4.8059012</td>\n",
       "      <td>Avignon</td>\n",
       "    </tr>\n",
       "    <tr>\n",
       "      <th>Uzes</th>\n",
       "      <td>44.0121279</td>\n",
       "      <td>4.4196718</td>\n",
       "      <td>Uzes</td>\n",
       "    </tr>\n",
       "    <tr>\n",
       "      <th>Nimes</th>\n",
       "      <td>43.8374249</td>\n",
       "      <td>4.3600687</td>\n",
       "      <td>Nimes</td>\n",
       "    </tr>\n",
       "    <tr>\n",
       "      <th>Aigues Mortes</th>\n",
       "      <td>43.5658225</td>\n",
       "      <td>4.1912837</td>\n",
       "      <td>Aigues Mortes</td>\n",
       "    </tr>\n",
       "    <tr>\n",
       "      <th>Saintes Maries de la mer</th>\n",
       "      <td>43.4522771</td>\n",
       "      <td>4.4287172</td>\n",
       "      <td>Saintes Maries de la mer</td>\n",
       "    </tr>\n",
       "    <tr>\n",
       "      <th>Collioure</th>\n",
       "      <td>42.52505</td>\n",
       "      <td>3.0831554</td>\n",
       "      <td>Collioure</td>\n",
       "    </tr>\n",
       "    <tr>\n",
       "      <th>Carcassonne</th>\n",
       "      <td>43.2130358</td>\n",
       "      <td>2.3491069</td>\n",
       "      <td>Carcassonne</td>\n",
       "    </tr>\n",
       "    <tr>\n",
       "      <th>Ariege</th>\n",
       "      <td>42.9455368</td>\n",
       "      <td>1.4065544156065486</td>\n",
       "      <td>Ariege</td>\n",
       "    </tr>\n",
       "    <tr>\n",
       "      <th>Toulouse</th>\n",
       "      <td>43.6044622</td>\n",
       "      <td>1.4442469</td>\n",
       "      <td>Toulouse</td>\n",
       "    </tr>\n",
       "    <tr>\n",
       "      <th>Montauban</th>\n",
       "      <td>44.0175835</td>\n",
       "      <td>1.3549991</td>\n",
       "      <td>Montauban</td>\n",
       "    </tr>\n",
       "    <tr>\n",
       "      <th>Biarritz</th>\n",
       "      <td>43.471143749999996</td>\n",
       "      <td>-1.552726590666314</td>\n",
       "      <td>Biarritz</td>\n",
       "    </tr>\n",
       "    <tr>\n",
       "      <th>Bayonne</th>\n",
       "      <td>43.4945144</td>\n",
       "      <td>-1.4736657</td>\n",
       "      <td>Bayonne</td>\n",
       "    </tr>\n",
       "    <tr>\n",
       "      <th>La Rochelle</th>\n",
       "      <td>46.1591126</td>\n",
       "      <td>-1.1520434</td>\n",
       "      <td>La Rochelle</td>\n",
       "    </tr>\n",
       "  </tbody>\n",
       "</table>\n",
       "</div>"
      ],
      "text/plain": [
       "                                        City_Lat            City_Lon  \\\n",
       "Mont Saint Michel                     48.6359541  -1.511459954959514   \n",
       "St Malo                                48.649518          -2.0260409   \n",
       "Bayeux                                49.2764624          -0.7024738   \n",
       "Le Havre                              49.4938975           0.1079732   \n",
       "Rouen                                 49.4404591           1.0939658   \n",
       "Paris                                 48.8588897  2.3200410217200766   \n",
       "Amiens                                49.8941708           2.2956951   \n",
       "Lille                                 50.6365654           3.0635282   \n",
       "Strasbourg                             48.584614           7.7507127   \n",
       "Chateau du Haut Koenigsbourg  48.249489800000006    7.34429620253195   \n",
       "Colmar                                48.0777517           7.3579641   \n",
       "Eguisheim                             48.0447968           7.3079618   \n",
       "Besancon                              47.2380222           6.0243622   \n",
       "Dijon                                 47.3215806           5.0414701   \n",
       "Annecy                                45.8992348           6.1288847   \n",
       "Grenoble                              45.1875602           5.7357819   \n",
       "Lyon                                  45.7578137           4.8320114   \n",
       "Gorges du Verdon                      43.7496562           6.3285616   \n",
       "Bormes les Mimosas                    43.1506968           6.3419285   \n",
       "Cassis                                43.2140359           5.5396318   \n",
       "Marseille                             43.2961743           5.3699525   \n",
       "Aix en Provence                       43.5298424           5.4474738   \n",
       "Avignon                               43.9492493           4.8059012   \n",
       "Uzes                                  44.0121279           4.4196718   \n",
       "Nimes                                 43.8374249           4.3600687   \n",
       "Aigues Mortes                         43.5658225           4.1912837   \n",
       "Saintes Maries de la mer              43.4522771           4.4287172   \n",
       "Collioure                               42.52505           3.0831554   \n",
       "Carcassonne                           43.2130358           2.3491069   \n",
       "Ariege                                42.9455368  1.4065544156065486   \n",
       "Toulouse                              43.6044622           1.4442469   \n",
       "Montauban                             44.0175835           1.3549991   \n",
       "Biarritz                      43.471143749999996  -1.552726590666314   \n",
       "Bayonne                               43.4945144          -1.4736657   \n",
       "La Rochelle                           46.1591126          -1.1520434   \n",
       "\n",
       "                                                      City  \n",
       "Mont Saint Michel                        Mont Saint Michel  \n",
       "St Malo                                            St Malo  \n",
       "Bayeux                                              Bayeux  \n",
       "Le Havre                                          Le Havre  \n",
       "Rouen                                                Rouen  \n",
       "Paris                                                Paris  \n",
       "Amiens                                              Amiens  \n",
       "Lille                                                Lille  \n",
       "Strasbourg                                      Strasbourg  \n",
       "Chateau du Haut Koenigsbourg  Chateau du Haut Koenigsbourg  \n",
       "Colmar                                              Colmar  \n",
       "Eguisheim                                        Eguisheim  \n",
       "Besancon                                          Besancon  \n",
       "Dijon                                                Dijon  \n",
       "Annecy                                              Annecy  \n",
       "Grenoble                                          Grenoble  \n",
       "Lyon                                                  Lyon  \n",
       "Gorges du Verdon                          Gorges du Verdon  \n",
       "Bormes les Mimosas                      Bormes les Mimosas  \n",
       "Cassis                                              Cassis  \n",
       "Marseille                                        Marseille  \n",
       "Aix en Provence                            Aix en Provence  \n",
       "Avignon                                            Avignon  \n",
       "Uzes                                                  Uzes  \n",
       "Nimes                                                Nimes  \n",
       "Aigues Mortes                                Aigues Mortes  \n",
       "Saintes Maries de la mer          Saintes Maries de la mer  \n",
       "Collioure                                        Collioure  \n",
       "Carcassonne                                    Carcassonne  \n",
       "Ariege                                              Ariege  \n",
       "Toulouse                                          Toulouse  \n",
       "Montauban                                        Montauban  \n",
       "Biarritz                                          Biarritz  \n",
       "Bayonne                                            Bayonne  \n",
       "La Rochelle                                    La Rochelle  "
      ]
     },
     "metadata": {},
     "output_type": "display_data"
    }
   ],
   "source": [
    "display(df_gps)"
   ]
  },
  {
   "cell_type": "markdown",
   "metadata": {},
   "source": [
    "### B - Weather informations"
   ]
  },
  {
   "cell_type": "code",
   "execution_count": 8,
   "metadata": {},
   "outputs": [],
   "source": [
    "# Requesting weather data from API\n",
    "\n",
    "t_pop = []\n",
    "t_temp = []\n",
    "t_weather = []\n",
    "\n",
    "\n",
    "for i in range (35):\n",
    "    t = requests.get('https://api.openweathermap.org/data/2.5/onecall?lat={}&lon={}&units=metric&appid=37fd61377390482a5e5f103a29520af8'.format(gpslat[i],gpslon[i]))\n",
    "    for day in range(1,8):\n",
    "        t_pop.append(t.json()['daily'][day]['pop'])\n",
    "        t_temp.append(t.json()['daily'][day]['temp'])\n",
    "        t_weather.append(t.json()['daily'][day]['weather'])\n",
    "\n"
   ]
  },
  {
   "cell_type": "code",
   "execution_count": 9,
   "metadata": {},
   "outputs": [
    {
     "data": {
      "text/plain": [
       "[{'id': 500, 'main': 'Rain', 'description': 'light rain', 'icon': '10d'}]"
      ]
     },
     "execution_count": 9,
     "metadata": {},
     "output_type": "execute_result"
    }
   ],
   "source": [
    "# quick check\n",
    "t_weather[0]"
   ]
  },
  {
   "cell_type": "code",
   "execution_count": 10,
   "metadata": {},
   "outputs": [],
   "source": [
    "# Extracting usefull data from raw informations\n",
    "\n",
    "weather_descript_temp = []\n",
    "temp_of_day_temp = []\n",
    "\n",
    "for x in range(245):  # extracting weather descriptions\n",
    "    weather_descript_temp.append(t_weather[x][0]['description'])\n",
    "\n",
    "temp_of_day_temp.append([d['day'] for d in t_temp]) # extracting day temperatue\n"
   ]
  },
  {
   "cell_type": "code",
   "execution_count": 11,
   "metadata": {},
   "outputs": [],
   "source": [
    "# We have all our data but they are not sorted. We will create a list of lists to sort them by city for 7 days\n",
    "\n",
    "weather_descript = []\n",
    "precipitation = []\n",
    "temp_of_day_temp = temp_of_day_temp[0]\n",
    "temp_of_day = []\n",
    "\n",
    "weather_descript = [weather_descript_temp[x:x+7] for x in range(0, len(weather_descript_temp),7)]\n",
    "temp_of_day = [temp_of_day_temp[x:x+7] for x in range(0, len(temp_of_day_temp),7)]\n",
    "precipitation = [t_pop[x:x+7] for x in range(0, len(t_pop),7)]"
   ]
  },
  {
   "cell_type": "code",
   "execution_count": 12,
   "metadata": {},
   "outputs": [
    {
     "data": {
      "text/html": [
       "<div>\n",
       "<style scoped>\n",
       "    .dataframe tbody tr th:only-of-type {\n",
       "        vertical-align: middle;\n",
       "    }\n",
       "\n",
       "    .dataframe tbody tr th {\n",
       "        vertical-align: top;\n",
       "    }\n",
       "\n",
       "    .dataframe thead th {\n",
       "        text-align: right;\n",
       "    }\n",
       "</style>\n",
       "<table border=\"1\" class=\"dataframe\">\n",
       "  <thead>\n",
       "    <tr style=\"text-align: right;\">\n",
       "      <th></th>\n",
       "      <th>City</th>\n",
       "      <th>7days_temperature</th>\n",
       "      <th>7days_precipitation</th>\n",
       "      <th>7days_weather_description</th>\n",
       "    </tr>\n",
       "  </thead>\n",
       "  <tbody>\n",
       "    <tr>\n",
       "      <th>0</th>\n",
       "      <td>Mont Saint Michel</td>\n",
       "      <td>[24.73, 21.91, 21.6, 20.33, 22.72, 26.57, 29.92]</td>\n",
       "      <td>[0.73, 0.45, 0.06, 0.62, 0.88, 0, 0.94]</td>\n",
       "      <td>[light rain, light rain, scattered clouds, lig...</td>\n",
       "    </tr>\n",
       "    <tr>\n",
       "      <th>1</th>\n",
       "      <td>St Malo</td>\n",
       "      <td>[21.91, 20.34, 20.25, 20.06, 20.8, 23.49, 24.99]</td>\n",
       "      <td>[0.81, 0.53, 0, 0.84, 0.76, 0, 0.87]</td>\n",
       "      <td>[light rain, light rain, scattered clouds, lig...</td>\n",
       "    </tr>\n",
       "    <tr>\n",
       "      <th>2</th>\n",
       "      <td>Bayeux</td>\n",
       "      <td>[22.71, 20.9, 22.44, 18.33, 22.53, 26.45, 31.56]</td>\n",
       "      <td>[0.62, 0.69, 0, 0.35, 1, 0, 0.9]</td>\n",
       "      <td>[light rain, light rain, clear sky, light rain...</td>\n",
       "    </tr>\n",
       "    <tr>\n",
       "      <th>3</th>\n",
       "      <td>Le Havre</td>\n",
       "      <td>[22.14, 20.64, 20.21, 19.07, 21.04, 22.34, 28.55]</td>\n",
       "      <td>[0.7, 0.76, 0, 0.3, 1, 0, 0.53]</td>\n",
       "      <td>[light rain, light rain, clear sky, light rain...</td>\n",
       "    </tr>\n",
       "    <tr>\n",
       "      <th>4</th>\n",
       "      <td>Rouen</td>\n",
       "      <td>[27.6, 23.92, 24.49, 19.88, 23.55, 26.76, 31.37]</td>\n",
       "      <td>[0.51, 0.64, 0, 0.08, 1, 0, 0.05]</td>\n",
       "      <td>[clear sky, light rain, clear sky, overcast cl...</td>\n",
       "    </tr>\n",
       "    <tr>\n",
       "      <th>5</th>\n",
       "      <td>Paris</td>\n",
       "      <td>[27.92, 25.71, 25.84, 23.48, 21.46, 27.96, 31.64]</td>\n",
       "      <td>[0.46, 0.28, 0.09, 0, 0.95, 0.25, 0]</td>\n",
       "      <td>[scattered clouds, few clouds, few clouds, ove...</td>\n",
       "    </tr>\n",
       "    <tr>\n",
       "      <th>6</th>\n",
       "      <td>Amiens</td>\n",
       "      <td>[26.58, 24.31, 24.1, 24.99, 24.12, 25.4, 30.35]</td>\n",
       "      <td>[0.82, 0.84, 0, 0.03, 1, 0, 0]</td>\n",
       "      <td>[light rain, moderate rain, clear sky, overcas...</td>\n",
       "    </tr>\n",
       "    <tr>\n",
       "      <th>7</th>\n",
       "      <td>Lille</td>\n",
       "      <td>[26.07, 25.44, 24.46, 23.97, 23.61, 25.74, 30.05]</td>\n",
       "      <td>[0.93, 1, 0.02, 0.02, 1, 0.14, 0]</td>\n",
       "      <td>[light rain, moderate rain, clear sky, overcas...</td>\n",
       "    </tr>\n",
       "    <tr>\n",
       "      <th>8</th>\n",
       "      <td>Strasbourg</td>\n",
       "      <td>[23.72, 26.41, 27.52, 27.45, 17.3, 25.8, 30.69]</td>\n",
       "      <td>[1, 0.27, 0.32, 0, 0.68, 0.08, 0]</td>\n",
       "      <td>[moderate rain, light rain, light rain, broken...</td>\n",
       "    </tr>\n",
       "    <tr>\n",
       "      <th>9</th>\n",
       "      <td>Chateau du Haut Koenigsbourg</td>\n",
       "      <td>[18.94, 23.29, 24.11, 24.56, 13.94, 24.05, 26.85]</td>\n",
       "      <td>[1, 0.32, 0.4, 0, 0.62, 0.15, 0]</td>\n",
       "      <td>[moderate rain, light rain, light rain, broken...</td>\n",
       "    </tr>\n",
       "    <tr>\n",
       "      <th>10</th>\n",
       "      <td>Colmar</td>\n",
       "      <td>[20.7, 26.31, 27.8, 27.39, 17.03, 27.25, 29.85]</td>\n",
       "      <td>[1, 0.37, 0.54, 0, 0.62, 0.18, 0]</td>\n",
       "      <td>[moderate rain, light rain, light rain, broken...</td>\n",
       "    </tr>\n",
       "    <tr>\n",
       "      <th>11</th>\n",
       "      <td>Eguisheim</td>\n",
       "      <td>[20.34, 26.48, 27.86, 27.23, 16.9, 27.18, 29.65]</td>\n",
       "      <td>[1, 0.36, 0.56, 0, 0.61, 0.17, 0]</td>\n",
       "      <td>[moderate rain, light rain, light rain, broken...</td>\n",
       "    </tr>\n",
       "    <tr>\n",
       "      <th>12</th>\n",
       "      <td>Besancon</td>\n",
       "      <td>[23.78, 26.03, 25.21, 26.48, 17.66, 27.38, 30.86]</td>\n",
       "      <td>[1, 0.57, 0.61, 0, 0.66, 0, 0]</td>\n",
       "      <td>[light rain, light rain, light rain, broken cl...</td>\n",
       "    </tr>\n",
       "    <tr>\n",
       "      <th>13</th>\n",
       "      <td>Dijon</td>\n",
       "      <td>[24.49, 26.23, 24.74, 26.81, 16.48, 27.17, 30.22]</td>\n",
       "      <td>[0.8, 0.46, 0.6, 0, 0.63, 0.12, 0]</td>\n",
       "      <td>[overcast clouds, light rain, light rain, over...</td>\n",
       "    </tr>\n",
       "    <tr>\n",
       "      <th>14</th>\n",
       "      <td>Annecy</td>\n",
       "      <td>[23.63, 21.66, 26.61, 26.12, 23.5, 26.93, 30.57]</td>\n",
       "      <td>[1, 0.95, 0.58, 0.14, 0.04, 0, 0.14]</td>\n",
       "      <td>[moderate rain, light rain, light rain, scatte...</td>\n",
       "    </tr>\n",
       "    <tr>\n",
       "      <th>15</th>\n",
       "      <td>Grenoble</td>\n",
       "      <td>[22.61, 22.97, 27.86, 27.64, 26.55, 29.67, 33.57]</td>\n",
       "      <td>[1, 0.86, 0.3, 0, 0, 0, 0.36]</td>\n",
       "      <td>[moderate rain, light rain, light rain, broken...</td>\n",
       "    </tr>\n",
       "    <tr>\n",
       "      <th>16</th>\n",
       "      <td>Lyon</td>\n",
       "      <td>[22.77, 25.45, 28.25, 27.88, 26.34, 27.84, 32.69]</td>\n",
       "      <td>[1, 1, 0.05, 0, 0.04, 0, 0.03]</td>\n",
       "      <td>[light rain, light rain, scattered clouds, bro...</td>\n",
       "    </tr>\n",
       "    <tr>\n",
       "      <th>17</th>\n",
       "      <td>Gorges du Verdon</td>\n",
       "      <td>[16.31, 24.77, 28.08, 28.22, 27.71, 26.98, 28.52]</td>\n",
       "      <td>[1, 0.33, 0.03, 0.11, 0.07, 0.11, 0.07]</td>\n",
       "      <td>[moderate rain, broken clouds, clear sky, few ...</td>\n",
       "    </tr>\n",
       "    <tr>\n",
       "      <th>18</th>\n",
       "      <td>Bormes les Mimosas</td>\n",
       "      <td>[22.86, 26.75, 29.02, 28.41, 28, 28.66, 29.46]</td>\n",
       "      <td>[1, 0.3, 0, 0, 0.02, 0, 0]</td>\n",
       "      <td>[heavy intensity rain, overcast clouds, clear ...</td>\n",
       "    </tr>\n",
       "    <tr>\n",
       "      <th>19</th>\n",
       "      <td>Cassis</td>\n",
       "      <td>[24, 27.68, 29.86, 29.69, 29.36, 28, 28.96]</td>\n",
       "      <td>[1, 0.31, 0, 0, 0, 0, 0]</td>\n",
       "      <td>[moderate rain, light rain, clear sky, scatter...</td>\n",
       "    </tr>\n",
       "    <tr>\n",
       "      <th>20</th>\n",
       "      <td>Marseille</td>\n",
       "      <td>[23.26, 27.49, 29.6, 29.35, 29.29, 28.21, 28.81]</td>\n",
       "      <td>[1, 0.4, 0, 0, 0, 0, 0]</td>\n",
       "      <td>[moderate rain, light rain, clear sky, scatter...</td>\n",
       "    </tr>\n",
       "    <tr>\n",
       "      <th>21</th>\n",
       "      <td>Aix en Provence</td>\n",
       "      <td>[22.59, 27.93, 30.22, 29.92, 30.22, 31.18, 32.07]</td>\n",
       "      <td>[1, 0.47, 0, 0, 0, 0, 0]</td>\n",
       "      <td>[moderate rain, light rain, clear sky, scatter...</td>\n",
       "    </tr>\n",
       "    <tr>\n",
       "      <th>22</th>\n",
       "      <td>Avignon</td>\n",
       "      <td>[22.33, 27.95, 30.41, 29.89, 30.33, 31.61, 33.96]</td>\n",
       "      <td>[0.99, 0.47, 0, 0, 0, 0, 0]</td>\n",
       "      <td>[moderate rain, light rain, clear sky, scatter...</td>\n",
       "    </tr>\n",
       "    <tr>\n",
       "      <th>23</th>\n",
       "      <td>Uzes</td>\n",
       "      <td>[23, 28.91, 30.83, 30.55, 30.57, 30.11, 32.79]</td>\n",
       "      <td>[0.96, 0.2, 0, 0, 0, 0, 0]</td>\n",
       "      <td>[moderate rain, clear sky, clear sky, broken c...</td>\n",
       "    </tr>\n",
       "    <tr>\n",
       "      <th>24</th>\n",
       "      <td>Nimes</td>\n",
       "      <td>[24.75, 30.17, 31.88, 31.56, 31.6, 31.08, 32.9]</td>\n",
       "      <td>[0.87, 0.14, 0, 0, 0, 0, 0]</td>\n",
       "      <td>[light rain, clear sky, clear sky, broken clou...</td>\n",
       "    </tr>\n",
       "    <tr>\n",
       "      <th>25</th>\n",
       "      <td>Aigues Mortes</td>\n",
       "      <td>[24.64, 29.12, 30.62, 29.82, 29.62, 29.54, 28.07]</td>\n",
       "      <td>[0.77, 0.06, 0, 0, 0, 0, 0]</td>\n",
       "      <td>[light rain, clear sky, clear sky, broken clou...</td>\n",
       "    </tr>\n",
       "    <tr>\n",
       "      <th>26</th>\n",
       "      <td>Saintes Maries de la mer</td>\n",
       "      <td>[24.25, 28.45, 29.6, 29.04, 28.77, 28.73, 26.9]</td>\n",
       "      <td>[0.87, 0.15, 0, 0, 0, 0, 0]</td>\n",
       "      <td>[moderate rain, clear sky, clear sky, broken c...</td>\n",
       "    </tr>\n",
       "    <tr>\n",
       "      <th>27</th>\n",
       "      <td>Collioure</td>\n",
       "      <td>[26.71, 27.64, 30.07, 30.08, 29.85, 28.5, 29.88]</td>\n",
       "      <td>[0.72, 0, 0, 0, 0, 0, 0.42]</td>\n",
       "      <td>[light rain, clear sky, clear sky, broken clou...</td>\n",
       "    </tr>\n",
       "    <tr>\n",
       "      <th>28</th>\n",
       "      <td>Carcassonne</td>\n",
       "      <td>[22.43, 25.44, 29.86, 29.93, 29.11, 34.84, 31.65]</td>\n",
       "      <td>[0.51, 0.24, 0, 0.01, 0, 0, 0.42]</td>\n",
       "      <td>[overcast clouds, light rain, clear sky, broke...</td>\n",
       "    </tr>\n",
       "    <tr>\n",
       "      <th>29</th>\n",
       "      <td>Ariege</td>\n",
       "      <td>[12.65, 18.02, 22.44, 22.06, 22.28, 26.35, 27.05]</td>\n",
       "      <td>[1, 0.26, 0, 0, 0, 0, 0.89]</td>\n",
       "      <td>[light rain, scattered clouds, clear sky, brok...</td>\n",
       "    </tr>\n",
       "    <tr>\n",
       "      <th>30</th>\n",
       "      <td>Toulouse</td>\n",
       "      <td>[20.87, 25.36, 28.51, 28.29, 28.03, 31.8, 32.48]</td>\n",
       "      <td>[0.65, 0.33, 0, 0, 0, 0, 0.85]</td>\n",
       "      <td>[light rain, light rain, clear sky, broken clo...</td>\n",
       "    </tr>\n",
       "    <tr>\n",
       "      <th>31</th>\n",
       "      <td>Montauban</td>\n",
       "      <td>[21.48, 25.94, 28.93, 29.24, 28.51, 32.86, 34]</td>\n",
       "      <td>[0.46, 0.14, 0, 0, 0, 0, 0.97]</td>\n",
       "      <td>[light rain, broken clouds, few clouds, overca...</td>\n",
       "    </tr>\n",
       "    <tr>\n",
       "      <th>32</th>\n",
       "      <td>Biarritz</td>\n",
       "      <td>[19.32, 21.36, 22.61, 21.18, 22.1, 28.24, 23.16]</td>\n",
       "      <td>[0.98, 0.83, 0, 0, 0, 0, 0.95]</td>\n",
       "      <td>[moderate rain, light rain, clear sky, overcas...</td>\n",
       "    </tr>\n",
       "    <tr>\n",
       "      <th>33</th>\n",
       "      <td>Bayonne</td>\n",
       "      <td>[19.91, 22.06, 23.51, 21.75, 22.93, 29.41, 23.88]</td>\n",
       "      <td>[1, 0.88, 0, 0, 0, 0, 0.99]</td>\n",
       "      <td>[moderate rain, light rain, clear sky, overcas...</td>\n",
       "    </tr>\n",
       "    <tr>\n",
       "      <th>34</th>\n",
       "      <td>La Rochelle</td>\n",
       "      <td>[21.78, 21.64, 21.2, 19.72, 21.03, 23.66, 24.84]</td>\n",
       "      <td>[0.32, 0, 0, 0, 0.04, 0, 0.4]</td>\n",
       "      <td>[light rain, clear sky, few clouds, overcast c...</td>\n",
       "    </tr>\n",
       "  </tbody>\n",
       "</table>\n",
       "</div>"
      ],
      "text/plain": [
       "                            City  \\\n",
       "0              Mont Saint Michel   \n",
       "1                        St Malo   \n",
       "2                         Bayeux   \n",
       "3                       Le Havre   \n",
       "4                          Rouen   \n",
       "5                          Paris   \n",
       "6                         Amiens   \n",
       "7                          Lille   \n",
       "8                     Strasbourg   \n",
       "9   Chateau du Haut Koenigsbourg   \n",
       "10                        Colmar   \n",
       "11                     Eguisheim   \n",
       "12                      Besancon   \n",
       "13                         Dijon   \n",
       "14                        Annecy   \n",
       "15                      Grenoble   \n",
       "16                          Lyon   \n",
       "17              Gorges du Verdon   \n",
       "18            Bormes les Mimosas   \n",
       "19                        Cassis   \n",
       "20                     Marseille   \n",
       "21               Aix en Provence   \n",
       "22                       Avignon   \n",
       "23                          Uzes   \n",
       "24                         Nimes   \n",
       "25                 Aigues Mortes   \n",
       "26      Saintes Maries de la mer   \n",
       "27                     Collioure   \n",
       "28                   Carcassonne   \n",
       "29                        Ariege   \n",
       "30                      Toulouse   \n",
       "31                     Montauban   \n",
       "32                      Biarritz   \n",
       "33                       Bayonne   \n",
       "34                   La Rochelle   \n",
       "\n",
       "                                    7days_temperature  \\\n",
       "0    [24.73, 21.91, 21.6, 20.33, 22.72, 26.57, 29.92]   \n",
       "1    [21.91, 20.34, 20.25, 20.06, 20.8, 23.49, 24.99]   \n",
       "2    [22.71, 20.9, 22.44, 18.33, 22.53, 26.45, 31.56]   \n",
       "3   [22.14, 20.64, 20.21, 19.07, 21.04, 22.34, 28.55]   \n",
       "4    [27.6, 23.92, 24.49, 19.88, 23.55, 26.76, 31.37]   \n",
       "5   [27.92, 25.71, 25.84, 23.48, 21.46, 27.96, 31.64]   \n",
       "6     [26.58, 24.31, 24.1, 24.99, 24.12, 25.4, 30.35]   \n",
       "7   [26.07, 25.44, 24.46, 23.97, 23.61, 25.74, 30.05]   \n",
       "8     [23.72, 26.41, 27.52, 27.45, 17.3, 25.8, 30.69]   \n",
       "9   [18.94, 23.29, 24.11, 24.56, 13.94, 24.05, 26.85]   \n",
       "10    [20.7, 26.31, 27.8, 27.39, 17.03, 27.25, 29.85]   \n",
       "11   [20.34, 26.48, 27.86, 27.23, 16.9, 27.18, 29.65]   \n",
       "12  [23.78, 26.03, 25.21, 26.48, 17.66, 27.38, 30.86]   \n",
       "13  [24.49, 26.23, 24.74, 26.81, 16.48, 27.17, 30.22]   \n",
       "14   [23.63, 21.66, 26.61, 26.12, 23.5, 26.93, 30.57]   \n",
       "15  [22.61, 22.97, 27.86, 27.64, 26.55, 29.67, 33.57]   \n",
       "16  [22.77, 25.45, 28.25, 27.88, 26.34, 27.84, 32.69]   \n",
       "17  [16.31, 24.77, 28.08, 28.22, 27.71, 26.98, 28.52]   \n",
       "18     [22.86, 26.75, 29.02, 28.41, 28, 28.66, 29.46]   \n",
       "19        [24, 27.68, 29.86, 29.69, 29.36, 28, 28.96]   \n",
       "20   [23.26, 27.49, 29.6, 29.35, 29.29, 28.21, 28.81]   \n",
       "21  [22.59, 27.93, 30.22, 29.92, 30.22, 31.18, 32.07]   \n",
       "22  [22.33, 27.95, 30.41, 29.89, 30.33, 31.61, 33.96]   \n",
       "23     [23, 28.91, 30.83, 30.55, 30.57, 30.11, 32.79]   \n",
       "24    [24.75, 30.17, 31.88, 31.56, 31.6, 31.08, 32.9]   \n",
       "25  [24.64, 29.12, 30.62, 29.82, 29.62, 29.54, 28.07]   \n",
       "26    [24.25, 28.45, 29.6, 29.04, 28.77, 28.73, 26.9]   \n",
       "27   [26.71, 27.64, 30.07, 30.08, 29.85, 28.5, 29.88]   \n",
       "28  [22.43, 25.44, 29.86, 29.93, 29.11, 34.84, 31.65]   \n",
       "29  [12.65, 18.02, 22.44, 22.06, 22.28, 26.35, 27.05]   \n",
       "30   [20.87, 25.36, 28.51, 28.29, 28.03, 31.8, 32.48]   \n",
       "31     [21.48, 25.94, 28.93, 29.24, 28.51, 32.86, 34]   \n",
       "32   [19.32, 21.36, 22.61, 21.18, 22.1, 28.24, 23.16]   \n",
       "33  [19.91, 22.06, 23.51, 21.75, 22.93, 29.41, 23.88]   \n",
       "34   [21.78, 21.64, 21.2, 19.72, 21.03, 23.66, 24.84]   \n",
       "\n",
       "                        7days_precipitation  \\\n",
       "0   [0.73, 0.45, 0.06, 0.62, 0.88, 0, 0.94]   \n",
       "1      [0.81, 0.53, 0, 0.84, 0.76, 0, 0.87]   \n",
       "2          [0.62, 0.69, 0, 0.35, 1, 0, 0.9]   \n",
       "3           [0.7, 0.76, 0, 0.3, 1, 0, 0.53]   \n",
       "4         [0.51, 0.64, 0, 0.08, 1, 0, 0.05]   \n",
       "5      [0.46, 0.28, 0.09, 0, 0.95, 0.25, 0]   \n",
       "6            [0.82, 0.84, 0, 0.03, 1, 0, 0]   \n",
       "7         [0.93, 1, 0.02, 0.02, 1, 0.14, 0]   \n",
       "8         [1, 0.27, 0.32, 0, 0.68, 0.08, 0]   \n",
       "9          [1, 0.32, 0.4, 0, 0.62, 0.15, 0]   \n",
       "10        [1, 0.37, 0.54, 0, 0.62, 0.18, 0]   \n",
       "11        [1, 0.36, 0.56, 0, 0.61, 0.17, 0]   \n",
       "12           [1, 0.57, 0.61, 0, 0.66, 0, 0]   \n",
       "13       [0.8, 0.46, 0.6, 0, 0.63, 0.12, 0]   \n",
       "14     [1, 0.95, 0.58, 0.14, 0.04, 0, 0.14]   \n",
       "15            [1, 0.86, 0.3, 0, 0, 0, 0.36]   \n",
       "16           [1, 1, 0.05, 0, 0.04, 0, 0.03]   \n",
       "17  [1, 0.33, 0.03, 0.11, 0.07, 0.11, 0.07]   \n",
       "18               [1, 0.3, 0, 0, 0.02, 0, 0]   \n",
       "19                 [1, 0.31, 0, 0, 0, 0, 0]   \n",
       "20                  [1, 0.4, 0, 0, 0, 0, 0]   \n",
       "21                 [1, 0.47, 0, 0, 0, 0, 0]   \n",
       "22              [0.99, 0.47, 0, 0, 0, 0, 0]   \n",
       "23               [0.96, 0.2, 0, 0, 0, 0, 0]   \n",
       "24              [0.87, 0.14, 0, 0, 0, 0, 0]   \n",
       "25              [0.77, 0.06, 0, 0, 0, 0, 0]   \n",
       "26              [0.87, 0.15, 0, 0, 0, 0, 0]   \n",
       "27              [0.72, 0, 0, 0, 0, 0, 0.42]   \n",
       "28        [0.51, 0.24, 0, 0.01, 0, 0, 0.42]   \n",
       "29              [1, 0.26, 0, 0, 0, 0, 0.89]   \n",
       "30           [0.65, 0.33, 0, 0, 0, 0, 0.85]   \n",
       "31           [0.46, 0.14, 0, 0, 0, 0, 0.97]   \n",
       "32           [0.98, 0.83, 0, 0, 0, 0, 0.95]   \n",
       "33              [1, 0.88, 0, 0, 0, 0, 0.99]   \n",
       "34            [0.32, 0, 0, 0, 0.04, 0, 0.4]   \n",
       "\n",
       "                            7days_weather_description  \n",
       "0   [light rain, light rain, scattered clouds, lig...  \n",
       "1   [light rain, light rain, scattered clouds, lig...  \n",
       "2   [light rain, light rain, clear sky, light rain...  \n",
       "3   [light rain, light rain, clear sky, light rain...  \n",
       "4   [clear sky, light rain, clear sky, overcast cl...  \n",
       "5   [scattered clouds, few clouds, few clouds, ove...  \n",
       "6   [light rain, moderate rain, clear sky, overcas...  \n",
       "7   [light rain, moderate rain, clear sky, overcas...  \n",
       "8   [moderate rain, light rain, light rain, broken...  \n",
       "9   [moderate rain, light rain, light rain, broken...  \n",
       "10  [moderate rain, light rain, light rain, broken...  \n",
       "11  [moderate rain, light rain, light rain, broken...  \n",
       "12  [light rain, light rain, light rain, broken cl...  \n",
       "13  [overcast clouds, light rain, light rain, over...  \n",
       "14  [moderate rain, light rain, light rain, scatte...  \n",
       "15  [moderate rain, light rain, light rain, broken...  \n",
       "16  [light rain, light rain, scattered clouds, bro...  \n",
       "17  [moderate rain, broken clouds, clear sky, few ...  \n",
       "18  [heavy intensity rain, overcast clouds, clear ...  \n",
       "19  [moderate rain, light rain, clear sky, scatter...  \n",
       "20  [moderate rain, light rain, clear sky, scatter...  \n",
       "21  [moderate rain, light rain, clear sky, scatter...  \n",
       "22  [moderate rain, light rain, clear sky, scatter...  \n",
       "23  [moderate rain, clear sky, clear sky, broken c...  \n",
       "24  [light rain, clear sky, clear sky, broken clou...  \n",
       "25  [light rain, clear sky, clear sky, broken clou...  \n",
       "26  [moderate rain, clear sky, clear sky, broken c...  \n",
       "27  [light rain, clear sky, clear sky, broken clou...  \n",
       "28  [overcast clouds, light rain, clear sky, broke...  \n",
       "29  [light rain, scattered clouds, clear sky, brok...  \n",
       "30  [light rain, light rain, clear sky, broken clo...  \n",
       "31  [light rain, broken clouds, few clouds, overca...  \n",
       "32  [moderate rain, light rain, clear sky, overcas...  \n",
       "33  [moderate rain, light rain, clear sky, overcas...  \n",
       "34  [light rain, clear sky, few clouds, overcast c...  "
      ]
     },
     "execution_count": 12,
     "metadata": {},
     "output_type": "execute_result"
    }
   ],
   "source": [
    "# Assembling all the weather informations in one dataframe\n",
    "\n",
    "df_weather = pd.DataFrame()\n",
    "df_weather['City'] = cities\n",
    "df_weather['7days_temperature'] = temp_of_day\n",
    "df_weather['7days_precipitation'] = precipitation\n",
    "df_weather['7days_weather_description'] = weather_descript\n",
    "\n",
    "df_weather"
   ]
  },
  {
   "cell_type": "markdown",
   "metadata": {},
   "source": [
    "### C - Hotels informations \n"
   ]
  },
  {
   "cell_type": "code",
   "execution_count": 13,
   "metadata": {},
   "outputs": [],
   "source": [
    "# Define the spider to crawl pages and get the data needed\n",
    "class bookingSpider(scrapy.Spider):\n",
    "    # Define variables\n",
    "    locs = [\"Mont Saint Michel\",\"St Malo\",\"Bayeux\",\"Le Havre\",\"Rouen\",\"Paris\",\"Amiens\",\"Lille\",\"Strasbourg\",\"Chateau du Haut Koenigsbourg\",\"Colmar\",\"Eguisheim\",\"Besancon\",\"Dijon\",\"Annecy\",\"Grenoble\",\"Lyon\",\"Gorges du Verdon\",\"Bormes les Mimosas\",\"Cassis\",\"Marseille\",\"Aix en Provence\",\"Avignon\",\"Uzes\",\"Nimes\",\"Aigue sMortes\",\"Saintes Maries de la mer\",\"Collioure\",\"Carcassonne\",\"Ariege\",\"Toulouse\",\"Montauban\",\"Biarritz\",\"Bayonne\",\"La Rochelle\"]\n",
    "    name = \"booking\"\n",
    "    init_url = dict() # set a dictionary for the urls to follow\n",
    "    start_urls = [\"https://www.booking.com/\"]\n",
    "\n",
    "    # Method to enter the cities in searching destination\n",
    "    def parse(self, response):\n",
    "        for loc in self.locs:\n",
    "            # returns a new FormRequest object with its form field values pre-populated with those found in the HTML <form> element contained in the given response.\n",
    "            yield scrapy.FormRequest.from_response(response,\n",
    "                                                   formdata = {'ss': loc},\n",
    "                                                   callback = self.after_search,\n",
    "                                                   cb_kwargs = {'location':loc, 'page_no':0}\n",
    "                                                   )\n",
    "\n",
    "    # Method to find name, url, score and description of the hotels\n",
    "    def after_search(self, response, location, page_no):\n",
    "        # Condition to crawl pages\n",
    "        if page_no == 0:\n",
    "            self.init_url[location] = response.url\n",
    "        \n",
    "        cities = response.css('div.a826ba81c4.fe821aea6c.fa2f36ad22.afd256fc79.d08f526e0d.ed11e24d01.da89aeb942')\n",
    "        for city in cities:\n",
    "            name = city.css('div.fcab3ed991.a23c043802::text').get()\n",
    "            url = city.css('a.e13098a59f').attrib['href']\n",
    "            score = city.css('div.b5cd09854e.d10a6220b4::text').get()\n",
    "            desc = city.css('div.d8eab2cf7f::text').get()\n",
    "            \n",
    "            dic = {'location': location,\n",
    "                    'name': name,\n",
    "                    'url': url,\n",
    "                    'score':score,\n",
    "                    'description': desc\n",
    "                  }\n",
    "            # initiate method for the parse_hotel GPS cordonnates \n",
    "            try: \n",
    "                yield response.follow(url = url,\n",
    "                                      callback = self.GPS, \n",
    "                                      cb_kwargs = {'dic': dic}\n",
    "                                     ) \n",
    "            except:\n",
    "                dic['lat'] = None\n",
    "                dic['lon'] = None\n",
    "                yield dic\n",
    "         \n",
    "        if page_no <= 1: \n",
    "            # Create variable next_page by the url and end string to give to follow function below\n",
    "            next_page = self.init_url[location]+\"&offset=\"+str(25*(page_no+1)) \n",
    "            # follow method return a request instance to follow a link, here it is the next_page variable who contain previous url with a page tag at the end\n",
    "            yield response.follow(next_page,\n",
    "                                  callback = self.after_search,\n",
    "                                  cb_kwargs = {'location':location, 'page_no':page_no+1}\n",
    "                                 ) \n",
    "\n",
    "    # method to find GPS coordonates and split them in two variables lat & Lon        \n",
    "    def GPS(self, response, dic): \n",
    "        try: \n",
    "            gps = response.css('a.jq_tooltip.loc_block_link_underline_fix.bui-link.show_on_map_hp_link.show_map_hp_link').attrib['data-atlas-latlng']   \n",
    "        except:\n",
    "            dic['lat']=None\n",
    "            dic['lon']=None\n",
    "            yield dic\n",
    "            return None\n",
    "        try:\n",
    "            gps = gps.split(',')\n",
    "            dic['lat']=float(gps[0])\n",
    "            dic['lon']=float(gps[1])\n",
    "            yield dic\n",
    "        except:\n",
    "            print(\"No way to split\")\n",
    "            dic['lat']=None\n",
    "            dic['lon']=None\n",
    "            yield dic\n",
    "            \n",
    "# Define a filename\n",
    "filename = \"scrap_booking.json\"\n",
    "\n",
    "# Remove previous file if it allready exist\n",
    "if filename in os.listdir('hotels/'):\n",
    "        os.remove('hotels/' + filename)\n",
    "\n",
    "# Define the settings for the crawler process\n",
    "process = CrawlerProcess(settings = {\n",
    "    # simulate browser\n",
    "    'USER_AGENT': 'Mozilla/5.0 (X11; Ubuntu; Linux x86_64; rv:98.0) Gecko/20100101 Firefox/98.0', \n",
    "    # display regular errors\n",
    "    'LOG_LEVEL': logging.ERROR,\n",
    "    \"FEEDS\": {\n",
    "        'hotels/' + filename : {\"format\": \"json\"},\n",
    "    }\n",
    "})\n",
    "\n",
    "# Initiate crawler\n",
    "process.crawl(bookingSpider)\n",
    "process.start()"
   ]
  },
  {
   "cell_type": "code",
   "execution_count": 14,
   "metadata": {},
   "outputs": [
    {
     "data": {
      "text/plain": [
       "(2608, 7)"
      ]
     },
     "execution_count": 14,
     "metadata": {},
     "output_type": "execute_result"
    }
   ],
   "source": [
    "df_hotels = pd.read_json('hotels/scrap_booking.json')\n",
    "df_hotels.shape"
   ]
  },
  {
   "cell_type": "markdown",
   "metadata": {},
   "source": [
    "### D - Cleaning and organising data"
   ]
  },
  {
   "cell_type": "code",
   "execution_count": 15,
   "metadata": {},
   "outputs": [
    {
     "data": {
      "text/plain": [
       "(2520, 7)"
      ]
     },
     "execution_count": 15,
     "metadata": {},
     "output_type": "execute_result"
    }
   ],
   "source": [
    "# Checking if there some missing informations and removing the according line if so\n",
    "\n",
    "for column in df_hotels:\n",
    "    if df_hotels[column].isnull().values.any():\n",
    "        df_hotels = df_hotels[df_hotels[column].isna() == False]\n",
    "        \n",
    "df_hotels.shape\n"
   ]
  },
  {
   "cell_type": "code",
   "execution_count": 16,
   "metadata": {},
   "outputs": [],
   "source": [
    "# Rename location column to city\n",
    "df_hotels.rename({'location': 'City'}, axis=1, inplace=True)"
   ]
  },
  {
   "cell_type": "code",
   "execution_count": 17,
   "metadata": {},
   "outputs": [],
   "source": [
    "# Merging all out dataframes\n",
    "df_complete = df_hotels.merge(df_weather , how = 'left' , on = 'City')\n",
    "df_complete = df_complete.merge(df_gps , how = 'left' , on ='City')\n"
   ]
  },
  {
   "cell_type": "code",
   "execution_count": 18,
   "metadata": {},
   "outputs": [],
   "source": [
    "# Correcting datatype\n",
    "df_complete['City_Lat'] = pd.to_numeric(df_complete['City_Lat'])\n",
    "df_complete['City_Lon'] = pd.to_numeric(df_complete['City_Lon'])"
   ]
  },
  {
   "cell_type": "code",
   "execution_count": 19,
   "metadata": {},
   "outputs": [],
   "source": [
    "# Saving the data in a csv file\n",
    "df_complete.to_csv('Complete_infos' , encoding='utf-8', index=False)"
   ]
  },
  {
   "cell_type": "markdown",
   "metadata": {},
   "source": [
    "## PART 2 - Data Storage"
   ]
  },
  {
   "cell_type": "code",
   "execution_count": 22,
   "metadata": {},
   "outputs": [],
   "source": [
    "# Using boto3 to create and connect a S3 bucket\n",
    "\n",
    "session = boto3.Session(aws_access_key_id='XXXXXXXXXXXX', aws_secret_access_key='XXXXXXXXXXXXXXXX')\n",
    "s3 = session.resource('s3')\n",
    "\n",
    "bucket = s3.create_bucket(Bucket='project-kayak-bucket2' , CreateBucketConfiguration={'LocationConstraint': 'eu-west-3'})"
   ]
  },
  {
   "cell_type": "code",
   "execution_count": 23,
   "metadata": {},
   "outputs": [
    {
     "data": {
      "text/plain": [
       "s3.Object(bucket_name='project-kayak-bucket2', key='Complete_infos')"
      ]
     },
     "execution_count": 23,
     "metadata": {},
     "output_type": "execute_result"
    }
   ],
   "source": [
    "# Uploading the csv file into the bucket\n",
    "\n",
    "bucket.put_object(Key ='Complete_infos' , Body= 'Complete_infos.csv')"
   ]
  },
  {
   "cell_type": "code",
   "execution_count": 24,
   "metadata": {},
   "outputs": [],
   "source": [
    "# Connecting to the sql database\n",
    "\n",
    "DBHOST = 'twix-kayak-database.cxqcbdx5rdug.eu-west-3.rds.amazonaws.com'\n",
    "DBUSER = 'XXXX'\n",
    "DBPASS = 'XXXXXX'\n",
    "DBNAME = 'postgres'\n",
    "\n",
    "engine = create_engine(f\"postgresql+psycopg2://{DBUSER}:{DBPASS}@{DBHOST}/{DBNAME}\", echo=True)\n"
   ]
  },
  {
   "cell_type": "code",
   "execution_count": 26,
   "metadata": {},
   "outputs": [
    {
     "name": "stdout",
     "output_type": "stream",
     "text": [
      "2022-08-17 17:43:54,726 INFO sqlalchemy.engine.Engine select relname from pg_class c join pg_namespace n on n.oid=c.relnamespace where pg_catalog.pg_table_is_visible(c.oid) and relname=%(name)s\n",
      "2022-08-17 17:43:54,727 INFO sqlalchemy.engine.Engine [cached since 10.6s ago] {'name': 'Kayak_complete_infos_df2'}\n",
      "2022-08-17 17:43:54,749 INFO sqlalchemy.engine.Engine BEGIN (implicit)\n",
      "2022-08-17 17:43:54,752 INFO sqlalchemy.engine.Engine \n",
      "CREATE TABLE \"Kayak_complete_infos_df2\" (\n",
      "\tindex BIGINT, \n",
      "\t\"City\" TEXT, \n",
      "\tname TEXT, \n",
      "\turl TEXT, \n",
      "\tscore FLOAT(53), \n",
      "\tdescription TEXT, \n",
      "\tlat FLOAT(53), \n",
      "\tlon FLOAT(53), \n",
      "\t\"7days_temperature\" TEXT, \n",
      "\t\"7days_precipitation\" TEXT, \n",
      "\t\"7days_weather_description\" TEXT, \n",
      "\t\"City_Lat\" FLOAT(53), \n",
      "\t\"City_Lon\" FLOAT(53)\n",
      ")\n",
      "\n",
      "\n",
      "2022-08-17 17:43:54,753 INFO sqlalchemy.engine.Engine [no key 0.00106s] {}\n",
      "2022-08-17 17:43:54,773 INFO sqlalchemy.engine.Engine CREATE INDEX \"ix_Kayak_complete_infos_df2_index\" ON \"Kayak_complete_infos_df2\" (index)\n",
      "2022-08-17 17:43:54,774 INFO sqlalchemy.engine.Engine [no key 0.00102s] {}\n",
      "2022-08-17 17:43:54,785 INFO sqlalchemy.engine.Engine COMMIT\n",
      "2022-08-17 17:43:54,798 INFO sqlalchemy.engine.Engine BEGIN (implicit)\n",
      "2022-08-17 17:43:54,831 INFO sqlalchemy.engine.Engine INSERT INTO \"Kayak_complete_infos_df2\" (index, \"City\", name, url, score, description, lat, lon, \"7days_temperature\", \"7days_precipitation\", \"7days_weather_description\", \"City_Lat\", \"City_Lon\") VALUES (%(index)s, %(City)s, %(name)s, %(url)s, %(score)s, %(description)s, %(lat)s, %(lon)s, %(7days_temperature)s, %(7days_precipitation)s, %(7days_weather_description)s, %(City_Lat)s, %(City_Lon)s)\n",
      "2022-08-17 17:43:54,832 INFO sqlalchemy.engine.Engine [generated in 0.02672s] ({'index': 0, 'City': 'Mont Saint Michel', 'name': 'Hôtel Vert', 'url': 'https://www.booking.com/hotel/fr/vert.en-gb.html?label=gen173nr-1FCAEoggI46AdIM1gEaE2IAQGYAQm4ARnIAQ_YAQHoAQH4AQuIAgGoAgO4AuaO9JcGwAIB0gIkOTFlNjk5MTc ... (138 characters truncated) ... no_rooms=1&group_children=0&req_children=0&hpos=1&hapos=1&sr_order=popularity&srpvid=db056bf47dbf0522&srepoch=1660749673&from=searchresults#hotelTmpl', 'score': 8.0, 'description': 'Hotel Vert offers pastel-coloured rooms with a private bathroom, TV and free Wi-Fi access. It is located 2 km from the Mont Saint-Michel tidal island on the Normandy Coast. ', 'lat': 48.61470049, 'lon': -1.5096169700000002, '7days_temperature': [24.73, 21.91, 21.6, 20.33, 22.72, 26.57, 29.92], '7days_precipitation': [0.73, 0.45, 0.06, 0.62, 0.88, 0, 0.94], '7days_weather_description': ['light rain', 'light rain', 'scattered clouds', 'light rain', 'light rain', 'scattered clouds', 'moderate rain'], 'City_Lat': 48.6359541, 'City_Lon': -1.511459954959514}, {'index': 1, 'City': 'Mont Saint Michel', 'name': 'La Vieille Auberge', 'url': 'https://www.booking.com/hotel/fr/la-vieille-auberge-le-mont-saint-michel.en-gb.html?label=gen173nr-1FCAEoggI46AdIM1gEaE2IAQGYAQm4ARnIAQ_YAQHoAQH4AQuI ... (175 characters truncated) ... _rooms=1&group_children=0&req_children=0&hpos=12&hapos=12&sr_order=popularity&srpvid=db056bf47dbf0522&srepoch=1660749673&from=searchresults#hotelTmpl', 'score': 7.2, 'description': 'La Vieille Auberge is located in the medieval village of Le Mont Saint Michel, just a short walk from the famous Mont Saint-Michel Abbey. ', 'lat': 48.636063, 'lon': -1.511457, '7days_temperature': [24.73, 21.91, 21.6, 20.33, 22.72, 26.57, 29.92], '7days_precipitation': [0.73, 0.45, 0.06, 0.62, 0.88, 0, 0.94], '7days_weather_description': ['light rain', 'light rain', 'scattered clouds', 'light rain', 'light rain', 'scattered clouds', 'moderate rain'], 'City_Lat': 48.6359541, 'City_Lon': -1.511459954959514}, {'index': 2, 'City': 'St Malo', 'name': 'Hôtel de la Cité', 'url': 'https://www.booking.com/hotel/fr/de-la-cite.en-gb.html?label=gen173nr-1FCAEoggI46AdIM1gEaE2IAQGYAQm4ARnIAQ_YAQHoAQH4AQuIAgGoAgO4AuaO9JcGwAIB0gIkOTFlN ... (191 characters truncated) ... =24&hapos=24&sr_order=popularity&srpvid=953b6bf4c0e802aa&srepoch=1660749673&from_beach_sr=1&beach_sr_walking_distance=21&from=searchresults#hotelTmpl', 'score': 7.6, 'description': 'The Hôtel de la Cité is located in the heart of Saint-Malo, just 350 metres from Saint-Malo Marina. It offers free Wi-Fi internet access and rooms with sea views. ', 'lat': 48.65130149, 'lon': -2.02511072, '7days_temperature': [21.91, 20.34, 20.25, 20.06, 20.8, 23.49, 24.99], '7days_precipitation': [0.81, 0.53, 0, 0.84, 0.76, 0, 0.87], '7days_weather_description': ['light rain', 'light rain', 'scattered clouds', 'light rain', 'light rain', 'scattered clouds', 'moderate rain'], 'City_Lat': 48.649518, 'City_Lon': -2.0260409}, {'index': 3, 'City': 'Amiens', 'name': 'Comme une parenthèse au coeur des hortillonnages', 'url': 'https://www.booking.com/hotel/fr/comme-une-parenthese-au-coeur-des-hortillonnages.en-gb.html?label=gen173nr-1FCAEoggI46AdIM1gEaE2IAQGYAQm4ARnIAQ_YAQH ... (184 characters truncated) ... _rooms=1&group_children=0&req_children=0&hpos=23&hapos=23&sr_order=popularity&srpvid=7d246bf4568e0043&srepoch=1660749674&from=searchresults#hotelTmpl', 'score': 9.0, 'description': 'Managed by a private host', 'lat': 49.888542, 'lon': 2.331349, '7days_temperature': [26.58, 24.31, 24.1, 24.99, 24.12, 25.4, 30.35], '7days_precipitation': [0.82, 0.84, 0, 0.03, 1, 0, 0], '7days_weather_description': ['light rain', 'moderate rain', 'clear sky', 'overcast clouds', 'moderate rain', 'overcast clouds', 'broken clouds'], 'City_Lat': 49.8941708, 'City_Lon': 2.2956951}, {'index': 4, 'City': 'Rouen', 'name': 'Best Western Plus Hotel Litteraire Gustave Flaubert', 'url': 'https://www.booking.com/hotel/fr/hotellitterairegustaveflaubert.en-gb.html?label=gen173nr-1FCAEoggI46AdIM1gEaE2IAQGYAQm4ARnIAQ_YAQHoAQH4AQuIAgGoAgO4A ... (195 characters truncated) ... _children=0&hpos=8&hapos=8&sr_order=popularity&srpvid=27dd6bf44865028c&srepoch=1660749674&from_sustainable_property_sr=1&from=searchresults#hotelTmpl', 'score': 8.5, 'description': 'Situated in the historic centre of Rouen, Best Western Plus Hotel Litteraire Gustave Flaubert offers accommodation with a literary theme in honour of the writer Gustave Flaubert. ', 'lat': 49.44306423, 'lon': 1.08660311, '7days_temperature': [27.6, 23.92, 24.49, 19.88, 23.55, 26.76, 31.37], '7days_precipitation': [0.51, 0.64, 0, 0.08, 1, 0, 0.05], '7days_weather_description': ['clear sky', 'light rain', 'clear sky', 'overcast clouds', 'moderate rain', 'overcast clouds', 'overcast clouds'], 'City_Lat': 49.4404591, 'City_Lon': 1.0939658}, {'index': 5, 'City': 'Lille', 'name': 'Hôtel Saint Maurice', 'url': 'https://www.booking.com/hotel/fr/hotelsaintmaurice.en-gb.html?label=gen173nr-1FCAEoggI46AdIM1gEaE2IAQGYAQm4ARnIAQ_YAQHoAQH4AQuIAgGoAgO4AuaO9JcGwAIB0g ... (153 characters truncated) ... _rooms=1&group_children=0&req_children=0&hpos=25&hapos=25&sr_order=popularity&srpvid=385f6bf4aa180138&srepoch=1660749674&from=searchresults#hotelTmpl', 'score': 7.5, 'description': 'Located in a quiet pedestrian area in the centre of Lille, next to the Saint Maurice Gothic church, the hotel offers free WiFi access in all areas. ', 'lat': 50.63557145, 'lon': 3.06783289, '7days_temperature': [26.07, 25.44, 24.46, 23.97, 23.61, 25.74, 30.05], '7days_precipitation': [0.93, 1, 0.02, 0.02, 1, 0.14, 0], '7days_weather_description': ['light rain', 'moderate rain', 'clear sky', 'overcast clouds', 'moderate rain', 'overcast clouds', 'broken clouds'], 'City_Lat': 50.6365654, 'City_Lon': 3.0635282}, {'index': 6, 'City': 'Chateau du Haut Koenigsbourg', 'name': 'Gîte Binnert Bader', 'url': 'https://www.booking.com/hotel/fr/au-muenchberg.en-gb.html?label=gen173nr-1FCAEoggI46AdIM1gEaE2IAQGYAQm4ARnIAQ_YAQHoAQH4AQuIAgGoAgO4AuaO9JcGwAIB0gIkOT ... (149 characters truncated) ... _rooms=1&group_children=0&req_children=0&hpos=12&hapos=12&sr_order=popularity&srpvid=9d4e6bf428c7036c&srepoch=1660749674&from=searchresults#hotelTmpl', 'score': 9.4, 'description': 'Located in the Bas-Rhin, a wine producing region, Gîte Binnert Bader offers a terrace and soundproofed rooms. This holiday home is 15 km from Sélestat Train Station. ', 'lat': 48.35583553, 'lon': 7.42061555, '7days_temperature': [18.94, 23.29, 24.11, 24.56, 13.94, 24.05, 26.85], '7days_precipitation': [1, 0.32, 0.4, 0, 0.62, 0.15, 0], '7days_weather_description': ['moderate rain', 'light rain', 'light rain', 'broken clouds', 'light rain', 'overcast clouds', 'broken clouds'], 'City_Lat': 48.249489800000006, 'City_Lon': 7.34429620253195}, {'index': 7, 'City': 'Colmar', 'name': 'Suites Residences Spa', 'url': 'https://www.booking.com/hotel/fr/suites-residences-spa.en-gb.html?label=gen173nr-1FCAEoggI46AdIM1gEaE2IAQGYAQm4ARnIAQ_YAQHoAQH4AQuIAgGoAgO4AuaO9JcGwA ... (155 characters truncated) ... no_rooms=1&group_children=0&req_children=0&hpos=1&hapos=1&sr_order=popularity&srpvid=67716bf431e7000c&srepoch=1660749675&from=searchresults#hotelTmpl', 'score': 8.5, 'description': 'Set 200 metres from House of the Heads, Suites Residences Spa offers accommodation with a spa and wellness centre, a terrace and a 24-hour front desk for your convenience. Free WiFi is featured. ', 'lat': 48.07900192, 'lon': 7.35450824, '7days_temperature': [20.7, 26.31, 27.8, 27.39, 17.03, 27.25, 29.85], '7days_precipitation': [1, 0.37, 0.54, 0, 0.62, 0.18, 0], '7days_weather_description': ['moderate rain', 'light rain', 'light rain', 'broken clouds', 'light rain', 'overcast clouds', 'broken clouds'], 'City_Lat': 48.0777517, 'City_Lon': 7.3579641}  ... displaying 10 of 2520 total bound parameter sets ...  {'index': 2518, 'City': 'Lyon', 'name': 'MEININGER Hotel Lyon Centre Berthelot', 'url': 'https://www.booking.com/hotel/fr/meininger-lyon-centre-berthelot.en-gb.html?label=gen173nr-1FCAEoggI46AdIM1gEaE2IAQGYAQm4ARnIAQ_YAQHoAQH4AQuIAgGoAgO4 ... (196 characters truncated) ... _children=0&hpos=2&hapos=2&sr_order=popularity&srpvid=71056d3977b200ac&srepoch=1660750324&from_sustainable_property_sr=1&from=searchresults#hotelTmpl', 'score': 8.4, 'description': 'Situated in Lyon, 200 metres from Musée de la Resistance, MEININGER Hotel Lyon Centre Berthelot features accommodation with a bar, private parking, a shared lounge and a terrace. ', 'lat': 45.746083, 'lon': 4.837187, '7days_temperature': [22.77, 25.45, 28.25, 27.88, 26.34, 27.84, 32.69], '7days_precipitation': [1, 1, 0.05, 0, 0.04, 0, 0.03], '7days_weather_description': ['light rain', 'light rain', 'scattered clouds', 'broken clouds', 'broken clouds', 'broken clouds', 'broken clouds'], 'City_Lat': 45.7578137, 'City_Lon': 4.8320114}, {'index': 2519, 'City': 'Lyon', 'name': 'La Nuit Saint Georges', 'url': 'https://www.booking.com/hotel/fr/la-nuit-st-georges.en-gb.html?label=gen173nr-1FCAEoggI46AdIM1gEaE2IAQGYAQm4ARnIAQ_YAQHoAQH4AQuIAgGoAgO4AuaO9JcGwAIB0 ... (153 characters truncated) ... o_rooms=1&group_children=0&req_children=0&hpos=3&hapos=28&sr_order=popularity&srpvid=f3d06d3b25fa04dc&srepoch=1660750327&from=searchresults#hotelTmpl', 'score': 9.0, 'description': 'Located in the heart of Lyon’s Old Town, La Nuit Saint Georges offers self-catering accommodation with views of St Georges Church. ', 'lat': 45.758341, 'lon': 4.8259883, '7days_temperature': [22.77, 25.45, 28.25, 27.88, 26.34, 27.84, 32.69], '7days_precipitation': [1, 1, 0.05, 0, 0.04, 0, 0.03], '7days_weather_description': ['light rain', 'light rain', 'scattered clouds', 'broken clouds', 'broken clouds', 'broken clouds', 'broken clouds'], 'City_Lat': 45.7578137, 'City_Lon': 4.8320114})\n",
      "2022-08-17 17:43:55,247 INFO sqlalchemy.engine.Engine COMMIT\n",
      "2022-08-17 17:43:55,259 INFO sqlalchemy.engine.Engine SELECT c.relname FROM pg_class c JOIN pg_namespace n ON n.oid = c.relnamespace WHERE n.nspname = %(schema)s AND c.relkind in ('r', 'p')\n",
      "2022-08-17 17:43:55,260 INFO sqlalchemy.engine.Engine [generated in 0.00064s] {'schema': 'public'}\n"
     ]
    }
   ],
   "source": [
    "# Initialize a sessionmaker to exchange with our database\n",
    "\n",
    "Session = sessionmaker(bind = engine)\n",
    "\n",
    "# Instanciate session \n",
    "\n",
    "session = Session()\n",
    "\n",
    "df_complete.to_sql('Kayak_complete_infos_df2', engine)"
   ]
  },
  {
   "cell_type": "markdown",
   "metadata": {},
   "source": [
    "# PART 3 - Temperature and Hotels visualisation"
   ]
  },
  {
   "cell_type": "code",
   "execution_count": 27,
   "metadata": {},
   "outputs": [],
   "source": [
    "# Getting the average temperature and precipitation for each city\n",
    "\n",
    "df_complete['Average_temperature'] = df_complete['7days_temperature'].apply(np.mean)\n",
    "df_complete['Average_precipitation'] = df_complete['7days_precipitation'].apply(np.mean)"
   ]
  },
  {
   "cell_type": "code",
   "execution_count": 28,
   "metadata": {},
   "outputs": [],
   "source": [
    "# Selecting the 5 best destinations for the week / to make my selection I choose to filter first on the 10 cities where it is going to rain the less then I picked the top 5 according to the temperature\n",
    "\n",
    "top5cities = df_complete.groupby('City').mean().sort_values('Average_precipitation', ascending = True).head(10)\n",
    "top5cities = top5cities.sort_values('Average_temperature', ascending= False).head()"
   ]
  },
  {
   "cell_type": "code",
   "execution_count": 29,
   "metadata": {},
   "outputs": [
    {
     "data": {
      "text/html": [
       "<div>\n",
       "<style scoped>\n",
       "    .dataframe tbody tr th:only-of-type {\n",
       "        vertical-align: middle;\n",
       "    }\n",
       "\n",
       "    .dataframe tbody tr th {\n",
       "        vertical-align: top;\n",
       "    }\n",
       "\n",
       "    .dataframe thead th {\n",
       "        text-align: right;\n",
       "    }\n",
       "</style>\n",
       "<table border=\"1\" class=\"dataframe\">\n",
       "  <thead>\n",
       "    <tr style=\"text-align: right;\">\n",
       "      <th></th>\n",
       "      <th>score</th>\n",
       "      <th>lat</th>\n",
       "      <th>lon</th>\n",
       "      <th>City_Lat</th>\n",
       "      <th>City_Lon</th>\n",
       "      <th>Average_temperature</th>\n",
       "      <th>Average_precipitation</th>\n",
       "    </tr>\n",
       "    <tr>\n",
       "      <th>City</th>\n",
       "      <th></th>\n",
       "      <th></th>\n",
       "      <th></th>\n",
       "      <th></th>\n",
       "      <th></th>\n",
       "      <th></th>\n",
       "      <th></th>\n",
       "    </tr>\n",
       "  </thead>\n",
       "  <tbody>\n",
       "    <tr>\n",
       "      <th>Nimes</th>\n",
       "      <td>8.449296</td>\n",
       "      <td>43.835905</td>\n",
       "      <td>4.358426</td>\n",
       "      <td>43.837425</td>\n",
       "      <td>4.360069</td>\n",
       "      <td>30.562857</td>\n",
       "      <td>0.144286</td>\n",
       "    </tr>\n",
       "    <tr>\n",
       "      <th>Uzes</th>\n",
       "      <td>8.810145</td>\n",
       "      <td>44.011582</td>\n",
       "      <td>4.418398</td>\n",
       "      <td>44.012128</td>\n",
       "      <td>4.419672</td>\n",
       "      <td>29.537143</td>\n",
       "      <td>0.165714</td>\n",
       "    </tr>\n",
       "    <tr>\n",
       "      <th>Avignon</th>\n",
       "      <td>8.596000</td>\n",
       "      <td>43.947031</td>\n",
       "      <td>4.814772</td>\n",
       "      <td>43.949249</td>\n",
       "      <td>4.805901</td>\n",
       "      <td>29.497143</td>\n",
       "      <td>0.208571</td>\n",
       "    </tr>\n",
       "    <tr>\n",
       "      <th>Carcassonne</th>\n",
       "      <td>8.629333</td>\n",
       "      <td>43.209500</td>\n",
       "      <td>2.358179</td>\n",
       "      <td>43.213036</td>\n",
       "      <td>2.349107</td>\n",
       "      <td>29.037143</td>\n",
       "      <td>0.168571</td>\n",
       "    </tr>\n",
       "    <tr>\n",
       "      <th>Collioure</th>\n",
       "      <td>8.462500</td>\n",
       "      <td>42.524909</td>\n",
       "      <td>3.084577</td>\n",
       "      <td>42.525050</td>\n",
       "      <td>3.083155</td>\n",
       "      <td>28.961429</td>\n",
       "      <td>0.162857</td>\n",
       "    </tr>\n",
       "  </tbody>\n",
       "</table>\n",
       "</div>"
      ],
      "text/plain": [
       "                score        lat       lon   City_Lat  City_Lon  \\\n",
       "City                                                              \n",
       "Nimes        8.449296  43.835905  4.358426  43.837425  4.360069   \n",
       "Uzes         8.810145  44.011582  4.418398  44.012128  4.419672   \n",
       "Avignon      8.596000  43.947031  4.814772  43.949249  4.805901   \n",
       "Carcassonne  8.629333  43.209500  2.358179  43.213036  2.349107   \n",
       "Collioure    8.462500  42.524909  3.084577  42.525050  3.083155   \n",
       "\n",
       "             Average_temperature  Average_precipitation  \n",
       "City                                                     \n",
       "Nimes                  30.562857               0.144286  \n",
       "Uzes                   29.537143               0.165714  \n",
       "Avignon                29.497143               0.208571  \n",
       "Carcassonne            29.037143               0.168571  \n",
       "Collioure              28.961429               0.162857  "
      ]
     },
     "metadata": {},
     "output_type": "display_data"
    }
   ],
   "source": [
    "display(top5cities)"
   ]
  },
  {
   "cell_type": "code",
   "execution_count": 33,
   "metadata": {},
   "outputs": [
    {
     "data": {
      "text/html": [
       "<div>\n",
       "<style scoped>\n",
       "    .dataframe tbody tr th:only-of-type {\n",
       "        vertical-align: middle;\n",
       "    }\n",
       "\n",
       "    .dataframe tbody tr th {\n",
       "        vertical-align: top;\n",
       "    }\n",
       "\n",
       "    .dataframe thead th {\n",
       "        text-align: right;\n",
       "    }\n",
       "</style>\n",
       "<table border=\"1\" class=\"dataframe\">\n",
       "  <thead>\n",
       "    <tr style=\"text-align: right;\">\n",
       "      <th></th>\n",
       "      <th>City</th>\n",
       "      <th>name</th>\n",
       "      <th>url</th>\n",
       "      <th>score</th>\n",
       "      <th>description</th>\n",
       "      <th>lat</th>\n",
       "      <th>lon</th>\n",
       "      <th>7days_temperature</th>\n",
       "      <th>7days_precipitation</th>\n",
       "      <th>7days_weather_description</th>\n",
       "      <th>City_Lat</th>\n",
       "      <th>City_Lon</th>\n",
       "      <th>Average_temperature</th>\n",
       "      <th>Average_precipitation</th>\n",
       "    </tr>\n",
       "  </thead>\n",
       "  <tbody>\n",
       "    <tr>\n",
       "      <th>1692</th>\n",
       "      <td>Collioure</td>\n",
       "      <td>BEL APPARTEMENT 4Pers RDC/parking/terrasse/ ja...</td>\n",
       "      <td>https://www.booking.com/hotel/fr/bel-apparteme...</td>\n",
       "      <td>10.0</td>\n",
       "      <td>BEL APPARTEMENT 4Pers RDC/parking/terrasse/ ja...</td>\n",
       "      <td>42.528363</td>\n",
       "      <td>3.078163</td>\n",
       "      <td>[26.71, 27.64, 30.07, 30.08, 29.85, 28.5, 29.88]</td>\n",
       "      <td>[0.72, 0, 0, 0, 0, 0, 0.42]</td>\n",
       "      <td>[light rain, clear sky, clear sky, broken clou...</td>\n",
       "      <td>42.525050</td>\n",
       "      <td>3.083155</td>\n",
       "      <td>28.961429</td>\n",
       "      <td>0.162857</td>\n",
       "    </tr>\n",
       "    <tr>\n",
       "      <th>1307</th>\n",
       "      <td>Avignon</td>\n",
       "      <td>Lumineuse Maison de Ville - Piscine - Intramuros</td>\n",
       "      <td>https://www.booking.com/hotel/fr/lumineuse-mai...</td>\n",
       "      <td>10.0</td>\n",
       "      <td>Managed by a private host</td>\n",
       "      <td>43.944238</td>\n",
       "      <td>4.811159</td>\n",
       "      <td>[22.33, 27.95, 30.41, 29.89, 30.33, 31.61, 33.96]</td>\n",
       "      <td>[0.99, 0.47, 0, 0, 0, 0, 0]</td>\n",
       "      <td>[moderate rain, light rain, clear sky, scatter...</td>\n",
       "      <td>43.949249</td>\n",
       "      <td>4.805901</td>\n",
       "      <td>29.497143</td>\n",
       "      <td>0.208571</td>\n",
       "    </tr>\n",
       "    <tr>\n",
       "      <th>1637</th>\n",
       "      <td>Nimes</td>\n",
       "      <td>Un petit PARADIS, CENTRE VILLE de Nîmes</td>\n",
       "      <td>https://www.booking.com/hotel/fr/un-petit-para...</td>\n",
       "      <td>10.0</td>\n",
       "      <td>Managed by a private host</td>\n",
       "      <td>43.836316</td>\n",
       "      <td>4.358485</td>\n",
       "      <td>[24.75, 30.17, 31.88, 31.56, 31.6, 31.08, 32.9]</td>\n",
       "      <td>[0.87, 0.14, 0, 0, 0, 0, 0]</td>\n",
       "      <td>[light rain, clear sky, clear sky, broken clou...</td>\n",
       "      <td>43.837425</td>\n",
       "      <td>4.360069</td>\n",
       "      <td>30.562857</td>\n",
       "      <td>0.144286</td>\n",
       "    </tr>\n",
       "    <tr>\n",
       "      <th>1652</th>\n",
       "      <td>Nimes</td>\n",
       "      <td>La Pimprenelle - Enjoy the peace and quiet in ...</td>\n",
       "      <td>https://www.booking.com/hotel/fr/la-pimprenell...</td>\n",
       "      <td>10.0</td>\n",
       "      <td>Situated in Nîmes, 7 km from Parc Expo Nîmes a...</td>\n",
       "      <td>43.879131</td>\n",
       "      <td>4.377070</td>\n",
       "      <td>[24.75, 30.17, 31.88, 31.56, 31.6, 31.08, 32.9]</td>\n",
       "      <td>[0.87, 0.14, 0, 0, 0, 0, 0]</td>\n",
       "      <td>[light rain, clear sky, clear sky, broken clou...</td>\n",
       "      <td>43.837425</td>\n",
       "      <td>4.360069</td>\n",
       "      <td>30.562857</td>\n",
       "      <td>0.144286</td>\n",
       "    </tr>\n",
       "    <tr>\n",
       "      <th>2098</th>\n",
       "      <td>Uzes</td>\n",
       "      <td>la maison des Olivettes</td>\n",
       "      <td>https://www.booking.com/hotel/fr/la-maison-des...</td>\n",
       "      <td>10.0</td>\n",
       "      <td>Managed by a private host</td>\n",
       "      <td>43.998528</td>\n",
       "      <td>4.411169</td>\n",
       "      <td>[23, 28.91, 30.83, 30.55, 30.57, 30.11, 32.79]</td>\n",
       "      <td>[0.96, 0.2, 0, 0, 0, 0, 0]</td>\n",
       "      <td>[moderate rain, clear sky, clear sky, broken c...</td>\n",
       "      <td>44.012128</td>\n",
       "      <td>4.419672</td>\n",
       "      <td>29.537143</td>\n",
       "      <td>0.165714</td>\n",
       "    </tr>\n",
       "    <tr>\n",
       "      <th>1357</th>\n",
       "      <td>Avignon</td>\n",
       "      <td>Le Clos Saluces</td>\n",
       "      <td>https://www.booking.com/hotel/fr/le-clos-saluc...</td>\n",
       "      <td>9.9</td>\n",
       "      <td>Offering a flowered furnished garden and a pat...</td>\n",
       "      <td>43.950193</td>\n",
       "      <td>4.810586</td>\n",
       "      <td>[22.33, 27.95, 30.41, 29.89, 30.33, 31.61, 33.96]</td>\n",
       "      <td>[0.99, 0.47, 0, 0, 0, 0, 0]</td>\n",
       "      <td>[moderate rain, light rain, clear sky, scatter...</td>\n",
       "      <td>43.949249</td>\n",
       "      <td>4.805901</td>\n",
       "      <td>29.497143</td>\n",
       "      <td>0.208571</td>\n",
       "    </tr>\n",
       "    <tr>\n",
       "      <th>2079</th>\n",
       "      <td>Uzes</td>\n",
       "      <td>Le domaine des Oréades</td>\n",
       "      <td>https://www.booking.com/hotel/fr/le-domaine-de...</td>\n",
       "      <td>9.8</td>\n",
       "      <td>Managed by a private host</td>\n",
       "      <td>44.037437</td>\n",
       "      <td>4.452160</td>\n",
       "      <td>[23, 28.91, 30.83, 30.55, 30.57, 30.11, 32.79]</td>\n",
       "      <td>[0.96, 0.2, 0, 0, 0, 0, 0]</td>\n",
       "      <td>[moderate rain, clear sky, clear sky, broken c...</td>\n",
       "      <td>44.012128</td>\n",
       "      <td>4.419672</td>\n",
       "      <td>29.537143</td>\n",
       "      <td>0.165714</td>\n",
       "    </tr>\n",
       "    <tr>\n",
       "      <th>2136</th>\n",
       "      <td>Nimes</td>\n",
       "      <td>Antichambre</td>\n",
       "      <td>https://www.booking.com/hotel/fr/antichambre.e...</td>\n",
       "      <td>9.8</td>\n",
       "      <td>Located within 1.9 km of Parc Expo Nîmes and a...</td>\n",
       "      <td>43.834472</td>\n",
       "      <td>4.356771</td>\n",
       "      <td>[24.75, 30.17, 31.88, 31.56, 31.6, 31.08, 32.9]</td>\n",
       "      <td>[0.87, 0.14, 0, 0, 0, 0, 0]</td>\n",
       "      <td>[light rain, clear sky, clear sky, broken clou...</td>\n",
       "      <td>43.837425</td>\n",
       "      <td>4.360069</td>\n",
       "      <td>30.562857</td>\n",
       "      <td>0.144286</td>\n",
       "    </tr>\n",
       "    <tr>\n",
       "      <th>1628</th>\n",
       "      <td>Nimes</td>\n",
       "      <td>Le Chant Des Oiseaux</td>\n",
       "      <td>https://www.booking.com/hotel/fr/le-chant-des-...</td>\n",
       "      <td>9.8</td>\n",
       "      <td>Managed by a private host</td>\n",
       "      <td>43.859178</td>\n",
       "      <td>4.370178</td>\n",
       "      <td>[24.75, 30.17, 31.88, 31.56, 31.6, 31.08, 32.9]</td>\n",
       "      <td>[0.87, 0.14, 0, 0, 0, 0, 0]</td>\n",
       "      <td>[light rain, clear sky, clear sky, broken clou...</td>\n",
       "      <td>43.837425</td>\n",
       "      <td>4.360069</td>\n",
       "      <td>30.562857</td>\n",
       "      <td>0.144286</td>\n",
       "    </tr>\n",
       "    <tr>\n",
       "      <th>2061</th>\n",
       "      <td>Uzes</td>\n",
       "      <td>Appartement de charme dans le cœur historique ...</td>\n",
       "      <td>https://www.booking.com/hotel/fr/appartement-d...</td>\n",
       "      <td>9.7</td>\n",
       "      <td>Managed by a private host</td>\n",
       "      <td>44.012505</td>\n",
       "      <td>4.420930</td>\n",
       "      <td>[23, 28.91, 30.83, 30.55, 30.57, 30.11, 32.79]</td>\n",
       "      <td>[0.96, 0.2, 0, 0, 0, 0, 0]</td>\n",
       "      <td>[moderate rain, clear sky, clear sky, broken c...</td>\n",
       "      <td>44.012128</td>\n",
       "      <td>4.419672</td>\n",
       "      <td>29.537143</td>\n",
       "      <td>0.165714</td>\n",
       "    </tr>\n",
       "    <tr>\n",
       "      <th>2080</th>\n",
       "      <td>Uzes</td>\n",
       "      <td>Les Canisses, magnifique appartement avec terr...</td>\n",
       "      <td>https://www.booking.com/hotel/fr/magnifique-ap...</td>\n",
       "      <td>9.7</td>\n",
       "      <td>Managed by a private host</td>\n",
       "      <td>44.013545</td>\n",
       "      <td>4.417073</td>\n",
       "      <td>[23, 28.91, 30.83, 30.55, 30.57, 30.11, 32.79]</td>\n",
       "      <td>[0.96, 0.2, 0, 0, 0, 0, 0]</td>\n",
       "      <td>[moderate rain, clear sky, clear sky, broken c...</td>\n",
       "      <td>44.012128</td>\n",
       "      <td>4.419672</td>\n",
       "      <td>29.537143</td>\n",
       "      <td>0.165714</td>\n",
       "    </tr>\n",
       "    <tr>\n",
       "      <th>1686</th>\n",
       "      <td>Carcassonne</td>\n",
       "      <td>B&amp;B La Maison Vintage</td>\n",
       "      <td>https://www.booking.com/hotel/fr/la-maison-vin...</td>\n",
       "      <td>9.7</td>\n",
       "      <td>Located in Carcassonne, a 20-minute walk from ...</td>\n",
       "      <td>43.215850</td>\n",
       "      <td>2.346006</td>\n",
       "      <td>[22.43, 25.44, 29.86, 29.93, 29.11, 34.84, 31.65]</td>\n",
       "      <td>[0.51, 0.24, 0, 0.01, 0, 0, 0.42]</td>\n",
       "      <td>[overcast clouds, light rain, clear sky, broke...</td>\n",
       "      <td>43.213036</td>\n",
       "      <td>2.349107</td>\n",
       "      <td>29.037143</td>\n",
       "      <td>0.168571</td>\n",
       "    </tr>\n",
       "    <tr>\n",
       "      <th>1353</th>\n",
       "      <td>Avignon</td>\n",
       "      <td>La Maison Grivolas</td>\n",
       "      <td>https://www.booking.com/hotel/fr/la-maison-gri...</td>\n",
       "      <td>9.7</td>\n",
       "      <td>500 metres from Papal Palace, La Maison Grivol...</td>\n",
       "      <td>43.951836</td>\n",
       "      <td>4.812205</td>\n",
       "      <td>[22.33, 27.95, 30.41, 29.89, 30.33, 31.61, 33.96]</td>\n",
       "      <td>[0.99, 0.47, 0, 0, 0, 0, 0]</td>\n",
       "      <td>[moderate rain, light rain, clear sky, scatter...</td>\n",
       "      <td>43.949249</td>\n",
       "      <td>4.805901</td>\n",
       "      <td>29.497143</td>\n",
       "      <td>0.208571</td>\n",
       "    </tr>\n",
       "    <tr>\n",
       "      <th>1694</th>\n",
       "      <td>Collioure</td>\n",
       "      <td>AZUR-Les pieds dans l'eau-Vue sur Mer et Cloch...</td>\n",
       "      <td>https://www.booking.com/hotel/fr/saphir-collio...</td>\n",
       "      <td>9.7</td>\n",
       "      <td>Managed by a private host</td>\n",
       "      <td>42.524050</td>\n",
       "      <td>3.096553</td>\n",
       "      <td>[26.71, 27.64, 30.07, 30.08, 29.85, 28.5, 29.88]</td>\n",
       "      <td>[0.72, 0, 0, 0, 0, 0, 0.42]</td>\n",
       "      <td>[light rain, clear sky, clear sky, broken clou...</td>\n",
       "      <td>42.525050</td>\n",
       "      <td>3.083155</td>\n",
       "      <td>28.961429</td>\n",
       "      <td>0.162857</td>\n",
       "    </tr>\n",
       "    <tr>\n",
       "      <th>1351</th>\n",
       "      <td>Avignon</td>\n",
       "      <td>Face au Palais</td>\n",
       "      <td>https://www.booking.com/hotel/fr/le-jardin-du-...</td>\n",
       "      <td>9.7</td>\n",
       "      <td>Managed by a private host</td>\n",
       "      <td>43.950951</td>\n",
       "      <td>4.806201</td>\n",
       "      <td>[22.33, 27.95, 30.41, 29.89, 30.33, 31.61, 33.96]</td>\n",
       "      <td>[0.99, 0.47, 0, 0, 0, 0, 0]</td>\n",
       "      <td>[moderate rain, light rain, clear sky, scatter...</td>\n",
       "      <td>43.949249</td>\n",
       "      <td>4.805901</td>\n",
       "      <td>29.497143</td>\n",
       "      <td>0.208571</td>\n",
       "    </tr>\n",
       "    <tr>\n",
       "      <th>2084</th>\n",
       "      <td>Uzes</td>\n",
       "      <td>Mas d orient</td>\n",
       "      <td>https://www.booking.com/hotel/fr/mas-d-orient-...</td>\n",
       "      <td>9.7</td>\n",
       "      <td>Managed by a private host</td>\n",
       "      <td>44.020244</td>\n",
       "      <td>4.409254</td>\n",
       "      <td>[23, 28.91, 30.83, 30.55, 30.57, 30.11, 32.79]</td>\n",
       "      <td>[0.96, 0.2, 0, 0, 0, 0, 0]</td>\n",
       "      <td>[moderate rain, clear sky, clear sky, broken c...</td>\n",
       "      <td>44.012128</td>\n",
       "      <td>4.419672</td>\n",
       "      <td>29.537143</td>\n",
       "      <td>0.165714</td>\n",
       "    </tr>\n",
       "    <tr>\n",
       "      <th>2111</th>\n",
       "      <td>Uzes</td>\n",
       "      <td>L'Albiousse</td>\n",
       "      <td>https://www.booking.com/hotel/fr/l-39-albiouss...</td>\n",
       "      <td>9.7</td>\n",
       "      <td>Situated in Uzès, 43 km from Vallon-Pont-dʼArc...</td>\n",
       "      <td>44.012720</td>\n",
       "      <td>4.421124</td>\n",
       "      <td>[23, 28.91, 30.83, 30.55, 30.57, 30.11, 32.79]</td>\n",
       "      <td>[0.96, 0.2, 0, 0, 0, 0, 0]</td>\n",
       "      <td>[moderate rain, clear sky, clear sky, broken c...</td>\n",
       "      <td>44.012128</td>\n",
       "      <td>4.419672</td>\n",
       "      <td>29.537143</td>\n",
       "      <td>0.165714</td>\n",
       "    </tr>\n",
       "    <tr>\n",
       "      <th>1699</th>\n",
       "      <td>Collioure</td>\n",
       "      <td>Boramar</td>\n",
       "      <td>https://www.booking.com/hotel/fr/boramar.en-gb...</td>\n",
       "      <td>9.7</td>\n",
       "      <td>Managed by a private host</td>\n",
       "      <td>42.527543</td>\n",
       "      <td>3.085355</td>\n",
       "      <td>[26.71, 27.64, 30.07, 30.08, 29.85, 28.5, 29.88]</td>\n",
       "      <td>[0.72, 0, 0, 0, 0, 0, 0.42]</td>\n",
       "      <td>[light rain, clear sky, clear sky, broken clou...</td>\n",
       "      <td>42.525050</td>\n",
       "      <td>3.083155</td>\n",
       "      <td>28.961429</td>\n",
       "      <td>0.162857</td>\n",
       "    </tr>\n",
       "    <tr>\n",
       "      <th>1655</th>\n",
       "      <td>Nimes</td>\n",
       "      <td>Le 26</td>\n",
       "      <td>https://www.booking.com/hotel/fr/le-26-nimes1....</td>\n",
       "      <td>9.7</td>\n",
       "      <td>Managed by a private host</td>\n",
       "      <td>43.843922</td>\n",
       "      <td>4.355830</td>\n",
       "      <td>[24.75, 30.17, 31.88, 31.56, 31.6, 31.08, 32.9]</td>\n",
       "      <td>[0.87, 0.14, 0, 0, 0, 0, 0]</td>\n",
       "      <td>[light rain, clear sky, clear sky, broken clou...</td>\n",
       "      <td>43.837425</td>\n",
       "      <td>4.360069</td>\n",
       "      <td>30.562857</td>\n",
       "      <td>0.144286</td>\n",
       "    </tr>\n",
       "    <tr>\n",
       "      <th>1342</th>\n",
       "      <td>Avignon</td>\n",
       "      <td>Bastide de Bellegarde</td>\n",
       "      <td>https://www.booking.com/hotel/fr/bastide-de-be...</td>\n",
       "      <td>9.7</td>\n",
       "      <td>With Papal Palace reachable in 2.9 km, Bastide...</td>\n",
       "      <td>43.975040</td>\n",
       "      <td>4.822944</td>\n",
       "      <td>[22.33, 27.95, 30.41, 29.89, 30.33, 31.61, 33.96]</td>\n",
       "      <td>[0.99, 0.47, 0, 0, 0, 0, 0]</td>\n",
       "      <td>[moderate rain, light rain, clear sky, scatter...</td>\n",
       "      <td>43.949249</td>\n",
       "      <td>4.805901</td>\n",
       "      <td>29.497143</td>\n",
       "      <td>0.208571</td>\n",
       "    </tr>\n",
       "  </tbody>\n",
       "</table>\n",
       "</div>"
      ],
      "text/plain": [
       "             City                                               name  \\\n",
       "1692    Collioure  BEL APPARTEMENT 4Pers RDC/parking/terrasse/ ja...   \n",
       "1307      Avignon   Lumineuse Maison de Ville - Piscine - Intramuros   \n",
       "1637        Nimes            Un petit PARADIS, CENTRE VILLE de Nîmes   \n",
       "1652        Nimes  La Pimprenelle - Enjoy the peace and quiet in ...   \n",
       "2098         Uzes                            la maison des Olivettes   \n",
       "1357      Avignon                                    Le Clos Saluces   \n",
       "2079         Uzes                             Le domaine des Oréades   \n",
       "2136        Nimes                                        Antichambre   \n",
       "1628        Nimes                               Le Chant Des Oiseaux   \n",
       "2061         Uzes  Appartement de charme dans le cœur historique ...   \n",
       "2080         Uzes  Les Canisses, magnifique appartement avec terr...   \n",
       "1686  Carcassonne                              B&B La Maison Vintage   \n",
       "1353      Avignon                                 La Maison Grivolas   \n",
       "1694    Collioure  AZUR-Les pieds dans l'eau-Vue sur Mer et Cloch...   \n",
       "1351      Avignon                                     Face au Palais   \n",
       "2084         Uzes                                       Mas d orient   \n",
       "2111         Uzes                                        L'Albiousse   \n",
       "1699    Collioure                                            Boramar   \n",
       "1655        Nimes                                              Le 26   \n",
       "1342      Avignon                              Bastide de Bellegarde   \n",
       "\n",
       "                                                    url  score  \\\n",
       "1692  https://www.booking.com/hotel/fr/bel-apparteme...   10.0   \n",
       "1307  https://www.booking.com/hotel/fr/lumineuse-mai...   10.0   \n",
       "1637  https://www.booking.com/hotel/fr/un-petit-para...   10.0   \n",
       "1652  https://www.booking.com/hotel/fr/la-pimprenell...   10.0   \n",
       "2098  https://www.booking.com/hotel/fr/la-maison-des...   10.0   \n",
       "1357  https://www.booking.com/hotel/fr/le-clos-saluc...    9.9   \n",
       "2079  https://www.booking.com/hotel/fr/le-domaine-de...    9.8   \n",
       "2136  https://www.booking.com/hotel/fr/antichambre.e...    9.8   \n",
       "1628  https://www.booking.com/hotel/fr/le-chant-des-...    9.8   \n",
       "2061  https://www.booking.com/hotel/fr/appartement-d...    9.7   \n",
       "2080  https://www.booking.com/hotel/fr/magnifique-ap...    9.7   \n",
       "1686  https://www.booking.com/hotel/fr/la-maison-vin...    9.7   \n",
       "1353  https://www.booking.com/hotel/fr/la-maison-gri...    9.7   \n",
       "1694  https://www.booking.com/hotel/fr/saphir-collio...    9.7   \n",
       "1351  https://www.booking.com/hotel/fr/le-jardin-du-...    9.7   \n",
       "2084  https://www.booking.com/hotel/fr/mas-d-orient-...    9.7   \n",
       "2111  https://www.booking.com/hotel/fr/l-39-albiouss...    9.7   \n",
       "1699  https://www.booking.com/hotel/fr/boramar.en-gb...    9.7   \n",
       "1655  https://www.booking.com/hotel/fr/le-26-nimes1....    9.7   \n",
       "1342  https://www.booking.com/hotel/fr/bastide-de-be...    9.7   \n",
       "\n",
       "                                            description        lat       lon  \\\n",
       "1692  BEL APPARTEMENT 4Pers RDC/parking/terrasse/ ja...  42.528363  3.078163   \n",
       "1307                          Managed by a private host  43.944238  4.811159   \n",
       "1637                          Managed by a private host  43.836316  4.358485   \n",
       "1652  Situated in Nîmes, 7 km from Parc Expo Nîmes a...  43.879131  4.377070   \n",
       "2098                          Managed by a private host  43.998528  4.411169   \n",
       "1357  Offering a flowered furnished garden and a pat...  43.950193  4.810586   \n",
       "2079                          Managed by a private host  44.037437  4.452160   \n",
       "2136  Located within 1.9 km of Parc Expo Nîmes and a...  43.834472  4.356771   \n",
       "1628                          Managed by a private host  43.859178  4.370178   \n",
       "2061                          Managed by a private host  44.012505  4.420930   \n",
       "2080                          Managed by a private host  44.013545  4.417073   \n",
       "1686  Located in Carcassonne, a 20-minute walk from ...  43.215850  2.346006   \n",
       "1353  500 metres from Papal Palace, La Maison Grivol...  43.951836  4.812205   \n",
       "1694                          Managed by a private host  42.524050  3.096553   \n",
       "1351                          Managed by a private host  43.950951  4.806201   \n",
       "2084                          Managed by a private host  44.020244  4.409254   \n",
       "2111  Situated in Uzès, 43 km from Vallon-Pont-dʼArc...  44.012720  4.421124   \n",
       "1699                          Managed by a private host  42.527543  3.085355   \n",
       "1655                          Managed by a private host  43.843922  4.355830   \n",
       "1342  With Papal Palace reachable in 2.9 km, Bastide...  43.975040  4.822944   \n",
       "\n",
       "                                      7days_temperature  \\\n",
       "1692   [26.71, 27.64, 30.07, 30.08, 29.85, 28.5, 29.88]   \n",
       "1307  [22.33, 27.95, 30.41, 29.89, 30.33, 31.61, 33.96]   \n",
       "1637    [24.75, 30.17, 31.88, 31.56, 31.6, 31.08, 32.9]   \n",
       "1652    [24.75, 30.17, 31.88, 31.56, 31.6, 31.08, 32.9]   \n",
       "2098     [23, 28.91, 30.83, 30.55, 30.57, 30.11, 32.79]   \n",
       "1357  [22.33, 27.95, 30.41, 29.89, 30.33, 31.61, 33.96]   \n",
       "2079     [23, 28.91, 30.83, 30.55, 30.57, 30.11, 32.79]   \n",
       "2136    [24.75, 30.17, 31.88, 31.56, 31.6, 31.08, 32.9]   \n",
       "1628    [24.75, 30.17, 31.88, 31.56, 31.6, 31.08, 32.9]   \n",
       "2061     [23, 28.91, 30.83, 30.55, 30.57, 30.11, 32.79]   \n",
       "2080     [23, 28.91, 30.83, 30.55, 30.57, 30.11, 32.79]   \n",
       "1686  [22.43, 25.44, 29.86, 29.93, 29.11, 34.84, 31.65]   \n",
       "1353  [22.33, 27.95, 30.41, 29.89, 30.33, 31.61, 33.96]   \n",
       "1694   [26.71, 27.64, 30.07, 30.08, 29.85, 28.5, 29.88]   \n",
       "1351  [22.33, 27.95, 30.41, 29.89, 30.33, 31.61, 33.96]   \n",
       "2084     [23, 28.91, 30.83, 30.55, 30.57, 30.11, 32.79]   \n",
       "2111     [23, 28.91, 30.83, 30.55, 30.57, 30.11, 32.79]   \n",
       "1699   [26.71, 27.64, 30.07, 30.08, 29.85, 28.5, 29.88]   \n",
       "1655    [24.75, 30.17, 31.88, 31.56, 31.6, 31.08, 32.9]   \n",
       "1342  [22.33, 27.95, 30.41, 29.89, 30.33, 31.61, 33.96]   \n",
       "\n",
       "                    7days_precipitation  \\\n",
       "1692        [0.72, 0, 0, 0, 0, 0, 0.42]   \n",
       "1307        [0.99, 0.47, 0, 0, 0, 0, 0]   \n",
       "1637        [0.87, 0.14, 0, 0, 0, 0, 0]   \n",
       "1652        [0.87, 0.14, 0, 0, 0, 0, 0]   \n",
       "2098         [0.96, 0.2, 0, 0, 0, 0, 0]   \n",
       "1357        [0.99, 0.47, 0, 0, 0, 0, 0]   \n",
       "2079         [0.96, 0.2, 0, 0, 0, 0, 0]   \n",
       "2136        [0.87, 0.14, 0, 0, 0, 0, 0]   \n",
       "1628        [0.87, 0.14, 0, 0, 0, 0, 0]   \n",
       "2061         [0.96, 0.2, 0, 0, 0, 0, 0]   \n",
       "2080         [0.96, 0.2, 0, 0, 0, 0, 0]   \n",
       "1686  [0.51, 0.24, 0, 0.01, 0, 0, 0.42]   \n",
       "1353        [0.99, 0.47, 0, 0, 0, 0, 0]   \n",
       "1694        [0.72, 0, 0, 0, 0, 0, 0.42]   \n",
       "1351        [0.99, 0.47, 0, 0, 0, 0, 0]   \n",
       "2084         [0.96, 0.2, 0, 0, 0, 0, 0]   \n",
       "2111         [0.96, 0.2, 0, 0, 0, 0, 0]   \n",
       "1699        [0.72, 0, 0, 0, 0, 0, 0.42]   \n",
       "1655        [0.87, 0.14, 0, 0, 0, 0, 0]   \n",
       "1342        [0.99, 0.47, 0, 0, 0, 0, 0]   \n",
       "\n",
       "                              7days_weather_description   City_Lat  City_Lon  \\\n",
       "1692  [light rain, clear sky, clear sky, broken clou...  42.525050  3.083155   \n",
       "1307  [moderate rain, light rain, clear sky, scatter...  43.949249  4.805901   \n",
       "1637  [light rain, clear sky, clear sky, broken clou...  43.837425  4.360069   \n",
       "1652  [light rain, clear sky, clear sky, broken clou...  43.837425  4.360069   \n",
       "2098  [moderate rain, clear sky, clear sky, broken c...  44.012128  4.419672   \n",
       "1357  [moderate rain, light rain, clear sky, scatter...  43.949249  4.805901   \n",
       "2079  [moderate rain, clear sky, clear sky, broken c...  44.012128  4.419672   \n",
       "2136  [light rain, clear sky, clear sky, broken clou...  43.837425  4.360069   \n",
       "1628  [light rain, clear sky, clear sky, broken clou...  43.837425  4.360069   \n",
       "2061  [moderate rain, clear sky, clear sky, broken c...  44.012128  4.419672   \n",
       "2080  [moderate rain, clear sky, clear sky, broken c...  44.012128  4.419672   \n",
       "1686  [overcast clouds, light rain, clear sky, broke...  43.213036  2.349107   \n",
       "1353  [moderate rain, light rain, clear sky, scatter...  43.949249  4.805901   \n",
       "1694  [light rain, clear sky, clear sky, broken clou...  42.525050  3.083155   \n",
       "1351  [moderate rain, light rain, clear sky, scatter...  43.949249  4.805901   \n",
       "2084  [moderate rain, clear sky, clear sky, broken c...  44.012128  4.419672   \n",
       "2111  [moderate rain, clear sky, clear sky, broken c...  44.012128  4.419672   \n",
       "1699  [light rain, clear sky, clear sky, broken clou...  42.525050  3.083155   \n",
       "1655  [light rain, clear sky, clear sky, broken clou...  43.837425  4.360069   \n",
       "1342  [moderate rain, light rain, clear sky, scatter...  43.949249  4.805901   \n",
       "\n",
       "      Average_temperature  Average_precipitation  \n",
       "1692            28.961429               0.162857  \n",
       "1307            29.497143               0.208571  \n",
       "1637            30.562857               0.144286  \n",
       "1652            30.562857               0.144286  \n",
       "2098            29.537143               0.165714  \n",
       "1357            29.497143               0.208571  \n",
       "2079            29.537143               0.165714  \n",
       "2136            30.562857               0.144286  \n",
       "1628            30.562857               0.144286  \n",
       "2061            29.537143               0.165714  \n",
       "2080            29.537143               0.165714  \n",
       "1686            29.037143               0.168571  \n",
       "1353            29.497143               0.208571  \n",
       "1694            28.961429               0.162857  \n",
       "1351            29.497143               0.208571  \n",
       "2084            29.537143               0.165714  \n",
       "2111            29.537143               0.165714  \n",
       "1699            28.961429               0.162857  \n",
       "1655            30.562857               0.144286  \n",
       "1342            29.497143               0.208571  "
      ]
     },
     "metadata": {},
     "output_type": "display_data"
    }
   ],
   "source": [
    "# Selecting the 20 best hotels according to the top 5 cities\n",
    "\n",
    "hotels_shortlist = df_complete[ df_complete['City'].isin(top5cities.index)]\n",
    "hotels_shortlist = hotels_shortlist.sort_values('score' , ascending= False).head(20)\n",
    "display(hotels_shortlist)"
   ]
  },
  {
   "cell_type": "code",
   "execution_count": 39,
   "metadata": {},
   "outputs": [
    {
     "data": {
      "application/vnd.plotly.v1+json": {
       "config": {
        "plotlyServerURL": "https://plot.ly"
       },
       "data": [
        {
         "hovertemplate": "Average_temperature=%{marker.color}<br>City_Lat=%{lat}<br>City_Lon=%{lon}<extra></extra>",
         "lat": [
          43.8374249,
          44.0121279,
          43.9492493,
          43.2130358,
          42.52505
         ],
         "legendgroup": "",
         "lon": [
          4.3600687,
          4.4196718,
          4.8059012,
          2.3491069,
          3.0831554
         ],
         "marker": {
          "color": [
           30.562857142857148,
           29.53714285714285,
           29.497142857142855,
           29.037142857142857,
           28.96142857142857
          ],
          "coloraxis": "coloraxis",
          "size": [
           30.562857142857148,
           29.53714285714285,
           29.497142857142855,
           29.037142857142857,
           28.96142857142857
          ],
          "sizemode": "area",
          "sizeref": 0.03395873015873017
         },
         "mode": "markers",
         "name": "",
         "showlegend": false,
         "subplot": "mapbox",
         "type": "scattermapbox"
        }
       ],
       "layout": {
        "coloraxis": {
         "colorbar": {
          "title": {
           "text": "Average_temperature"
          }
         },
         "colorscale": [
          [
           0,
           "rgb(23, 28, 66)"
          ],
          [
           0.09090909090909091,
           "rgb(41, 58, 143)"
          ],
          [
           0.18181818181818182,
           "rgb(11, 102, 189)"
          ],
          [
           0.2727272727272727,
           "rgb(69, 144, 185)"
          ],
          [
           0.36363636363636365,
           "rgb(142, 181, 194)"
          ],
          [
           0.45454545454545453,
           "rgb(210, 216, 219)"
          ],
          [
           0.5454545454545454,
           "rgb(230, 210, 204)"
          ],
          [
           0.6363636363636364,
           "rgb(213, 157, 137)"
          ],
          [
           0.7272727272727273,
           "rgb(196, 101, 72)"
          ],
          [
           0.8181818181818182,
           "rgb(172, 43, 36)"
          ],
          [
           0.9090909090909091,
           "rgb(120, 14, 40)"
          ],
          [
           1,
           "rgb(60, 9, 17)"
          ]
         ]
        },
        "height": 800,
        "legend": {
         "itemsizing": "constant",
         "tracegroupgap": 0
        },
        "mapbox": {
         "center": {
          "lat": 47,
          "lon": 2
         },
         "domain": {
          "x": [
           0,
           1
          ],
          "y": [
           0,
           1
          ]
         },
         "style": "carto-darkmatter",
         "zoom": 4.8
        },
        "margin": {
         "b": 0,
         "l": 0,
         "r": 0,
         "t": 80
        },
        "template": {
         "data": {
          "bar": [
           {
            "error_x": {
             "color": "#f2f5fa"
            },
            "error_y": {
             "color": "#f2f5fa"
            },
            "marker": {
             "line": {
              "color": "rgb(17,17,17)",
              "width": 0.5
             },
             "pattern": {
              "fillmode": "overlay",
              "size": 10,
              "solidity": 0.2
             }
            },
            "type": "bar"
           }
          ],
          "barpolar": [
           {
            "marker": {
             "line": {
              "color": "rgb(17,17,17)",
              "width": 0.5
             },
             "pattern": {
              "fillmode": "overlay",
              "size": 10,
              "solidity": 0.2
             }
            },
            "type": "barpolar"
           }
          ],
          "carpet": [
           {
            "aaxis": {
             "endlinecolor": "#A2B1C6",
             "gridcolor": "#506784",
             "linecolor": "#506784",
             "minorgridcolor": "#506784",
             "startlinecolor": "#A2B1C6"
            },
            "baxis": {
             "endlinecolor": "#A2B1C6",
             "gridcolor": "#506784",
             "linecolor": "#506784",
             "minorgridcolor": "#506784",
             "startlinecolor": "#A2B1C6"
            },
            "type": "carpet"
           }
          ],
          "choropleth": [
           {
            "colorbar": {
             "outlinewidth": 0,
             "ticks": ""
            },
            "type": "choropleth"
           }
          ],
          "contour": [
           {
            "colorbar": {
             "outlinewidth": 0,
             "ticks": ""
            },
            "colorscale": [
             [
              0,
              "#0d0887"
             ],
             [
              0.1111111111111111,
              "#46039f"
             ],
             [
              0.2222222222222222,
              "#7201a8"
             ],
             [
              0.3333333333333333,
              "#9c179e"
             ],
             [
              0.4444444444444444,
              "#bd3786"
             ],
             [
              0.5555555555555556,
              "#d8576b"
             ],
             [
              0.6666666666666666,
              "#ed7953"
             ],
             [
              0.7777777777777778,
              "#fb9f3a"
             ],
             [
              0.8888888888888888,
              "#fdca26"
             ],
             [
              1,
              "#f0f921"
             ]
            ],
            "type": "contour"
           }
          ],
          "contourcarpet": [
           {
            "colorbar": {
             "outlinewidth": 0,
             "ticks": ""
            },
            "type": "contourcarpet"
           }
          ],
          "heatmap": [
           {
            "colorbar": {
             "outlinewidth": 0,
             "ticks": ""
            },
            "colorscale": [
             [
              0,
              "#0d0887"
             ],
             [
              0.1111111111111111,
              "#46039f"
             ],
             [
              0.2222222222222222,
              "#7201a8"
             ],
             [
              0.3333333333333333,
              "#9c179e"
             ],
             [
              0.4444444444444444,
              "#bd3786"
             ],
             [
              0.5555555555555556,
              "#d8576b"
             ],
             [
              0.6666666666666666,
              "#ed7953"
             ],
             [
              0.7777777777777778,
              "#fb9f3a"
             ],
             [
              0.8888888888888888,
              "#fdca26"
             ],
             [
              1,
              "#f0f921"
             ]
            ],
            "type": "heatmap"
           }
          ],
          "heatmapgl": [
           {
            "colorbar": {
             "outlinewidth": 0,
             "ticks": ""
            },
            "colorscale": [
             [
              0,
              "#0d0887"
             ],
             [
              0.1111111111111111,
              "#46039f"
             ],
             [
              0.2222222222222222,
              "#7201a8"
             ],
             [
              0.3333333333333333,
              "#9c179e"
             ],
             [
              0.4444444444444444,
              "#bd3786"
             ],
             [
              0.5555555555555556,
              "#d8576b"
             ],
             [
              0.6666666666666666,
              "#ed7953"
             ],
             [
              0.7777777777777778,
              "#fb9f3a"
             ],
             [
              0.8888888888888888,
              "#fdca26"
             ],
             [
              1,
              "#f0f921"
             ]
            ],
            "type": "heatmapgl"
           }
          ],
          "histogram": [
           {
            "marker": {
             "pattern": {
              "fillmode": "overlay",
              "size": 10,
              "solidity": 0.2
             }
            },
            "type": "histogram"
           }
          ],
          "histogram2d": [
           {
            "colorbar": {
             "outlinewidth": 0,
             "ticks": ""
            },
            "colorscale": [
             [
              0,
              "#0d0887"
             ],
             [
              0.1111111111111111,
              "#46039f"
             ],
             [
              0.2222222222222222,
              "#7201a8"
             ],
             [
              0.3333333333333333,
              "#9c179e"
             ],
             [
              0.4444444444444444,
              "#bd3786"
             ],
             [
              0.5555555555555556,
              "#d8576b"
             ],
             [
              0.6666666666666666,
              "#ed7953"
             ],
             [
              0.7777777777777778,
              "#fb9f3a"
             ],
             [
              0.8888888888888888,
              "#fdca26"
             ],
             [
              1,
              "#f0f921"
             ]
            ],
            "type": "histogram2d"
           }
          ],
          "histogram2dcontour": [
           {
            "colorbar": {
             "outlinewidth": 0,
             "ticks": ""
            },
            "colorscale": [
             [
              0,
              "#0d0887"
             ],
             [
              0.1111111111111111,
              "#46039f"
             ],
             [
              0.2222222222222222,
              "#7201a8"
             ],
             [
              0.3333333333333333,
              "#9c179e"
             ],
             [
              0.4444444444444444,
              "#bd3786"
             ],
             [
              0.5555555555555556,
              "#d8576b"
             ],
             [
              0.6666666666666666,
              "#ed7953"
             ],
             [
              0.7777777777777778,
              "#fb9f3a"
             ],
             [
              0.8888888888888888,
              "#fdca26"
             ],
             [
              1,
              "#f0f921"
             ]
            ],
            "type": "histogram2dcontour"
           }
          ],
          "mesh3d": [
           {
            "colorbar": {
             "outlinewidth": 0,
             "ticks": ""
            },
            "type": "mesh3d"
           }
          ],
          "parcoords": [
           {
            "line": {
             "colorbar": {
              "outlinewidth": 0,
              "ticks": ""
             }
            },
            "type": "parcoords"
           }
          ],
          "pie": [
           {
            "automargin": true,
            "type": "pie"
           }
          ],
          "scatter": [
           {
            "marker": {
             "line": {
              "color": "#283442"
             }
            },
            "type": "scatter"
           }
          ],
          "scatter3d": [
           {
            "line": {
             "colorbar": {
              "outlinewidth": 0,
              "ticks": ""
             }
            },
            "marker": {
             "colorbar": {
              "outlinewidth": 0,
              "ticks": ""
             }
            },
            "type": "scatter3d"
           }
          ],
          "scattercarpet": [
           {
            "marker": {
             "colorbar": {
              "outlinewidth": 0,
              "ticks": ""
             }
            },
            "type": "scattercarpet"
           }
          ],
          "scattergeo": [
           {
            "marker": {
             "colorbar": {
              "outlinewidth": 0,
              "ticks": ""
             }
            },
            "type": "scattergeo"
           }
          ],
          "scattergl": [
           {
            "marker": {
             "line": {
              "color": "#283442"
             }
            },
            "type": "scattergl"
           }
          ],
          "scattermapbox": [
           {
            "marker": {
             "colorbar": {
              "outlinewidth": 0,
              "ticks": ""
             }
            },
            "type": "scattermapbox"
           }
          ],
          "scatterpolar": [
           {
            "marker": {
             "colorbar": {
              "outlinewidth": 0,
              "ticks": ""
             }
            },
            "type": "scatterpolar"
           }
          ],
          "scatterpolargl": [
           {
            "marker": {
             "colorbar": {
              "outlinewidth": 0,
              "ticks": ""
             }
            },
            "type": "scatterpolargl"
           }
          ],
          "scatterternary": [
           {
            "marker": {
             "colorbar": {
              "outlinewidth": 0,
              "ticks": ""
             }
            },
            "type": "scatterternary"
           }
          ],
          "surface": [
           {
            "colorbar": {
             "outlinewidth": 0,
             "ticks": ""
            },
            "colorscale": [
             [
              0,
              "#0d0887"
             ],
             [
              0.1111111111111111,
              "#46039f"
             ],
             [
              0.2222222222222222,
              "#7201a8"
             ],
             [
              0.3333333333333333,
              "#9c179e"
             ],
             [
              0.4444444444444444,
              "#bd3786"
             ],
             [
              0.5555555555555556,
              "#d8576b"
             ],
             [
              0.6666666666666666,
              "#ed7953"
             ],
             [
              0.7777777777777778,
              "#fb9f3a"
             ],
             [
              0.8888888888888888,
              "#fdca26"
             ],
             [
              1,
              "#f0f921"
             ]
            ],
            "type": "surface"
           }
          ],
          "table": [
           {
            "cells": {
             "fill": {
              "color": "#506784"
             },
             "line": {
              "color": "rgb(17,17,17)"
             }
            },
            "header": {
             "fill": {
              "color": "#2a3f5f"
             },
             "line": {
              "color": "rgb(17,17,17)"
             }
            },
            "type": "table"
           }
          ]
         },
         "layout": {
          "annotationdefaults": {
           "arrowcolor": "#f2f5fa",
           "arrowhead": 0,
           "arrowwidth": 1
          },
          "autotypenumbers": "strict",
          "coloraxis": {
           "colorbar": {
            "outlinewidth": 0,
            "ticks": ""
           }
          },
          "colorscale": {
           "diverging": [
            [
             0,
             "#8e0152"
            ],
            [
             0.1,
             "#c51b7d"
            ],
            [
             0.2,
             "#de77ae"
            ],
            [
             0.3,
             "#f1b6da"
            ],
            [
             0.4,
             "#fde0ef"
            ],
            [
             0.5,
             "#f7f7f7"
            ],
            [
             0.6,
             "#e6f5d0"
            ],
            [
             0.7,
             "#b8e186"
            ],
            [
             0.8,
             "#7fbc41"
            ],
            [
             0.9,
             "#4d9221"
            ],
            [
             1,
             "#276419"
            ]
           ],
           "sequential": [
            [
             0,
             "#0d0887"
            ],
            [
             0.1111111111111111,
             "#46039f"
            ],
            [
             0.2222222222222222,
             "#7201a8"
            ],
            [
             0.3333333333333333,
             "#9c179e"
            ],
            [
             0.4444444444444444,
             "#bd3786"
            ],
            [
             0.5555555555555556,
             "#d8576b"
            ],
            [
             0.6666666666666666,
             "#ed7953"
            ],
            [
             0.7777777777777778,
             "#fb9f3a"
            ],
            [
             0.8888888888888888,
             "#fdca26"
            ],
            [
             1,
             "#f0f921"
            ]
           ],
           "sequentialminus": [
            [
             0,
             "#0d0887"
            ],
            [
             0.1111111111111111,
             "#46039f"
            ],
            [
             0.2222222222222222,
             "#7201a8"
            ],
            [
             0.3333333333333333,
             "#9c179e"
            ],
            [
             0.4444444444444444,
             "#bd3786"
            ],
            [
             0.5555555555555556,
             "#d8576b"
            ],
            [
             0.6666666666666666,
             "#ed7953"
            ],
            [
             0.7777777777777778,
             "#fb9f3a"
            ],
            [
             0.8888888888888888,
             "#fdca26"
            ],
            [
             1,
             "#f0f921"
            ]
           ]
          },
          "colorway": [
           "#636efa",
           "#EF553B",
           "#00cc96",
           "#ab63fa",
           "#FFA15A",
           "#19d3f3",
           "#FF6692",
           "#B6E880",
           "#FF97FF",
           "#FECB52"
          ],
          "font": {
           "color": "#f2f5fa"
          },
          "geo": {
           "bgcolor": "rgb(17,17,17)",
           "lakecolor": "rgb(17,17,17)",
           "landcolor": "rgb(17,17,17)",
           "showlakes": true,
           "showland": true,
           "subunitcolor": "#506784"
          },
          "hoverlabel": {
           "align": "left"
          },
          "hovermode": "closest",
          "mapbox": {
           "style": "dark"
          },
          "paper_bgcolor": "rgb(17,17,17)",
          "plot_bgcolor": "rgb(17,17,17)",
          "polar": {
           "angularaxis": {
            "gridcolor": "#506784",
            "linecolor": "#506784",
            "ticks": ""
           },
           "bgcolor": "rgb(17,17,17)",
           "radialaxis": {
            "gridcolor": "#506784",
            "linecolor": "#506784",
            "ticks": ""
           }
          },
          "scene": {
           "xaxis": {
            "backgroundcolor": "rgb(17,17,17)",
            "gridcolor": "#506784",
            "gridwidth": 2,
            "linecolor": "#506784",
            "showbackground": true,
            "ticks": "",
            "zerolinecolor": "#C8D4E3"
           },
           "yaxis": {
            "backgroundcolor": "rgb(17,17,17)",
            "gridcolor": "#506784",
            "gridwidth": 2,
            "linecolor": "#506784",
            "showbackground": true,
            "ticks": "",
            "zerolinecolor": "#C8D4E3"
           },
           "zaxis": {
            "backgroundcolor": "rgb(17,17,17)",
            "gridcolor": "#506784",
            "gridwidth": 2,
            "linecolor": "#506784",
            "showbackground": true,
            "ticks": "",
            "zerolinecolor": "#C8D4E3"
           }
          },
          "shapedefaults": {
           "line": {
            "color": "#f2f5fa"
           }
          },
          "sliderdefaults": {
           "bgcolor": "#C8D4E3",
           "bordercolor": "rgb(17,17,17)",
           "borderwidth": 1,
           "tickwidth": 0
          },
          "ternary": {
           "aaxis": {
            "gridcolor": "#506784",
            "linecolor": "#506784",
            "ticks": ""
           },
           "baxis": {
            "gridcolor": "#506784",
            "linecolor": "#506784",
            "ticks": ""
           },
           "bgcolor": "rgb(17,17,17)",
           "caxis": {
            "gridcolor": "#506784",
            "linecolor": "#506784",
            "ticks": ""
           }
          },
          "title": {
           "x": 0.05
          },
          "updatemenudefaults": {
           "bgcolor": "#506784",
           "borderwidth": 0
          },
          "xaxis": {
           "automargin": true,
           "gridcolor": "#283442",
           "linecolor": "#506784",
           "ticks": "",
           "title": {
            "standoff": 15
           },
           "zerolinecolor": "#283442",
           "zerolinewidth": 2
          },
          "yaxis": {
           "automargin": true,
           "gridcolor": "#283442",
           "linecolor": "#506784",
           "ticks": "",
           "title": {
            "standoff": 15
           },
           "zerolinecolor": "#283442",
           "zerolinewidth": 2
          }
         }
        },
        "title": {
         "text": "Weather map of top 5 cities",
         "x": 0.5
        },
        "width": 1000
       }
      }
     },
     "metadata": {},
     "output_type": "display_data"
    }
   ],
   "source": [
    "# Display weather map\n",
    "fig = px.scatter_mapbox(top5cities,\n",
    "                        title='Weather map of top 5 cities',\n",
    "                        lat = 'City_Lat',\n",
    "                        lon = 'City_Lon',\n",
    "                        color = 'Average_temperature',\n",
    "                        color_continuous_scale = px.colors.diverging.balance,\n",
    "                        size = 'Average_temperature',\n",
    "                        size_max = 30,\n",
    "                        )\n",
    "fig.update_layout(width = 1000,\n",
    "                  height = 800,\n",
    "                  title_x = 0.5, \n",
    "                  template = 'plotly_dark',\n",
    "                  mapbox = {\"style\": \"carto-darkmatter\", \"center\": {\"lon\": 2, \"lat\" : 47}, \"zoom\": 4.8},\n",
    "                  margin = {\"l\": 0, \"r\": 0, \"b\": 0, \"t\": 80},\n",
    "                  )\n",
    "\n",
    "fig.show()"
   ]
  },
  {
   "cell_type": "code",
   "execution_count": 42,
   "metadata": {},
   "outputs": [
    {
     "data": {
      "application/vnd.plotly.v1+json": {
       "config": {
        "plotlyServerURL": "https://plot.ly"
       },
       "data": [
        {
         "hovertemplate": "score=%{marker.color}<br>lat=%{lat}<br>lon=%{lon}<extra></extra>",
         "lat": [
          42.52836258,
          43.94423832,
          43.8363164,
          43.8791313,
          43.99852802,
          43.9501934,
          44.037437,
          43.834472,
          43.8591775,
          44.01250536,
          44.0135452,
          43.21585029,
          43.951836,
          42.52404982,
          43.9509511,
          44.020244,
          44.01271969,
          42.527543,
          43.8439216,
          43.97504
         ],
         "legendgroup": "",
         "lon": [
          3.07816333,
          4.81115896,
          4.3584847,
          4.3770704,
          4.41116879,
          4.81058627,
          4.45216,
          4.356771,
          4.3701776,
          4.42093049,
          4.4170735,
          2.34600578,
          4.812205,
          3.09655284,
          4.8062009,
          4.409254,
          4.42112376,
          3.085355,
          4.3558305,
          4.822944
         ],
         "marker": {
          "color": [
           10,
           10,
           10,
           10,
           10,
           9.9,
           9.8,
           9.8,
           9.8,
           9.7,
           9.7,
           9.7,
           9.7,
           9.7,
           9.7,
           9.7,
           9.7,
           9.7,
           9.7,
           9.7
          ],
          "coloraxis": "coloraxis",
          "size": [
           10,
           10,
           10,
           10,
           10,
           9.9,
           9.8,
           9.8,
           9.8,
           9.7,
           9.7,
           9.7,
           9.7,
           9.7,
           9.7,
           9.7,
           9.7,
           9.7,
           9.7,
           9.7
          ],
          "sizemode": "area",
          "sizeref": 0.025
         },
         "mode": "markers",
         "name": "",
         "showlegend": false,
         "subplot": "mapbox",
         "type": "scattermapbox"
        }
       ],
       "layout": {
        "coloraxis": {
         "colorbar": {
          "title": {
           "text": "score"
          }
         },
         "colorscale": [
          [
           0,
           "rgb(0, 155, 158)"
          ],
          [
           0.16666666666666666,
           "rgb(66, 183, 185)"
          ],
          [
           0.3333333333333333,
           "rgb(167, 211, 212)"
          ],
          [
           0.5,
           "rgb(241, 241, 241)"
          ],
          [
           0.6666666666666666,
           "rgb(228, 193, 217)"
          ],
          [
           0.8333333333333334,
           "rgb(214, 145, 193)"
          ],
          [
           1,
           "rgb(199, 93, 171)"
          ]
         ]
        },
        "height": 800,
        "legend": {
         "itemsizing": "constant",
         "tracegroupgap": 0
        },
        "mapbox": {
         "center": {
          "lat": 43.5,
          "lon": 2.6
         },
         "domain": {
          "x": [
           0,
           1
          ],
          "y": [
           0,
           1
          ]
         },
         "style": "carto-darkmatter",
         "zoom": 7
        },
        "margin": {
         "b": 0,
         "l": 0,
         "r": 0,
         "t": 80
        },
        "template": {
         "data": {
          "bar": [
           {
            "error_x": {
             "color": "#f2f5fa"
            },
            "error_y": {
             "color": "#f2f5fa"
            },
            "marker": {
             "line": {
              "color": "rgb(17,17,17)",
              "width": 0.5
             },
             "pattern": {
              "fillmode": "overlay",
              "size": 10,
              "solidity": 0.2
             }
            },
            "type": "bar"
           }
          ],
          "barpolar": [
           {
            "marker": {
             "line": {
              "color": "rgb(17,17,17)",
              "width": 0.5
             },
             "pattern": {
              "fillmode": "overlay",
              "size": 10,
              "solidity": 0.2
             }
            },
            "type": "barpolar"
           }
          ],
          "carpet": [
           {
            "aaxis": {
             "endlinecolor": "#A2B1C6",
             "gridcolor": "#506784",
             "linecolor": "#506784",
             "minorgridcolor": "#506784",
             "startlinecolor": "#A2B1C6"
            },
            "baxis": {
             "endlinecolor": "#A2B1C6",
             "gridcolor": "#506784",
             "linecolor": "#506784",
             "minorgridcolor": "#506784",
             "startlinecolor": "#A2B1C6"
            },
            "type": "carpet"
           }
          ],
          "choropleth": [
           {
            "colorbar": {
             "outlinewidth": 0,
             "ticks": ""
            },
            "type": "choropleth"
           }
          ],
          "contour": [
           {
            "colorbar": {
             "outlinewidth": 0,
             "ticks": ""
            },
            "colorscale": [
             [
              0,
              "#0d0887"
             ],
             [
              0.1111111111111111,
              "#46039f"
             ],
             [
              0.2222222222222222,
              "#7201a8"
             ],
             [
              0.3333333333333333,
              "#9c179e"
             ],
             [
              0.4444444444444444,
              "#bd3786"
             ],
             [
              0.5555555555555556,
              "#d8576b"
             ],
             [
              0.6666666666666666,
              "#ed7953"
             ],
             [
              0.7777777777777778,
              "#fb9f3a"
             ],
             [
              0.8888888888888888,
              "#fdca26"
             ],
             [
              1,
              "#f0f921"
             ]
            ],
            "type": "contour"
           }
          ],
          "contourcarpet": [
           {
            "colorbar": {
             "outlinewidth": 0,
             "ticks": ""
            },
            "type": "contourcarpet"
           }
          ],
          "heatmap": [
           {
            "colorbar": {
             "outlinewidth": 0,
             "ticks": ""
            },
            "colorscale": [
             [
              0,
              "#0d0887"
             ],
             [
              0.1111111111111111,
              "#46039f"
             ],
             [
              0.2222222222222222,
              "#7201a8"
             ],
             [
              0.3333333333333333,
              "#9c179e"
             ],
             [
              0.4444444444444444,
              "#bd3786"
             ],
             [
              0.5555555555555556,
              "#d8576b"
             ],
             [
              0.6666666666666666,
              "#ed7953"
             ],
             [
              0.7777777777777778,
              "#fb9f3a"
             ],
             [
              0.8888888888888888,
              "#fdca26"
             ],
             [
              1,
              "#f0f921"
             ]
            ],
            "type": "heatmap"
           }
          ],
          "heatmapgl": [
           {
            "colorbar": {
             "outlinewidth": 0,
             "ticks": ""
            },
            "colorscale": [
             [
              0,
              "#0d0887"
             ],
             [
              0.1111111111111111,
              "#46039f"
             ],
             [
              0.2222222222222222,
              "#7201a8"
             ],
             [
              0.3333333333333333,
              "#9c179e"
             ],
             [
              0.4444444444444444,
              "#bd3786"
             ],
             [
              0.5555555555555556,
              "#d8576b"
             ],
             [
              0.6666666666666666,
              "#ed7953"
             ],
             [
              0.7777777777777778,
              "#fb9f3a"
             ],
             [
              0.8888888888888888,
              "#fdca26"
             ],
             [
              1,
              "#f0f921"
             ]
            ],
            "type": "heatmapgl"
           }
          ],
          "histogram": [
           {
            "marker": {
             "pattern": {
              "fillmode": "overlay",
              "size": 10,
              "solidity": 0.2
             }
            },
            "type": "histogram"
           }
          ],
          "histogram2d": [
           {
            "colorbar": {
             "outlinewidth": 0,
             "ticks": ""
            },
            "colorscale": [
             [
              0,
              "#0d0887"
             ],
             [
              0.1111111111111111,
              "#46039f"
             ],
             [
              0.2222222222222222,
              "#7201a8"
             ],
             [
              0.3333333333333333,
              "#9c179e"
             ],
             [
              0.4444444444444444,
              "#bd3786"
             ],
             [
              0.5555555555555556,
              "#d8576b"
             ],
             [
              0.6666666666666666,
              "#ed7953"
             ],
             [
              0.7777777777777778,
              "#fb9f3a"
             ],
             [
              0.8888888888888888,
              "#fdca26"
             ],
             [
              1,
              "#f0f921"
             ]
            ],
            "type": "histogram2d"
           }
          ],
          "histogram2dcontour": [
           {
            "colorbar": {
             "outlinewidth": 0,
             "ticks": ""
            },
            "colorscale": [
             [
              0,
              "#0d0887"
             ],
             [
              0.1111111111111111,
              "#46039f"
             ],
             [
              0.2222222222222222,
              "#7201a8"
             ],
             [
              0.3333333333333333,
              "#9c179e"
             ],
             [
              0.4444444444444444,
              "#bd3786"
             ],
             [
              0.5555555555555556,
              "#d8576b"
             ],
             [
              0.6666666666666666,
              "#ed7953"
             ],
             [
              0.7777777777777778,
              "#fb9f3a"
             ],
             [
              0.8888888888888888,
              "#fdca26"
             ],
             [
              1,
              "#f0f921"
             ]
            ],
            "type": "histogram2dcontour"
           }
          ],
          "mesh3d": [
           {
            "colorbar": {
             "outlinewidth": 0,
             "ticks": ""
            },
            "type": "mesh3d"
           }
          ],
          "parcoords": [
           {
            "line": {
             "colorbar": {
              "outlinewidth": 0,
              "ticks": ""
             }
            },
            "type": "parcoords"
           }
          ],
          "pie": [
           {
            "automargin": true,
            "type": "pie"
           }
          ],
          "scatter": [
           {
            "marker": {
             "line": {
              "color": "#283442"
             }
            },
            "type": "scatter"
           }
          ],
          "scatter3d": [
           {
            "line": {
             "colorbar": {
              "outlinewidth": 0,
              "ticks": ""
             }
            },
            "marker": {
             "colorbar": {
              "outlinewidth": 0,
              "ticks": ""
             }
            },
            "type": "scatter3d"
           }
          ],
          "scattercarpet": [
           {
            "marker": {
             "colorbar": {
              "outlinewidth": 0,
              "ticks": ""
             }
            },
            "type": "scattercarpet"
           }
          ],
          "scattergeo": [
           {
            "marker": {
             "colorbar": {
              "outlinewidth": 0,
              "ticks": ""
             }
            },
            "type": "scattergeo"
           }
          ],
          "scattergl": [
           {
            "marker": {
             "line": {
              "color": "#283442"
             }
            },
            "type": "scattergl"
           }
          ],
          "scattermapbox": [
           {
            "marker": {
             "colorbar": {
              "outlinewidth": 0,
              "ticks": ""
             }
            },
            "type": "scattermapbox"
           }
          ],
          "scatterpolar": [
           {
            "marker": {
             "colorbar": {
              "outlinewidth": 0,
              "ticks": ""
             }
            },
            "type": "scatterpolar"
           }
          ],
          "scatterpolargl": [
           {
            "marker": {
             "colorbar": {
              "outlinewidth": 0,
              "ticks": ""
             }
            },
            "type": "scatterpolargl"
           }
          ],
          "scatterternary": [
           {
            "marker": {
             "colorbar": {
              "outlinewidth": 0,
              "ticks": ""
             }
            },
            "type": "scatterternary"
           }
          ],
          "surface": [
           {
            "colorbar": {
             "outlinewidth": 0,
             "ticks": ""
            },
            "colorscale": [
             [
              0,
              "#0d0887"
             ],
             [
              0.1111111111111111,
              "#46039f"
             ],
             [
              0.2222222222222222,
              "#7201a8"
             ],
             [
              0.3333333333333333,
              "#9c179e"
             ],
             [
              0.4444444444444444,
              "#bd3786"
             ],
             [
              0.5555555555555556,
              "#d8576b"
             ],
             [
              0.6666666666666666,
              "#ed7953"
             ],
             [
              0.7777777777777778,
              "#fb9f3a"
             ],
             [
              0.8888888888888888,
              "#fdca26"
             ],
             [
              1,
              "#f0f921"
             ]
            ],
            "type": "surface"
           }
          ],
          "table": [
           {
            "cells": {
             "fill": {
              "color": "#506784"
             },
             "line": {
              "color": "rgb(17,17,17)"
             }
            },
            "header": {
             "fill": {
              "color": "#2a3f5f"
             },
             "line": {
              "color": "rgb(17,17,17)"
             }
            },
            "type": "table"
           }
          ]
         },
         "layout": {
          "annotationdefaults": {
           "arrowcolor": "#f2f5fa",
           "arrowhead": 0,
           "arrowwidth": 1
          },
          "autotypenumbers": "strict",
          "coloraxis": {
           "colorbar": {
            "outlinewidth": 0,
            "ticks": ""
           }
          },
          "colorscale": {
           "diverging": [
            [
             0,
             "#8e0152"
            ],
            [
             0.1,
             "#c51b7d"
            ],
            [
             0.2,
             "#de77ae"
            ],
            [
             0.3,
             "#f1b6da"
            ],
            [
             0.4,
             "#fde0ef"
            ],
            [
             0.5,
             "#f7f7f7"
            ],
            [
             0.6,
             "#e6f5d0"
            ],
            [
             0.7,
             "#b8e186"
            ],
            [
             0.8,
             "#7fbc41"
            ],
            [
             0.9,
             "#4d9221"
            ],
            [
             1,
             "#276419"
            ]
           ],
           "sequential": [
            [
             0,
             "#0d0887"
            ],
            [
             0.1111111111111111,
             "#46039f"
            ],
            [
             0.2222222222222222,
             "#7201a8"
            ],
            [
             0.3333333333333333,
             "#9c179e"
            ],
            [
             0.4444444444444444,
             "#bd3786"
            ],
            [
             0.5555555555555556,
             "#d8576b"
            ],
            [
             0.6666666666666666,
             "#ed7953"
            ],
            [
             0.7777777777777778,
             "#fb9f3a"
            ],
            [
             0.8888888888888888,
             "#fdca26"
            ],
            [
             1,
             "#f0f921"
            ]
           ],
           "sequentialminus": [
            [
             0,
             "#0d0887"
            ],
            [
             0.1111111111111111,
             "#46039f"
            ],
            [
             0.2222222222222222,
             "#7201a8"
            ],
            [
             0.3333333333333333,
             "#9c179e"
            ],
            [
             0.4444444444444444,
             "#bd3786"
            ],
            [
             0.5555555555555556,
             "#d8576b"
            ],
            [
             0.6666666666666666,
             "#ed7953"
            ],
            [
             0.7777777777777778,
             "#fb9f3a"
            ],
            [
             0.8888888888888888,
             "#fdca26"
            ],
            [
             1,
             "#f0f921"
            ]
           ]
          },
          "colorway": [
           "#636efa",
           "#EF553B",
           "#00cc96",
           "#ab63fa",
           "#FFA15A",
           "#19d3f3",
           "#FF6692",
           "#B6E880",
           "#FF97FF",
           "#FECB52"
          ],
          "font": {
           "color": "#f2f5fa"
          },
          "geo": {
           "bgcolor": "rgb(17,17,17)",
           "lakecolor": "rgb(17,17,17)",
           "landcolor": "rgb(17,17,17)",
           "showlakes": true,
           "showland": true,
           "subunitcolor": "#506784"
          },
          "hoverlabel": {
           "align": "left"
          },
          "hovermode": "closest",
          "mapbox": {
           "style": "dark"
          },
          "paper_bgcolor": "rgb(17,17,17)",
          "plot_bgcolor": "rgb(17,17,17)",
          "polar": {
           "angularaxis": {
            "gridcolor": "#506784",
            "linecolor": "#506784",
            "ticks": ""
           },
           "bgcolor": "rgb(17,17,17)",
           "radialaxis": {
            "gridcolor": "#506784",
            "linecolor": "#506784",
            "ticks": ""
           }
          },
          "scene": {
           "xaxis": {
            "backgroundcolor": "rgb(17,17,17)",
            "gridcolor": "#506784",
            "gridwidth": 2,
            "linecolor": "#506784",
            "showbackground": true,
            "ticks": "",
            "zerolinecolor": "#C8D4E3"
           },
           "yaxis": {
            "backgroundcolor": "rgb(17,17,17)",
            "gridcolor": "#506784",
            "gridwidth": 2,
            "linecolor": "#506784",
            "showbackground": true,
            "ticks": "",
            "zerolinecolor": "#C8D4E3"
           },
           "zaxis": {
            "backgroundcolor": "rgb(17,17,17)",
            "gridcolor": "#506784",
            "gridwidth": 2,
            "linecolor": "#506784",
            "showbackground": true,
            "ticks": "",
            "zerolinecolor": "#C8D4E3"
           }
          },
          "shapedefaults": {
           "line": {
            "color": "#f2f5fa"
           }
          },
          "sliderdefaults": {
           "bgcolor": "#C8D4E3",
           "bordercolor": "rgb(17,17,17)",
           "borderwidth": 1,
           "tickwidth": 0
          },
          "ternary": {
           "aaxis": {
            "gridcolor": "#506784",
            "linecolor": "#506784",
            "ticks": ""
           },
           "baxis": {
            "gridcolor": "#506784",
            "linecolor": "#506784",
            "ticks": ""
           },
           "bgcolor": "rgb(17,17,17)",
           "caxis": {
            "gridcolor": "#506784",
            "linecolor": "#506784",
            "ticks": ""
           }
          },
          "title": {
           "x": 0.05
          },
          "updatemenudefaults": {
           "bgcolor": "#506784",
           "borderwidth": 0
          },
          "xaxis": {
           "automargin": true,
           "gridcolor": "#283442",
           "linecolor": "#506784",
           "ticks": "",
           "title": {
            "standoff": 15
           },
           "zerolinecolor": "#283442",
           "zerolinewidth": 2
          },
          "yaxis": {
           "automargin": true,
           "gridcolor": "#283442",
           "linecolor": "#506784",
           "ticks": "",
           "title": {
            "standoff": 15
           },
           "zerolinecolor": "#283442",
           "zerolinewidth": 2
          }
         }
        },
        "title": {
         "text": "20 Best Hotels",
         "x": 0.5
        },
        "width": 1000
       }
      }
     },
     "metadata": {},
     "output_type": "display_data"
    }
   ],
   "source": [
    "# Display Top 20 hotels for the top 5 cities\n",
    "fig = px.scatter_mapbox(hotels_shortlist,\n",
    "                        title = '20 Best Hotels',\n",
    "                        lat = 'lat',\n",
    "                        lon = 'lon',\n",
    "                        color = 'score',\n",
    "                        size = 'score',\n",
    "                        color_continuous_scale = px.colors.diverging.Tropic,\n",
    "                        size_max = 20,\n",
    "                        )\n",
    "fig.update_layout(width = 1000,\n",
    "                  height = 800,\n",
    "                  title_x = 0.5, \n",
    "                  template='plotly_dark',\n",
    "                  mapbox = {\"style\": \"carto-darkmatter\", \"center\": {\"lon\": 2.6, \"lat\" : 43.5}, \"zoom\": 7},\n",
    "                  margin = {\"l\": 0, \"r\": 0, \"b\": 0, \"t\": 80},\n",
    "                  )\n",
    "fig.show()"
   ]
  },
  {
   "cell_type": "code",
   "execution_count": null,
   "metadata": {},
   "outputs": [],
   "source": []
  },
  {
   "cell_type": "code",
   "execution_count": null,
   "metadata": {},
   "outputs": [],
   "source": []
  }
 ],
 "metadata": {
  "kernelspec": {
   "display_name": "Python 3.9.7 ('base')",
   "language": "python",
   "name": "python3"
  },
  "language_info": {
   "codemirror_mode": {
    "name": "ipython",
    "version": 3
   },
   "file_extension": ".py",
   "mimetype": "text/x-python",
   "name": "python",
   "nbconvert_exporter": "python",
   "pygments_lexer": "ipython3",
   "version": "3.9.7"
  },
  "vscode": {
   "interpreter": {
    "hash": "c19af5a40f1cb1c1ac096cca5f01fedd2db887e879271bc9409f7de81161eae9"
   }
  }
 },
 "nbformat": 4,
 "nbformat_minor": 4
}

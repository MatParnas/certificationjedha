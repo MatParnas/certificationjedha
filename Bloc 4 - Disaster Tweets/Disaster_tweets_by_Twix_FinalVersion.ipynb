{
  "nbformat": 4,
  "nbformat_minor": 0,
  "metadata": {
    "colab": {
      "name": "Disaster_tweets_by_Twix_FinalVersion.ipynb",
      "provenance": [],
      "collapsed_sections": []
    },
    "kernelspec": {
      "name": "python3",
      "display_name": "Python 3"
    },
    "language_info": {
      "name": "python"
    }
  },
  "cells": [
    {
      "cell_type": "markdown",
      "source": [
        "# Project Disaster Tweets\n",
        "\n",
        "This notebook was made on google collab. To use it at it's best please read it on collab and don't forget to upload the \"train.csv\" in your content folder."
      ],
      "metadata": {
        "id": "96any0IDh5qW"
      }
    },
    {
      "cell_type": "markdown",
      "source": [
        "## Part 1 : EDA and Preprocessing"
      ],
      "metadata": {
        "id": "OE4jo2plzGPu"
      }
    },
    {
      "cell_type": "code",
      "source": [
        "#Librairies import\n",
        "import pandas as pd\n",
        "import plotly.express as px\n",
        "import matplotlib.pyplot as plt\n",
        "\n",
        "import tensorflow as tf\n",
        "import keras\n",
        "from tensorflow.keras import regularizers\n",
        "from keras.preprocessing.text import Tokenizer\n",
        "from keras.preprocessing.sequence import pad_sequences\n",
        "\n",
        "from tqdm import tqdm\n",
        "from keras.models import Sequential\n",
        "from keras.layers import Embedding,LSTM,Dense,SpatialDropout1D\n",
        "from keras.initializers import Constant\n",
        "from sklearn.model_selection import train_test_split\n",
        "import numpy as np\n",
        "\n"
      ],
      "metadata": {
        "id": "ZRbm3uLzgXcD"
      },
      "execution_count": 236,
      "outputs": []
    },
    {
      "cell_type": "markdown",
      "source": [
        "EXPLORATORY DATA ANALYSIS"
      ],
      "metadata": {
        "id": "_hgEcmJHi8q3"
      }
    },
    {
      "cell_type": "code",
      "source": [
        "# Data file import\n",
        "data = pd.read_csv('train.csv')\n",
        "data.head(10)"
      ],
      "metadata": {
        "colab": {
          "base_uri": "https://localhost:8080/",
          "height": 363
        },
        "id": "TIcVOs0egXli",
        "outputId": "28e7a969-c5fd-45d7-a0aa-6dbde2db4e1d"
      },
      "execution_count": 237,
      "outputs": [
        {
          "output_type": "execute_result",
          "data": {
            "text/plain": [
              "   id keyword location                                               text  \\\n",
              "0   1     NaN      NaN  Our Deeds are the Reason of this #earthquake M...   \n",
              "1   4     NaN      NaN             Forest fire near La Ronge Sask. Canada   \n",
              "2   5     NaN      NaN  All residents asked to 'shelter in place' are ...   \n",
              "3   6     NaN      NaN  13,000 people receive #wildfires evacuation or...   \n",
              "4   7     NaN      NaN  Just got sent this photo from Ruby #Alaska as ...   \n",
              "5   8     NaN      NaN  #RockyFire Update => California Hwy. 20 closed...   \n",
              "6  10     NaN      NaN  #flood #disaster Heavy rain causes flash flood...   \n",
              "7  13     NaN      NaN  I'm on top of the hill and I can see a fire in...   \n",
              "8  14     NaN      NaN  There's an emergency evacuation happening now ...   \n",
              "9  15     NaN      NaN  I'm afraid that the tornado is coming to our a...   \n",
              "\n",
              "   target  \n",
              "0       1  \n",
              "1       1  \n",
              "2       1  \n",
              "3       1  \n",
              "4       1  \n",
              "5       1  \n",
              "6       1  \n",
              "7       1  \n",
              "8       1  \n",
              "9       1  "
            ],
            "text/html": [
              "\n",
              "  <div id=\"df-1657c4bc-454b-4b70-bc02-67041aab64fa\">\n",
              "    <div class=\"colab-df-container\">\n",
              "      <div>\n",
              "<style scoped>\n",
              "    .dataframe tbody tr th:only-of-type {\n",
              "        vertical-align: middle;\n",
              "    }\n",
              "\n",
              "    .dataframe tbody tr th {\n",
              "        vertical-align: top;\n",
              "    }\n",
              "\n",
              "    .dataframe thead th {\n",
              "        text-align: right;\n",
              "    }\n",
              "</style>\n",
              "<table border=\"1\" class=\"dataframe\">\n",
              "  <thead>\n",
              "    <tr style=\"text-align: right;\">\n",
              "      <th></th>\n",
              "      <th>id</th>\n",
              "      <th>keyword</th>\n",
              "      <th>location</th>\n",
              "      <th>text</th>\n",
              "      <th>target</th>\n",
              "    </tr>\n",
              "  </thead>\n",
              "  <tbody>\n",
              "    <tr>\n",
              "      <th>0</th>\n",
              "      <td>1</td>\n",
              "      <td>NaN</td>\n",
              "      <td>NaN</td>\n",
              "      <td>Our Deeds are the Reason of this #earthquake M...</td>\n",
              "      <td>1</td>\n",
              "    </tr>\n",
              "    <tr>\n",
              "      <th>1</th>\n",
              "      <td>4</td>\n",
              "      <td>NaN</td>\n",
              "      <td>NaN</td>\n",
              "      <td>Forest fire near La Ronge Sask. Canada</td>\n",
              "      <td>1</td>\n",
              "    </tr>\n",
              "    <tr>\n",
              "      <th>2</th>\n",
              "      <td>5</td>\n",
              "      <td>NaN</td>\n",
              "      <td>NaN</td>\n",
              "      <td>All residents asked to 'shelter in place' are ...</td>\n",
              "      <td>1</td>\n",
              "    </tr>\n",
              "    <tr>\n",
              "      <th>3</th>\n",
              "      <td>6</td>\n",
              "      <td>NaN</td>\n",
              "      <td>NaN</td>\n",
              "      <td>13,000 people receive #wildfires evacuation or...</td>\n",
              "      <td>1</td>\n",
              "    </tr>\n",
              "    <tr>\n",
              "      <th>4</th>\n",
              "      <td>7</td>\n",
              "      <td>NaN</td>\n",
              "      <td>NaN</td>\n",
              "      <td>Just got sent this photo from Ruby #Alaska as ...</td>\n",
              "      <td>1</td>\n",
              "    </tr>\n",
              "    <tr>\n",
              "      <th>5</th>\n",
              "      <td>8</td>\n",
              "      <td>NaN</td>\n",
              "      <td>NaN</td>\n",
              "      <td>#RockyFire Update =&gt; California Hwy. 20 closed...</td>\n",
              "      <td>1</td>\n",
              "    </tr>\n",
              "    <tr>\n",
              "      <th>6</th>\n",
              "      <td>10</td>\n",
              "      <td>NaN</td>\n",
              "      <td>NaN</td>\n",
              "      <td>#flood #disaster Heavy rain causes flash flood...</td>\n",
              "      <td>1</td>\n",
              "    </tr>\n",
              "    <tr>\n",
              "      <th>7</th>\n",
              "      <td>13</td>\n",
              "      <td>NaN</td>\n",
              "      <td>NaN</td>\n",
              "      <td>I'm on top of the hill and I can see a fire in...</td>\n",
              "      <td>1</td>\n",
              "    </tr>\n",
              "    <tr>\n",
              "      <th>8</th>\n",
              "      <td>14</td>\n",
              "      <td>NaN</td>\n",
              "      <td>NaN</td>\n",
              "      <td>There's an emergency evacuation happening now ...</td>\n",
              "      <td>1</td>\n",
              "    </tr>\n",
              "    <tr>\n",
              "      <th>9</th>\n",
              "      <td>15</td>\n",
              "      <td>NaN</td>\n",
              "      <td>NaN</td>\n",
              "      <td>I'm afraid that the tornado is coming to our a...</td>\n",
              "      <td>1</td>\n",
              "    </tr>\n",
              "  </tbody>\n",
              "</table>\n",
              "</div>\n",
              "      <button class=\"colab-df-convert\" onclick=\"convertToInteractive('df-1657c4bc-454b-4b70-bc02-67041aab64fa')\"\n",
              "              title=\"Convert this dataframe to an interactive table.\"\n",
              "              style=\"display:none;\">\n",
              "        \n",
              "  <svg xmlns=\"http://www.w3.org/2000/svg\" height=\"24px\"viewBox=\"0 0 24 24\"\n",
              "       width=\"24px\">\n",
              "    <path d=\"M0 0h24v24H0V0z\" fill=\"none\"/>\n",
              "    <path d=\"M18.56 5.44l.94 2.06.94-2.06 2.06-.94-2.06-.94-.94-2.06-.94 2.06-2.06.94zm-11 1L8.5 8.5l.94-2.06 2.06-.94-2.06-.94L8.5 2.5l-.94 2.06-2.06.94zm10 10l.94 2.06.94-2.06 2.06-.94-2.06-.94-.94-2.06-.94 2.06-2.06.94z\"/><path d=\"M17.41 7.96l-1.37-1.37c-.4-.4-.92-.59-1.43-.59-.52 0-1.04.2-1.43.59L10.3 9.45l-7.72 7.72c-.78.78-.78 2.05 0 2.83L4 21.41c.39.39.9.59 1.41.59.51 0 1.02-.2 1.41-.59l7.78-7.78 2.81-2.81c.8-.78.8-2.07 0-2.86zM5.41 20L4 18.59l7.72-7.72 1.47 1.35L5.41 20z\"/>\n",
              "  </svg>\n",
              "      </button>\n",
              "      \n",
              "  <style>\n",
              "    .colab-df-container {\n",
              "      display:flex;\n",
              "      flex-wrap:wrap;\n",
              "      gap: 12px;\n",
              "    }\n",
              "\n",
              "    .colab-df-convert {\n",
              "      background-color: #E8F0FE;\n",
              "      border: none;\n",
              "      border-radius: 50%;\n",
              "      cursor: pointer;\n",
              "      display: none;\n",
              "      fill: #1967D2;\n",
              "      height: 32px;\n",
              "      padding: 0 0 0 0;\n",
              "      width: 32px;\n",
              "    }\n",
              "\n",
              "    .colab-df-convert:hover {\n",
              "      background-color: #E2EBFA;\n",
              "      box-shadow: 0px 1px 2px rgba(60, 64, 67, 0.3), 0px 1px 3px 1px rgba(60, 64, 67, 0.15);\n",
              "      fill: #174EA6;\n",
              "    }\n",
              "\n",
              "    [theme=dark] .colab-df-convert {\n",
              "      background-color: #3B4455;\n",
              "      fill: #D2E3FC;\n",
              "    }\n",
              "\n",
              "    [theme=dark] .colab-df-convert:hover {\n",
              "      background-color: #434B5C;\n",
              "      box-shadow: 0px 1px 3px 1px rgba(0, 0, 0, 0.15);\n",
              "      filter: drop-shadow(0px 1px 2px rgba(0, 0, 0, 0.3));\n",
              "      fill: #FFFFFF;\n",
              "    }\n",
              "  </style>\n",
              "\n",
              "      <script>\n",
              "        const buttonEl =\n",
              "          document.querySelector('#df-1657c4bc-454b-4b70-bc02-67041aab64fa button.colab-df-convert');\n",
              "        buttonEl.style.display =\n",
              "          google.colab.kernel.accessAllowed ? 'block' : 'none';\n",
              "\n",
              "        async function convertToInteractive(key) {\n",
              "          const element = document.querySelector('#df-1657c4bc-454b-4b70-bc02-67041aab64fa');\n",
              "          const dataTable =\n",
              "            await google.colab.kernel.invokeFunction('convertToInteractive',\n",
              "                                                     [key], {});\n",
              "          if (!dataTable) return;\n",
              "\n",
              "          const docLinkHtml = 'Like what you see? Visit the ' +\n",
              "            '<a target=\"_blank\" href=https://colab.research.google.com/notebooks/data_table.ipynb>data table notebook</a>'\n",
              "            + ' to learn more about interactive tables.';\n",
              "          element.innerHTML = '';\n",
              "          dataTable['output_type'] = 'display_data';\n",
              "          await google.colab.output.renderOutput(dataTable, element);\n",
              "          const docLink = document.createElement('div');\n",
              "          docLink.innerHTML = docLinkHtml;\n",
              "          element.appendChild(docLink);\n",
              "        }\n",
              "      </script>\n",
              "    </div>\n",
              "  </div>\n",
              "  "
            ]
          },
          "metadata": {},
          "execution_count": 237
        }
      ]
    },
    {
      "cell_type": "code",
      "source": [
        "data.describe()"
      ],
      "metadata": {
        "colab": {
          "base_uri": "https://localhost:8080/",
          "height": 300
        },
        "id": "3HvaWNQugXoR",
        "outputId": "dee3c468-2501-4996-d62e-050f25fc36c0"
      },
      "execution_count": 238,
      "outputs": [
        {
          "output_type": "execute_result",
          "data": {
            "text/plain": [
              "                 id      target\n",
              "count   7613.000000  7613.00000\n",
              "mean    5441.934848     0.42966\n",
              "std     3137.116090     0.49506\n",
              "min        1.000000     0.00000\n",
              "25%     2734.000000     0.00000\n",
              "50%     5408.000000     0.00000\n",
              "75%     8146.000000     1.00000\n",
              "max    10873.000000     1.00000"
            ],
            "text/html": [
              "\n",
              "  <div id=\"df-caabadb6-ba5f-47c9-bd8f-618f69889b4e\">\n",
              "    <div class=\"colab-df-container\">\n",
              "      <div>\n",
              "<style scoped>\n",
              "    .dataframe tbody tr th:only-of-type {\n",
              "        vertical-align: middle;\n",
              "    }\n",
              "\n",
              "    .dataframe tbody tr th {\n",
              "        vertical-align: top;\n",
              "    }\n",
              "\n",
              "    .dataframe thead th {\n",
              "        text-align: right;\n",
              "    }\n",
              "</style>\n",
              "<table border=\"1\" class=\"dataframe\">\n",
              "  <thead>\n",
              "    <tr style=\"text-align: right;\">\n",
              "      <th></th>\n",
              "      <th>id</th>\n",
              "      <th>target</th>\n",
              "    </tr>\n",
              "  </thead>\n",
              "  <tbody>\n",
              "    <tr>\n",
              "      <th>count</th>\n",
              "      <td>7613.000000</td>\n",
              "      <td>7613.00000</td>\n",
              "    </tr>\n",
              "    <tr>\n",
              "      <th>mean</th>\n",
              "      <td>5441.934848</td>\n",
              "      <td>0.42966</td>\n",
              "    </tr>\n",
              "    <tr>\n",
              "      <th>std</th>\n",
              "      <td>3137.116090</td>\n",
              "      <td>0.49506</td>\n",
              "    </tr>\n",
              "    <tr>\n",
              "      <th>min</th>\n",
              "      <td>1.000000</td>\n",
              "      <td>0.00000</td>\n",
              "    </tr>\n",
              "    <tr>\n",
              "      <th>25%</th>\n",
              "      <td>2734.000000</td>\n",
              "      <td>0.00000</td>\n",
              "    </tr>\n",
              "    <tr>\n",
              "      <th>50%</th>\n",
              "      <td>5408.000000</td>\n",
              "      <td>0.00000</td>\n",
              "    </tr>\n",
              "    <tr>\n",
              "      <th>75%</th>\n",
              "      <td>8146.000000</td>\n",
              "      <td>1.00000</td>\n",
              "    </tr>\n",
              "    <tr>\n",
              "      <th>max</th>\n",
              "      <td>10873.000000</td>\n",
              "      <td>1.00000</td>\n",
              "    </tr>\n",
              "  </tbody>\n",
              "</table>\n",
              "</div>\n",
              "      <button class=\"colab-df-convert\" onclick=\"convertToInteractive('df-caabadb6-ba5f-47c9-bd8f-618f69889b4e')\"\n",
              "              title=\"Convert this dataframe to an interactive table.\"\n",
              "              style=\"display:none;\">\n",
              "        \n",
              "  <svg xmlns=\"http://www.w3.org/2000/svg\" height=\"24px\"viewBox=\"0 0 24 24\"\n",
              "       width=\"24px\">\n",
              "    <path d=\"M0 0h24v24H0V0z\" fill=\"none\"/>\n",
              "    <path d=\"M18.56 5.44l.94 2.06.94-2.06 2.06-.94-2.06-.94-.94-2.06-.94 2.06-2.06.94zm-11 1L8.5 8.5l.94-2.06 2.06-.94-2.06-.94L8.5 2.5l-.94 2.06-2.06.94zm10 10l.94 2.06.94-2.06 2.06-.94-2.06-.94-.94-2.06-.94 2.06-2.06.94z\"/><path d=\"M17.41 7.96l-1.37-1.37c-.4-.4-.92-.59-1.43-.59-.52 0-1.04.2-1.43.59L10.3 9.45l-7.72 7.72c-.78.78-.78 2.05 0 2.83L4 21.41c.39.39.9.59 1.41.59.51 0 1.02-.2 1.41-.59l7.78-7.78 2.81-2.81c.8-.78.8-2.07 0-2.86zM5.41 20L4 18.59l7.72-7.72 1.47 1.35L5.41 20z\"/>\n",
              "  </svg>\n",
              "      </button>\n",
              "      \n",
              "  <style>\n",
              "    .colab-df-container {\n",
              "      display:flex;\n",
              "      flex-wrap:wrap;\n",
              "      gap: 12px;\n",
              "    }\n",
              "\n",
              "    .colab-df-convert {\n",
              "      background-color: #E8F0FE;\n",
              "      border: none;\n",
              "      border-radius: 50%;\n",
              "      cursor: pointer;\n",
              "      display: none;\n",
              "      fill: #1967D2;\n",
              "      height: 32px;\n",
              "      padding: 0 0 0 0;\n",
              "      width: 32px;\n",
              "    }\n",
              "\n",
              "    .colab-df-convert:hover {\n",
              "      background-color: #E2EBFA;\n",
              "      box-shadow: 0px 1px 2px rgba(60, 64, 67, 0.3), 0px 1px 3px 1px rgba(60, 64, 67, 0.15);\n",
              "      fill: #174EA6;\n",
              "    }\n",
              "\n",
              "    [theme=dark] .colab-df-convert {\n",
              "      background-color: #3B4455;\n",
              "      fill: #D2E3FC;\n",
              "    }\n",
              "\n",
              "    [theme=dark] .colab-df-convert:hover {\n",
              "      background-color: #434B5C;\n",
              "      box-shadow: 0px 1px 3px 1px rgba(0, 0, 0, 0.15);\n",
              "      filter: drop-shadow(0px 1px 2px rgba(0, 0, 0, 0.3));\n",
              "      fill: #FFFFFF;\n",
              "    }\n",
              "  </style>\n",
              "\n",
              "      <script>\n",
              "        const buttonEl =\n",
              "          document.querySelector('#df-caabadb6-ba5f-47c9-bd8f-618f69889b4e button.colab-df-convert');\n",
              "        buttonEl.style.display =\n",
              "          google.colab.kernel.accessAllowed ? 'block' : 'none';\n",
              "\n",
              "        async function convertToInteractive(key) {\n",
              "          const element = document.querySelector('#df-caabadb6-ba5f-47c9-bd8f-618f69889b4e');\n",
              "          const dataTable =\n",
              "            await google.colab.kernel.invokeFunction('convertToInteractive',\n",
              "                                                     [key], {});\n",
              "          if (!dataTable) return;\n",
              "\n",
              "          const docLinkHtml = 'Like what you see? Visit the ' +\n",
              "            '<a target=\"_blank\" href=https://colab.research.google.com/notebooks/data_table.ipynb>data table notebook</a>'\n",
              "            + ' to learn more about interactive tables.';\n",
              "          element.innerHTML = '';\n",
              "          dataTable['output_type'] = 'display_data';\n",
              "          await google.colab.output.renderOutput(dataTable, element);\n",
              "          const docLink = document.createElement('div');\n",
              "          docLink.innerHTML = docLinkHtml;\n",
              "          element.appendChild(docLink);\n",
              "        }\n",
              "      </script>\n",
              "    </div>\n",
              "  </div>\n",
              "  "
            ]
          },
          "metadata": {},
          "execution_count": 238
        }
      ]
    },
    {
      "cell_type": "code",
      "source": [
        "data.count()"
      ],
      "metadata": {
        "colab": {
          "base_uri": "https://localhost:8080/"
        },
        "id": "fOEumSexgXrJ",
        "outputId": "e9543709-822b-4fde-dfd8-f6191e92e000"
      },
      "execution_count": 239,
      "outputs": [
        {
          "output_type": "execute_result",
          "data": {
            "text/plain": [
              "id          7613\n",
              "keyword     7552\n",
              "location    5080\n",
              "text        7613\n",
              "target      7613\n",
              "dtype: int64"
            ]
          },
          "metadata": {},
          "execution_count": 239
        }
      ]
    },
    {
      "cell_type": "code",
      "source": [
        "#check of the target ratio\n",
        "df = data.groupby('target').count()['id']\n",
        "df.rename({0 : 'Not disasters' , 1: 'Real disasters'})\n",
        "fig = px.pie(df, values= df.values , names = ('Not disasters' , 'Real disasters') , title = 'Ratio of real disasters vs fake ones')\n",
        "fig.show()\n"
      ],
      "metadata": {
        "colab": {
          "base_uri": "https://localhost:8080/",
          "height": 542
        },
        "id": "ParjWflLgXuC",
        "outputId": "984622d1-8fe7-45a4-e29f-a9a6022b50b5"
      },
      "execution_count": 240,
      "outputs": [
        {
          "output_type": "display_data",
          "data": {
            "text/html": [
              "<html>\n",
              "<head><meta charset=\"utf-8\" /></head>\n",
              "<body>\n",
              "    <div>            <script src=\"https://cdnjs.cloudflare.com/ajax/libs/mathjax/2.7.5/MathJax.js?config=TeX-AMS-MML_SVG\"></script><script type=\"text/javascript\">if (window.MathJax) {MathJax.Hub.Config({SVG: {font: \"STIX-Web\"}});}</script>                <script type=\"text/javascript\">window.PlotlyConfig = {MathJaxConfig: 'local'};</script>\n",
              "        <script src=\"https://cdn.plot.ly/plotly-2.8.3.min.js\"></script>                <div id=\"bb887bd6-06b1-4341-bb89-23f9a6be1a5d\" class=\"plotly-graph-div\" style=\"height:525px; width:100%;\"></div>            <script type=\"text/javascript\">                                    window.PLOTLYENV=window.PLOTLYENV || {};                                    if (document.getElementById(\"bb887bd6-06b1-4341-bb89-23f9a6be1a5d\")) {                    Plotly.newPlot(                        \"bb887bd6-06b1-4341-bb89-23f9a6be1a5d\",                        [{\"domain\":{\"x\":[0.0,1.0],\"y\":[0.0,1.0]},\"hovertemplate\":\"label=%{label}<br>value=%{value}<extra></extra>\",\"labels\":[\"Not disasters\",\"Real disasters\"],\"legendgroup\":\"\",\"name\":\"\",\"showlegend\":true,\"values\":[4342,3271],\"type\":\"pie\"}],                        {\"template\":{\"data\":{\"bar\":[{\"error_x\":{\"color\":\"#2a3f5f\"},\"error_y\":{\"color\":\"#2a3f5f\"},\"marker\":{\"line\":{\"color\":\"#E5ECF6\",\"width\":0.5},\"pattern\":{\"fillmode\":\"overlay\",\"size\":10,\"solidity\":0.2}},\"type\":\"bar\"}],\"barpolar\":[{\"marker\":{\"line\":{\"color\":\"#E5ECF6\",\"width\":0.5},\"pattern\":{\"fillmode\":\"overlay\",\"size\":10,\"solidity\":0.2}},\"type\":\"barpolar\"}],\"carpet\":[{\"aaxis\":{\"endlinecolor\":\"#2a3f5f\",\"gridcolor\":\"white\",\"linecolor\":\"white\",\"minorgridcolor\":\"white\",\"startlinecolor\":\"#2a3f5f\"},\"baxis\":{\"endlinecolor\":\"#2a3f5f\",\"gridcolor\":\"white\",\"linecolor\":\"white\",\"minorgridcolor\":\"white\",\"startlinecolor\":\"#2a3f5f\"},\"type\":\"carpet\"}],\"choropleth\":[{\"colorbar\":{\"outlinewidth\":0,\"ticks\":\"\"},\"type\":\"choropleth\"}],\"contour\":[{\"colorbar\":{\"outlinewidth\":0,\"ticks\":\"\"},\"colorscale\":[[0.0,\"#0d0887\"],[0.1111111111111111,\"#46039f\"],[0.2222222222222222,\"#7201a8\"],[0.3333333333333333,\"#9c179e\"],[0.4444444444444444,\"#bd3786\"],[0.5555555555555556,\"#d8576b\"],[0.6666666666666666,\"#ed7953\"],[0.7777777777777778,\"#fb9f3a\"],[0.8888888888888888,\"#fdca26\"],[1.0,\"#f0f921\"]],\"type\":\"contour\"}],\"contourcarpet\":[{\"colorbar\":{\"outlinewidth\":0,\"ticks\":\"\"},\"type\":\"contourcarpet\"}],\"heatmap\":[{\"colorbar\":{\"outlinewidth\":0,\"ticks\":\"\"},\"colorscale\":[[0.0,\"#0d0887\"],[0.1111111111111111,\"#46039f\"],[0.2222222222222222,\"#7201a8\"],[0.3333333333333333,\"#9c179e\"],[0.4444444444444444,\"#bd3786\"],[0.5555555555555556,\"#d8576b\"],[0.6666666666666666,\"#ed7953\"],[0.7777777777777778,\"#fb9f3a\"],[0.8888888888888888,\"#fdca26\"],[1.0,\"#f0f921\"]],\"type\":\"heatmap\"}],\"heatmapgl\":[{\"colorbar\":{\"outlinewidth\":0,\"ticks\":\"\"},\"colorscale\":[[0.0,\"#0d0887\"],[0.1111111111111111,\"#46039f\"],[0.2222222222222222,\"#7201a8\"],[0.3333333333333333,\"#9c179e\"],[0.4444444444444444,\"#bd3786\"],[0.5555555555555556,\"#d8576b\"],[0.6666666666666666,\"#ed7953\"],[0.7777777777777778,\"#fb9f3a\"],[0.8888888888888888,\"#fdca26\"],[1.0,\"#f0f921\"]],\"type\":\"heatmapgl\"}],\"histogram\":[{\"marker\":{\"pattern\":{\"fillmode\":\"overlay\",\"size\":10,\"solidity\":0.2}},\"type\":\"histogram\"}],\"histogram2d\":[{\"colorbar\":{\"outlinewidth\":0,\"ticks\":\"\"},\"colorscale\":[[0.0,\"#0d0887\"],[0.1111111111111111,\"#46039f\"],[0.2222222222222222,\"#7201a8\"],[0.3333333333333333,\"#9c179e\"],[0.4444444444444444,\"#bd3786\"],[0.5555555555555556,\"#d8576b\"],[0.6666666666666666,\"#ed7953\"],[0.7777777777777778,\"#fb9f3a\"],[0.8888888888888888,\"#fdca26\"],[1.0,\"#f0f921\"]],\"type\":\"histogram2d\"}],\"histogram2dcontour\":[{\"colorbar\":{\"outlinewidth\":0,\"ticks\":\"\"},\"colorscale\":[[0.0,\"#0d0887\"],[0.1111111111111111,\"#46039f\"],[0.2222222222222222,\"#7201a8\"],[0.3333333333333333,\"#9c179e\"],[0.4444444444444444,\"#bd3786\"],[0.5555555555555556,\"#d8576b\"],[0.6666666666666666,\"#ed7953\"],[0.7777777777777778,\"#fb9f3a\"],[0.8888888888888888,\"#fdca26\"],[1.0,\"#f0f921\"]],\"type\":\"histogram2dcontour\"}],\"mesh3d\":[{\"colorbar\":{\"outlinewidth\":0,\"ticks\":\"\"},\"type\":\"mesh3d\"}],\"parcoords\":[{\"line\":{\"colorbar\":{\"outlinewidth\":0,\"ticks\":\"\"}},\"type\":\"parcoords\"}],\"pie\":[{\"automargin\":true,\"type\":\"pie\"}],\"scatter\":[{\"marker\":{\"colorbar\":{\"outlinewidth\":0,\"ticks\":\"\"}},\"type\":\"scatter\"}],\"scatter3d\":[{\"line\":{\"colorbar\":{\"outlinewidth\":0,\"ticks\":\"\"}},\"marker\":{\"colorbar\":{\"outlinewidth\":0,\"ticks\":\"\"}},\"type\":\"scatter3d\"}],\"scattercarpet\":[{\"marker\":{\"colorbar\":{\"outlinewidth\":0,\"ticks\":\"\"}},\"type\":\"scattercarpet\"}],\"scattergeo\":[{\"marker\":{\"colorbar\":{\"outlinewidth\":0,\"ticks\":\"\"}},\"type\":\"scattergeo\"}],\"scattergl\":[{\"marker\":{\"colorbar\":{\"outlinewidth\":0,\"ticks\":\"\"}},\"type\":\"scattergl\"}],\"scattermapbox\":[{\"marker\":{\"colorbar\":{\"outlinewidth\":0,\"ticks\":\"\"}},\"type\":\"scattermapbox\"}],\"scatterpolar\":[{\"marker\":{\"colorbar\":{\"outlinewidth\":0,\"ticks\":\"\"}},\"type\":\"scatterpolar\"}],\"scatterpolargl\":[{\"marker\":{\"colorbar\":{\"outlinewidth\":0,\"ticks\":\"\"}},\"type\":\"scatterpolargl\"}],\"scatterternary\":[{\"marker\":{\"colorbar\":{\"outlinewidth\":0,\"ticks\":\"\"}},\"type\":\"scatterternary\"}],\"surface\":[{\"colorbar\":{\"outlinewidth\":0,\"ticks\":\"\"},\"colorscale\":[[0.0,\"#0d0887\"],[0.1111111111111111,\"#46039f\"],[0.2222222222222222,\"#7201a8\"],[0.3333333333333333,\"#9c179e\"],[0.4444444444444444,\"#bd3786\"],[0.5555555555555556,\"#d8576b\"],[0.6666666666666666,\"#ed7953\"],[0.7777777777777778,\"#fb9f3a\"],[0.8888888888888888,\"#fdca26\"],[1.0,\"#f0f921\"]],\"type\":\"surface\"}],\"table\":[{\"cells\":{\"fill\":{\"color\":\"#EBF0F8\"},\"line\":{\"color\":\"white\"}},\"header\":{\"fill\":{\"color\":\"#C8D4E3\"},\"line\":{\"color\":\"white\"}},\"type\":\"table\"}]},\"layout\":{\"annotationdefaults\":{\"arrowcolor\":\"#2a3f5f\",\"arrowhead\":0,\"arrowwidth\":1},\"autotypenumbers\":\"strict\",\"coloraxis\":{\"colorbar\":{\"outlinewidth\":0,\"ticks\":\"\"}},\"colorscale\":{\"diverging\":[[0,\"#8e0152\"],[0.1,\"#c51b7d\"],[0.2,\"#de77ae\"],[0.3,\"#f1b6da\"],[0.4,\"#fde0ef\"],[0.5,\"#f7f7f7\"],[0.6,\"#e6f5d0\"],[0.7,\"#b8e186\"],[0.8,\"#7fbc41\"],[0.9,\"#4d9221\"],[1,\"#276419\"]],\"sequential\":[[0.0,\"#0d0887\"],[0.1111111111111111,\"#46039f\"],[0.2222222222222222,\"#7201a8\"],[0.3333333333333333,\"#9c179e\"],[0.4444444444444444,\"#bd3786\"],[0.5555555555555556,\"#d8576b\"],[0.6666666666666666,\"#ed7953\"],[0.7777777777777778,\"#fb9f3a\"],[0.8888888888888888,\"#fdca26\"],[1.0,\"#f0f921\"]],\"sequentialminus\":[[0.0,\"#0d0887\"],[0.1111111111111111,\"#46039f\"],[0.2222222222222222,\"#7201a8\"],[0.3333333333333333,\"#9c179e\"],[0.4444444444444444,\"#bd3786\"],[0.5555555555555556,\"#d8576b\"],[0.6666666666666666,\"#ed7953\"],[0.7777777777777778,\"#fb9f3a\"],[0.8888888888888888,\"#fdca26\"],[1.0,\"#f0f921\"]]},\"colorway\":[\"#636efa\",\"#EF553B\",\"#00cc96\",\"#ab63fa\",\"#FFA15A\",\"#19d3f3\",\"#FF6692\",\"#B6E880\",\"#FF97FF\",\"#FECB52\"],\"font\":{\"color\":\"#2a3f5f\"},\"geo\":{\"bgcolor\":\"white\",\"lakecolor\":\"white\",\"landcolor\":\"#E5ECF6\",\"showlakes\":true,\"showland\":true,\"subunitcolor\":\"white\"},\"hoverlabel\":{\"align\":\"left\"},\"hovermode\":\"closest\",\"mapbox\":{\"style\":\"light\"},\"paper_bgcolor\":\"white\",\"plot_bgcolor\":\"#E5ECF6\",\"polar\":{\"angularaxis\":{\"gridcolor\":\"white\",\"linecolor\":\"white\",\"ticks\":\"\"},\"bgcolor\":\"#E5ECF6\",\"radialaxis\":{\"gridcolor\":\"white\",\"linecolor\":\"white\",\"ticks\":\"\"}},\"scene\":{\"xaxis\":{\"backgroundcolor\":\"#E5ECF6\",\"gridcolor\":\"white\",\"gridwidth\":2,\"linecolor\":\"white\",\"showbackground\":true,\"ticks\":\"\",\"zerolinecolor\":\"white\"},\"yaxis\":{\"backgroundcolor\":\"#E5ECF6\",\"gridcolor\":\"white\",\"gridwidth\":2,\"linecolor\":\"white\",\"showbackground\":true,\"ticks\":\"\",\"zerolinecolor\":\"white\"},\"zaxis\":{\"backgroundcolor\":\"#E5ECF6\",\"gridcolor\":\"white\",\"gridwidth\":2,\"linecolor\":\"white\",\"showbackground\":true,\"ticks\":\"\",\"zerolinecolor\":\"white\"}},\"shapedefaults\":{\"line\":{\"color\":\"#2a3f5f\"}},\"ternary\":{\"aaxis\":{\"gridcolor\":\"white\",\"linecolor\":\"white\",\"ticks\":\"\"},\"baxis\":{\"gridcolor\":\"white\",\"linecolor\":\"white\",\"ticks\":\"\"},\"bgcolor\":\"#E5ECF6\",\"caxis\":{\"gridcolor\":\"white\",\"linecolor\":\"white\",\"ticks\":\"\"}},\"title\":{\"x\":0.05},\"xaxis\":{\"automargin\":true,\"gridcolor\":\"white\",\"linecolor\":\"white\",\"ticks\":\"\",\"title\":{\"standoff\":15},\"zerolinecolor\":\"white\",\"zerolinewidth\":2},\"yaxis\":{\"automargin\":true,\"gridcolor\":\"white\",\"linecolor\":\"white\",\"ticks\":\"\",\"title\":{\"standoff\":15},\"zerolinecolor\":\"white\",\"zerolinewidth\":2}}},\"legend\":{\"tracegroupgap\":0},\"title\":{\"text\":\"Ratio of real disasters vs fake ones\"}},                        {\"responsive\": true}                    ).then(function(){\n",
              "                            \n",
              "var gd = document.getElementById('bb887bd6-06b1-4341-bb89-23f9a6be1a5d');\n",
              "var x = new MutationObserver(function (mutations, observer) {{\n",
              "        var display = window.getComputedStyle(gd).display;\n",
              "        if (!display || display === 'none') {{\n",
              "            console.log([gd, 'removed!']);\n",
              "            Plotly.purge(gd);\n",
              "            observer.disconnect();\n",
              "        }}\n",
              "}});\n",
              "\n",
              "// Listen for the removal of the full notebook cells\n",
              "var notebookContainer = gd.closest('#notebook-container');\n",
              "if (notebookContainer) {{\n",
              "    x.observe(notebookContainer, {childList: true});\n",
              "}}\n",
              "\n",
              "// Listen for the clearing of the current output cell\n",
              "var outputEl = gd.closest('.output');\n",
              "if (outputEl) {{\n",
              "    x.observe(outputEl, {childList: true});\n",
              "}}\n",
              "\n",
              "                        })                };                            </script>        </div>\n",
              "</body>\n",
              "</html>"
            ]
          },
          "metadata": {}
        }
      ]
    },
    {
      "cell_type": "code",
      "source": [
        "data['text'].sample(40)"
      ],
      "metadata": {
        "colab": {
          "base_uri": "https://localhost:8080/"
        },
        "id": "pNrFA6w3gXwx",
        "outputId": "766d89e4-6982-426c-cc78-b34ea31c5e50"
      },
      "execution_count": 241,
      "outputs": [
        {
          "output_type": "execute_result",
          "data": {
            "text/plain": [
              "6294    @Coach_Keith44 @HannoMottola @TRPreston01 @mlr...\n",
              "3540      @OCT336 guys these bitches ain't famine then ??\n",
              "6350    @sabcnewsroom sabotage!I rule out structural f...\n",
              "3024    Going to a fest? Bring swimming goggles for th...\n",
              "746     they say bad things happen for a reason\\nbut n...\n",
              "6774    Tornado has to make the playoffs. They have 3 ...\n",
              "5586    #News : The Latest: More Homes Razed by Northe...\n",
              "5080    Is your team ready for a natural disaster a vi...\n",
              "6933    Love how I don't get in any trouble for having...\n",
              "3772                              Fire waves and darkness\n",
              "3889    #Floored4 #Flattened \\n\\nEarly birds does get ...\n",
              "7145                       @alextucker VOLCANO BOWL DRINK\n",
              "1951    'The Big Ten has their annual football media d...\n",
              "7550    Poor Liv and I getting our phones wrecked on t...\n",
              "5929    *wants to make tweet about how much I dislike ...\n",
              "7454    Woodlawn Shooting Wounds 79-Year-Old Woman Tee...\n",
              "515     @MageAvexis &lt; things. And what if we get at...\n",
              "2228    @FiendNikki 'Deluge' is such an awesome word. ...\n",
              "572     how did I miss that Gary Busey's son plays DIX...\n",
              "4708    *nominates self but @_ohhsehuns wins by a land...\n",
              "2904                 @jasminehuerta24 I hope you drown ??\n",
              "4421    Egyptian Militants Tied to ISIS Threaten to Ki...\n",
              "5764    'Without an ally near you can't use this skill...\n",
              "5515    gmtTy mhtw4fnet\\n\\nOfficials: Alabama home qua...\n",
              "5788    @CloydRivers there were plenty of black people...\n",
              "2143    real magic in real life:\\n\\nwomen went missing...\n",
              "3034    Posted a new song: 'Earthquake' http://t.co/Rf...\n",
              "3774    Smelling a Bon fire while driving makes me wan...\n",
              "6498    The Seven Seas - Wreck of the Giannis D. sunk ...\n",
              "5573    @Robot_Rainstorm I'm a huge football fan as yo...\n",
              "1306    Leader of #Zionism STOP BURNING #Babies  https...\n",
              "820                          Stats http://t.co/U7vavyrGv9\n",
              "5162    @McCaineNL Think how spectacular it will look ...\n",
              "436     @local_arsonist I guess u can say that it's ju...\n",
              "3220    Removing tsunami debris from the West Coast: K...\n",
              "6425    Suicide bomber kills 15 in Saudi security site...\n",
              "4872    Not only are you a mass murderer but at a movi...\n",
              "1673    That sounds about right. Our building will hav...\n",
              "6052    Sinkhole closes Falmer Drive in Bethlehem Town...\n",
              "3656    PolicyLab is at @CECANF's last public hearing ...\n",
              "Name: text, dtype: object"
            ]
          },
          "metadata": {},
          "execution_count": 241
        }
      ]
    },
    {
      "cell_type": "markdown",
      "source": [
        "So we got a 7613 lines dataset with pretty complete lines except for location. The dataset target is quite balanced which is good for our work.\n",
        "\n",
        "If we focus on the text data itself it looks like we have some special characters and links to work on."
      ],
      "metadata": {
        "id": "h4rotNIXol1T"
      }
    },
    {
      "cell_type": "markdown",
      "source": [
        "DATA PREPROCESSING\n"
      ],
      "metadata": {
        "id": "QZay1CUIpJ-L"
      }
    },
    {
      "cell_type": "code",
      "source": [
        "#import english language to read the tweets\n",
        "\n",
        "!python -m spacy download en_core_web_sm\n",
        "import en_core_web_sm\n",
        "nlp = en_core_web_sm.load()"
      ],
      "metadata": {
        "colab": {
          "base_uri": "https://localhost:8080/"
        },
        "id": "poMRE-7hpqPS",
        "outputId": "a4a47f85-c548-4ddd-c1d3-bf46fe8748a3"
      },
      "execution_count": 242,
      "outputs": [
        {
          "output_type": "stream",
          "name": "stdout",
          "text": [
            "2022-08-14 19:01:24.112015: E tensorflow/stream_executor/cuda/cuda_driver.cc:271] failed call to cuInit: CUDA_ERROR_NO_DEVICE: no CUDA-capable device is detected\n",
            "Looking in indexes: https://pypi.org/simple, https://us-python.pkg.dev/colab-wheels/public/simple/\n",
            "Collecting en-core-web-sm==3.4.0\n",
            "  Downloading https://github.com/explosion/spacy-models/releases/download/en_core_web_sm-3.4.0/en_core_web_sm-3.4.0-py3-none-any.whl (12.8 MB)\n",
            "\u001b[K     |████████████████████████████████| 12.8 MB 13.3 MB/s \n",
            "\u001b[?25hRequirement already satisfied: spacy<3.5.0,>=3.4.0 in /usr/local/lib/python3.7/dist-packages (from en-core-web-sm==3.4.0) (3.4.1)\n",
            "Requirement already satisfied: typing-extensions<4.2.0,>=3.7.4 in /usr/local/lib/python3.7/dist-packages (from spacy<3.5.0,>=3.4.0->en-core-web-sm==3.4.0) (4.1.1)\n",
            "Requirement already satisfied: preshed<3.1.0,>=3.0.2 in /usr/local/lib/python3.7/dist-packages (from spacy<3.5.0,>=3.4.0->en-core-web-sm==3.4.0) (3.0.6)\n",
            "Requirement already satisfied: catalogue<2.1.0,>=2.0.6 in /usr/local/lib/python3.7/dist-packages (from spacy<3.5.0,>=3.4.0->en-core-web-sm==3.4.0) (2.0.8)\n",
            "Requirement already satisfied: jinja2 in /usr/local/lib/python3.7/dist-packages (from spacy<3.5.0,>=3.4.0->en-core-web-sm==3.4.0) (2.11.3)\n",
            "Requirement already satisfied: spacy-legacy<3.1.0,>=3.0.9 in /usr/local/lib/python3.7/dist-packages (from spacy<3.5.0,>=3.4.0->en-core-web-sm==3.4.0) (3.0.9)\n",
            "Requirement already satisfied: pathy>=0.3.5 in /usr/local/lib/python3.7/dist-packages (from spacy<3.5.0,>=3.4.0->en-core-web-sm==3.4.0) (0.6.2)\n",
            "Requirement already satisfied: requests<3.0.0,>=2.13.0 in /usr/local/lib/python3.7/dist-packages (from spacy<3.5.0,>=3.4.0->en-core-web-sm==3.4.0) (2.23.0)\n",
            "Requirement already satisfied: numpy>=1.15.0 in /usr/local/lib/python3.7/dist-packages (from spacy<3.5.0,>=3.4.0->en-core-web-sm==3.4.0) (1.21.6)\n",
            "Requirement already satisfied: pydantic!=1.8,!=1.8.1,<1.10.0,>=1.7.4 in /usr/local/lib/python3.7/dist-packages (from spacy<3.5.0,>=3.4.0->en-core-web-sm==3.4.0) (1.9.1)\n",
            "Requirement already satisfied: thinc<8.2.0,>=8.1.0 in /usr/local/lib/python3.7/dist-packages (from spacy<3.5.0,>=3.4.0->en-core-web-sm==3.4.0) (8.1.0)\n",
            "Requirement already satisfied: setuptools in /usr/local/lib/python3.7/dist-packages (from spacy<3.5.0,>=3.4.0->en-core-web-sm==3.4.0) (57.4.0)\n",
            "Requirement already satisfied: srsly<3.0.0,>=2.4.3 in /usr/local/lib/python3.7/dist-packages (from spacy<3.5.0,>=3.4.0->en-core-web-sm==3.4.0) (2.4.4)\n",
            "Requirement already satisfied: spacy-loggers<2.0.0,>=1.0.0 in /usr/local/lib/python3.7/dist-packages (from spacy<3.5.0,>=3.4.0->en-core-web-sm==3.4.0) (1.0.3)\n",
            "Requirement already satisfied: murmurhash<1.1.0,>=0.28.0 in /usr/local/lib/python3.7/dist-packages (from spacy<3.5.0,>=3.4.0->en-core-web-sm==3.4.0) (1.0.7)\n",
            "Requirement already satisfied: typer<0.5.0,>=0.3.0 in /usr/local/lib/python3.7/dist-packages (from spacy<3.5.0,>=3.4.0->en-core-web-sm==3.4.0) (0.4.2)\n",
            "Requirement already satisfied: langcodes<4.0.0,>=3.2.0 in /usr/local/lib/python3.7/dist-packages (from spacy<3.5.0,>=3.4.0->en-core-web-sm==3.4.0) (3.3.0)\n",
            "Requirement already satisfied: cymem<2.1.0,>=2.0.2 in /usr/local/lib/python3.7/dist-packages (from spacy<3.5.0,>=3.4.0->en-core-web-sm==3.4.0) (2.0.6)\n",
            "Requirement already satisfied: wasabi<1.1.0,>=0.9.1 in /usr/local/lib/python3.7/dist-packages (from spacy<3.5.0,>=3.4.0->en-core-web-sm==3.4.0) (0.10.1)\n",
            "Requirement already satisfied: tqdm<5.0.0,>=4.38.0 in /usr/local/lib/python3.7/dist-packages (from spacy<3.5.0,>=3.4.0->en-core-web-sm==3.4.0) (4.64.0)\n",
            "Requirement already satisfied: packaging>=20.0 in /usr/local/lib/python3.7/dist-packages (from spacy<3.5.0,>=3.4.0->en-core-web-sm==3.4.0) (21.3)\n",
            "Requirement already satisfied: zipp>=0.5 in /usr/local/lib/python3.7/dist-packages (from catalogue<2.1.0,>=2.0.6->spacy<3.5.0,>=3.4.0->en-core-web-sm==3.4.0) (3.8.1)\n",
            "Requirement already satisfied: pyparsing!=3.0.5,>=2.0.2 in /usr/local/lib/python3.7/dist-packages (from packaging>=20.0->spacy<3.5.0,>=3.4.0->en-core-web-sm==3.4.0) (3.0.9)\n",
            "Requirement already satisfied: smart-open<6.0.0,>=5.2.1 in /usr/local/lib/python3.7/dist-packages (from pathy>=0.3.5->spacy<3.5.0,>=3.4.0->en-core-web-sm==3.4.0) (5.2.1)\n",
            "Requirement already satisfied: idna<3,>=2.5 in /usr/local/lib/python3.7/dist-packages (from requests<3.0.0,>=2.13.0->spacy<3.5.0,>=3.4.0->en-core-web-sm==3.4.0) (2.10)\n",
            "Requirement already satisfied: chardet<4,>=3.0.2 in /usr/local/lib/python3.7/dist-packages (from requests<3.0.0,>=2.13.0->spacy<3.5.0,>=3.4.0->en-core-web-sm==3.4.0) (3.0.4)\n",
            "Requirement already satisfied: certifi>=2017.4.17 in /usr/local/lib/python3.7/dist-packages (from requests<3.0.0,>=2.13.0->spacy<3.5.0,>=3.4.0->en-core-web-sm==3.4.0) (2022.6.15)\n",
            "Requirement already satisfied: urllib3!=1.25.0,!=1.25.1,<1.26,>=1.21.1 in /usr/local/lib/python3.7/dist-packages (from requests<3.0.0,>=2.13.0->spacy<3.5.0,>=3.4.0->en-core-web-sm==3.4.0) (1.24.3)\n",
            "Requirement already satisfied: blis<0.8.0,>=0.7.8 in /usr/local/lib/python3.7/dist-packages (from thinc<8.2.0,>=8.1.0->spacy<3.5.0,>=3.4.0->en-core-web-sm==3.4.0) (0.7.8)\n",
            "Requirement already satisfied: click<9.0.0,>=7.1.1 in /usr/local/lib/python3.7/dist-packages (from typer<0.5.0,>=0.3.0->spacy<3.5.0,>=3.4.0->en-core-web-sm==3.4.0) (7.1.2)\n",
            "Requirement already satisfied: MarkupSafe>=0.23 in /usr/local/lib/python3.7/dist-packages (from jinja2->spacy<3.5.0,>=3.4.0->en-core-web-sm==3.4.0) (2.0.1)\n",
            "\u001b[38;5;2m✔ Download and installation successful\u001b[0m\n",
            "You can now load the package via spacy.load('en_core_web_sm')\n"
          ]
        }
      ]
    },
    {
      "cell_type": "code",
      "source": [
        "#Import of stop words\n",
        "\n",
        "stopwords = nlp.Defaults.stop_words\n",
        "print(len(stopwords))"
      ],
      "metadata": {
        "colab": {
          "base_uri": "https://localhost:8080/"
        },
        "id": "pBGS8RrErRPE",
        "outputId": "25778c90-26de-4dd4-9e6a-f6d3da9c2ae7"
      },
      "execution_count": 243,
      "outputs": [
        {
          "output_type": "stream",
          "name": "stdout",
          "text": [
            "326\n"
          ]
        }
      ]
    },
    {
      "cell_type": "code",
      "source": [
        "# cleaning of the text\n",
        "data['text_cleaned'] = data['text'] .apply(lambda x:''.join(ch for ch in x if ch.isalnum() or ch==\" \"))\n",
        "data['text_cleaned'] = data['text_cleaned'].apply(lambda x: x.replace(\" +\",\" \").lower().strip())\n",
        "data['text_cleaned'] = data['text_cleaned'].str.replace(r\"http.*\",\"\")\n",
        "data['text_cleaned'] = data['text_cleaned'].str.replace(r\"https.*\",\"\")\n",
        "data['text_cleaned'] = data['text_cleaned'].apply(lambda x: \" \".join([token.lemma_ for token in nlp(x) if (token.lemma_ not in stopwords) & (token.text not in stopwords)]))\n",
        "\n"
      ],
      "metadata": {
        "id": "W12S9Z0rsl6A",
        "colab": {
          "base_uri": "https://localhost:8080/"
        },
        "outputId": "c2dc867c-180e-4944-d697-b582e906fa59"
      },
      "execution_count": 244,
      "outputs": [
        {
          "output_type": "stream",
          "name": "stderr",
          "text": [
            "/usr/local/lib/python3.7/dist-packages/ipykernel_launcher.py:4: FutureWarning:\n",
            "\n",
            "The default value of regex will change from True to False in a future version.\n",
            "\n",
            "/usr/local/lib/python3.7/dist-packages/ipykernel_launcher.py:5: FutureWarning:\n",
            "\n",
            "The default value of regex will change from True to False in a future version.\n",
            "\n"
          ]
        }
      ]
    },
    {
      "cell_type": "code",
      "source": [
        "# quick check if our new column works\n",
        "data.head()"
      ],
      "metadata": {
        "id": "oABXBge1w8TT",
        "colab": {
          "base_uri": "https://localhost:8080/",
          "height": 206
        },
        "outputId": "9535fe92-7e86-4c8c-b249-5451f822879f"
      },
      "execution_count": 245,
      "outputs": [
        {
          "output_type": "execute_result",
          "data": {
            "text/plain": [
              "   id keyword location                                               text  \\\n",
              "0   1     NaN      NaN  Our Deeds are the Reason of this #earthquake M...   \n",
              "1   4     NaN      NaN             Forest fire near La Ronge Sask. Canada   \n",
              "2   5     NaN      NaN  All residents asked to 'shelter in place' are ...   \n",
              "3   6     NaN      NaN  13,000 people receive #wildfires evacuation or...   \n",
              "4   7     NaN      NaN  Just got sent this photo from Ruby #Alaska as ...   \n",
              "\n",
              "   target                                       text_cleaned  \n",
              "0       1               deed reason earthquake allah forgive  \n",
              "1       1              forest fire near la ronge sask canada  \n",
              "2       1  resident ask shelter place notify officer evac...  \n",
              "3       1  13000 people receive wildfire evacuation order...  \n",
              "4       1  got send photo ruby alaska smoke wildfire pour...  "
            ],
            "text/html": [
              "\n",
              "  <div id=\"df-6fd1797d-394d-4c36-b4e3-34f2a8e352bf\">\n",
              "    <div class=\"colab-df-container\">\n",
              "      <div>\n",
              "<style scoped>\n",
              "    .dataframe tbody tr th:only-of-type {\n",
              "        vertical-align: middle;\n",
              "    }\n",
              "\n",
              "    .dataframe tbody tr th {\n",
              "        vertical-align: top;\n",
              "    }\n",
              "\n",
              "    .dataframe thead th {\n",
              "        text-align: right;\n",
              "    }\n",
              "</style>\n",
              "<table border=\"1\" class=\"dataframe\">\n",
              "  <thead>\n",
              "    <tr style=\"text-align: right;\">\n",
              "      <th></th>\n",
              "      <th>id</th>\n",
              "      <th>keyword</th>\n",
              "      <th>location</th>\n",
              "      <th>text</th>\n",
              "      <th>target</th>\n",
              "      <th>text_cleaned</th>\n",
              "    </tr>\n",
              "  </thead>\n",
              "  <tbody>\n",
              "    <tr>\n",
              "      <th>0</th>\n",
              "      <td>1</td>\n",
              "      <td>NaN</td>\n",
              "      <td>NaN</td>\n",
              "      <td>Our Deeds are the Reason of this #earthquake M...</td>\n",
              "      <td>1</td>\n",
              "      <td>deed reason earthquake allah forgive</td>\n",
              "    </tr>\n",
              "    <tr>\n",
              "      <th>1</th>\n",
              "      <td>4</td>\n",
              "      <td>NaN</td>\n",
              "      <td>NaN</td>\n",
              "      <td>Forest fire near La Ronge Sask. Canada</td>\n",
              "      <td>1</td>\n",
              "      <td>forest fire near la ronge sask canada</td>\n",
              "    </tr>\n",
              "    <tr>\n",
              "      <th>2</th>\n",
              "      <td>5</td>\n",
              "      <td>NaN</td>\n",
              "      <td>NaN</td>\n",
              "      <td>All residents asked to 'shelter in place' are ...</td>\n",
              "      <td>1</td>\n",
              "      <td>resident ask shelter place notify officer evac...</td>\n",
              "    </tr>\n",
              "    <tr>\n",
              "      <th>3</th>\n",
              "      <td>6</td>\n",
              "      <td>NaN</td>\n",
              "      <td>NaN</td>\n",
              "      <td>13,000 people receive #wildfires evacuation or...</td>\n",
              "      <td>1</td>\n",
              "      <td>13000 people receive wildfire evacuation order...</td>\n",
              "    </tr>\n",
              "    <tr>\n",
              "      <th>4</th>\n",
              "      <td>7</td>\n",
              "      <td>NaN</td>\n",
              "      <td>NaN</td>\n",
              "      <td>Just got sent this photo from Ruby #Alaska as ...</td>\n",
              "      <td>1</td>\n",
              "      <td>got send photo ruby alaska smoke wildfire pour...</td>\n",
              "    </tr>\n",
              "  </tbody>\n",
              "</table>\n",
              "</div>\n",
              "      <button class=\"colab-df-convert\" onclick=\"convertToInteractive('df-6fd1797d-394d-4c36-b4e3-34f2a8e352bf')\"\n",
              "              title=\"Convert this dataframe to an interactive table.\"\n",
              "              style=\"display:none;\">\n",
              "        \n",
              "  <svg xmlns=\"http://www.w3.org/2000/svg\" height=\"24px\"viewBox=\"0 0 24 24\"\n",
              "       width=\"24px\">\n",
              "    <path d=\"M0 0h24v24H0V0z\" fill=\"none\"/>\n",
              "    <path d=\"M18.56 5.44l.94 2.06.94-2.06 2.06-.94-2.06-.94-.94-2.06-.94 2.06-2.06.94zm-11 1L8.5 8.5l.94-2.06 2.06-.94-2.06-.94L8.5 2.5l-.94 2.06-2.06.94zm10 10l.94 2.06.94-2.06 2.06-.94-2.06-.94-.94-2.06-.94 2.06-2.06.94z\"/><path d=\"M17.41 7.96l-1.37-1.37c-.4-.4-.92-.59-1.43-.59-.52 0-1.04.2-1.43.59L10.3 9.45l-7.72 7.72c-.78.78-.78 2.05 0 2.83L4 21.41c.39.39.9.59 1.41.59.51 0 1.02-.2 1.41-.59l7.78-7.78 2.81-2.81c.8-.78.8-2.07 0-2.86zM5.41 20L4 18.59l7.72-7.72 1.47 1.35L5.41 20z\"/>\n",
              "  </svg>\n",
              "      </button>\n",
              "      \n",
              "  <style>\n",
              "    .colab-df-container {\n",
              "      display:flex;\n",
              "      flex-wrap:wrap;\n",
              "      gap: 12px;\n",
              "    }\n",
              "\n",
              "    .colab-df-convert {\n",
              "      background-color: #E8F0FE;\n",
              "      border: none;\n",
              "      border-radius: 50%;\n",
              "      cursor: pointer;\n",
              "      display: none;\n",
              "      fill: #1967D2;\n",
              "      height: 32px;\n",
              "      padding: 0 0 0 0;\n",
              "      width: 32px;\n",
              "    }\n",
              "\n",
              "    .colab-df-convert:hover {\n",
              "      background-color: #E2EBFA;\n",
              "      box-shadow: 0px 1px 2px rgba(60, 64, 67, 0.3), 0px 1px 3px 1px rgba(60, 64, 67, 0.15);\n",
              "      fill: #174EA6;\n",
              "    }\n",
              "\n",
              "    [theme=dark] .colab-df-convert {\n",
              "      background-color: #3B4455;\n",
              "      fill: #D2E3FC;\n",
              "    }\n",
              "\n",
              "    [theme=dark] .colab-df-convert:hover {\n",
              "      background-color: #434B5C;\n",
              "      box-shadow: 0px 1px 3px 1px rgba(0, 0, 0, 0.15);\n",
              "      filter: drop-shadow(0px 1px 2px rgba(0, 0, 0, 0.3));\n",
              "      fill: #FFFFFF;\n",
              "    }\n",
              "  </style>\n",
              "\n",
              "      <script>\n",
              "        const buttonEl =\n",
              "          document.querySelector('#df-6fd1797d-394d-4c36-b4e3-34f2a8e352bf button.colab-df-convert');\n",
              "        buttonEl.style.display =\n",
              "          google.colab.kernel.accessAllowed ? 'block' : 'none';\n",
              "\n",
              "        async function convertToInteractive(key) {\n",
              "          const element = document.querySelector('#df-6fd1797d-394d-4c36-b4e3-34f2a8e352bf');\n",
              "          const dataTable =\n",
              "            await google.colab.kernel.invokeFunction('convertToInteractive',\n",
              "                                                     [key], {});\n",
              "          if (!dataTable) return;\n",
              "\n",
              "          const docLinkHtml = 'Like what you see? Visit the ' +\n",
              "            '<a target=\"_blank\" href=https://colab.research.google.com/notebooks/data_table.ipynb>data table notebook</a>'\n",
              "            + ' to learn more about interactive tables.';\n",
              "          element.innerHTML = '';\n",
              "          dataTable['output_type'] = 'display_data';\n",
              "          await google.colab.output.renderOutput(dataTable, element);\n",
              "          const docLink = document.createElement('div');\n",
              "          docLink.innerHTML = docLinkHtml;\n",
              "          element.appendChild(docLink);\n",
              "        }\n",
              "      </script>\n",
              "    </div>\n",
              "  </div>\n",
              "  "
            ]
          },
          "metadata": {},
          "execution_count": 245
        }
      ]
    },
    {
      "cell_type": "code",
      "source": [
        "# quick view of some cleaned data\n",
        "data['text_cleaned'].sample(20)"
      ],
      "metadata": {
        "colab": {
          "base_uri": "https://localhost:8080/"
        },
        "id": "4sWcMmDk2pax",
        "outputId": "b73a9cf1-0f80-4228-aeec-eda01f430e0f"
      },
      "execution_count": 246,
      "outputs": [
        {
          "output_type": "execute_result",
          "data": {
            "text/plain": [
              "7149                                  lexipurduee volcano\n",
              "6659    build share custom application threatconnect w...\n",
              "5681                     rescue med migrant arrive sicily\n",
              "3124    pakistannew nankana sahib city news electrocut...\n",
              "4833    flgovscott allow farrakhan   challenge 10000 m...\n",
              "1963    severe weather bulletin 6tropical cyclone warn...\n",
              "4068    campsite recommendation toilet shower pub fire...\n",
              "1247    fire hazard associate installation noncomplian...\n",
              "7406    twilight encore wound heart book 3 jacquie biggar\n",
              "5417    feel like panic idk result week m alarmingly calm\n",
              "53      police arsonist deliberately set black church ...\n",
              "6686    heavy rain frequent thunder gusty wind uptown ...\n",
              "6506             shit happen today wtf idk survive thruuu\n",
              "5576                      way like rainstorm m house card\n",
              "1463                cultivate joy face catastrophe suffer\n",
              "977     å new lady shoulder tote handbag faux leather ...\n",
              "6540    thesmallclark hell kill instead survive shot e...\n",
              "5377                panic disco good song gospel acoustic\n",
              "3229    hiring read late job opening emergency departm...\n",
              "4828    noahanyname utopian impulse inevitably end gul...\n",
              "Name: text_cleaned, dtype: object"
            ]
          },
          "metadata": {},
          "execution_count": 246
        }
      ]
    },
    {
      "cell_type": "code",
      "source": [
        "# Tokening\n",
        "tokenizer = keras.preprocessing.text.Tokenizer(num_words=10000) # instanciate the tokenizer\n",
        "tokenizer.fit_on_texts(data['text_cleaned'])\n",
        "data[\"text_encoded\"] = tokenizer.texts_to_sequences(data['text_cleaned'])"
      ],
      "metadata": {
        "id": "IdloBlfI2-99"
      },
      "execution_count": 247,
      "outputs": []
    },
    {
      "cell_type": "code",
      "source": [
        "data.head(10)"
      ],
      "metadata": {
        "colab": {
          "base_uri": "https://localhost:8080/",
          "height": 528
        },
        "id": "Mgc9xiLFWlgj",
        "outputId": "022e41eb-6fbb-4a43-cb94-460b3e0192e5"
      },
      "execution_count": 248,
      "outputs": [
        {
          "output_type": "execute_result",
          "data": {
            "text/plain": [
              "   id keyword location                                               text  \\\n",
              "0   1     NaN      NaN  Our Deeds are the Reason of this #earthquake M...   \n",
              "1   4     NaN      NaN             Forest fire near La Ronge Sask. Canada   \n",
              "2   5     NaN      NaN  All residents asked to 'shelter in place' are ...   \n",
              "3   6     NaN      NaN  13,000 people receive #wildfires evacuation or...   \n",
              "4   7     NaN      NaN  Just got sent this photo from Ruby #Alaska as ...   \n",
              "5   8     NaN      NaN  #RockyFire Update => California Hwy. 20 closed...   \n",
              "6  10     NaN      NaN  #flood #disaster Heavy rain causes flash flood...   \n",
              "7  13     NaN      NaN  I'm on top of the hill and I can see a fire in...   \n",
              "8  14     NaN      NaN  There's an emergency evacuation happening now ...   \n",
              "9  15     NaN      NaN  I'm afraid that the tornado is coming to our a...   \n",
              "\n",
              "   target                                       text_cleaned  \\\n",
              "0       1               deed reason earthquake allah forgive   \n",
              "1       1              forest fire near la ronge sask canada   \n",
              "2       1  resident ask shelter place notify officer evac...   \n",
              "3       1  13000 people receive wildfire evacuation order...   \n",
              "4       1  got send photo ruby alaska smoke wildfire pour...   \n",
              "5       1  rockyfire update   california hwy 20 close dir...   \n",
              "6       1  flood disaster heavy rain cause flash flooding...   \n",
              "7       1                                   m hill fire wood   \n",
              "8       1      s emergency evacuation happen building street   \n",
              "9       1                         m afraid tornado come area   \n",
              "\n",
              "                                        text_encoded  \n",
              "0                       [3479, 398, 226, 1337, 1868]  \n",
              "1               [126, 2, 157, 489, 5239, 5240, 1223]  \n",
              "2  [1338, 425, 1640, 340, 5241, 275, 187, 1640, 3...  \n",
              "3                  [2205, 7, 2206, 69, 187, 267, 34]  \n",
              "4    [246, 176, 127, 5242, 1641, 164, 69, 2207, 103]  \n",
              "5  [2208, 165, 34, 1224, 535, 305, 816, 764, 276,...  \n",
              "6  [28, 16, 653, 154, 47, 612, 341, 380, 5244, 76...  \n",
              "7                                 [3, 1122, 2, 1642]  \n",
              "8                         [5, 14, 187, 170, 30, 380]  \n",
              "9                            [3, 1869, 291, 12, 196]  "
            ],
            "text/html": [
              "\n",
              "  <div id=\"df-43cf7dc2-0329-4467-86ce-06fb76381e3a\">\n",
              "    <div class=\"colab-df-container\">\n",
              "      <div>\n",
              "<style scoped>\n",
              "    .dataframe tbody tr th:only-of-type {\n",
              "        vertical-align: middle;\n",
              "    }\n",
              "\n",
              "    .dataframe tbody tr th {\n",
              "        vertical-align: top;\n",
              "    }\n",
              "\n",
              "    .dataframe thead th {\n",
              "        text-align: right;\n",
              "    }\n",
              "</style>\n",
              "<table border=\"1\" class=\"dataframe\">\n",
              "  <thead>\n",
              "    <tr style=\"text-align: right;\">\n",
              "      <th></th>\n",
              "      <th>id</th>\n",
              "      <th>keyword</th>\n",
              "      <th>location</th>\n",
              "      <th>text</th>\n",
              "      <th>target</th>\n",
              "      <th>text_cleaned</th>\n",
              "      <th>text_encoded</th>\n",
              "    </tr>\n",
              "  </thead>\n",
              "  <tbody>\n",
              "    <tr>\n",
              "      <th>0</th>\n",
              "      <td>1</td>\n",
              "      <td>NaN</td>\n",
              "      <td>NaN</td>\n",
              "      <td>Our Deeds are the Reason of this #earthquake M...</td>\n",
              "      <td>1</td>\n",
              "      <td>deed reason earthquake allah forgive</td>\n",
              "      <td>[3479, 398, 226, 1337, 1868]</td>\n",
              "    </tr>\n",
              "    <tr>\n",
              "      <th>1</th>\n",
              "      <td>4</td>\n",
              "      <td>NaN</td>\n",
              "      <td>NaN</td>\n",
              "      <td>Forest fire near La Ronge Sask. Canada</td>\n",
              "      <td>1</td>\n",
              "      <td>forest fire near la ronge sask canada</td>\n",
              "      <td>[126, 2, 157, 489, 5239, 5240, 1223]</td>\n",
              "    </tr>\n",
              "    <tr>\n",
              "      <th>2</th>\n",
              "      <td>5</td>\n",
              "      <td>NaN</td>\n",
              "      <td>NaN</td>\n",
              "      <td>All residents asked to 'shelter in place' are ...</td>\n",
              "      <td>1</td>\n",
              "      <td>resident ask shelter place notify officer evac...</td>\n",
              "      <td>[1338, 425, 1640, 340, 5241, 275, 187, 1640, 3...</td>\n",
              "    </tr>\n",
              "    <tr>\n",
              "      <th>3</th>\n",
              "      <td>6</td>\n",
              "      <td>NaN</td>\n",
              "      <td>NaN</td>\n",
              "      <td>13,000 people receive #wildfires evacuation or...</td>\n",
              "      <td>1</td>\n",
              "      <td>13000 people receive wildfire evacuation order...</td>\n",
              "      <td>[2205, 7, 2206, 69, 187, 267, 34]</td>\n",
              "    </tr>\n",
              "    <tr>\n",
              "      <th>4</th>\n",
              "      <td>7</td>\n",
              "      <td>NaN</td>\n",
              "      <td>NaN</td>\n",
              "      <td>Just got sent this photo from Ruby #Alaska as ...</td>\n",
              "      <td>1</td>\n",
              "      <td>got send photo ruby alaska smoke wildfire pour...</td>\n",
              "      <td>[246, 176, 127, 5242, 1641, 164, 69, 2207, 103]</td>\n",
              "    </tr>\n",
              "    <tr>\n",
              "      <th>5</th>\n",
              "      <td>8</td>\n",
              "      <td>NaN</td>\n",
              "      <td>NaN</td>\n",
              "      <td>#RockyFire Update =&gt; California Hwy. 20 closed...</td>\n",
              "      <td>1</td>\n",
              "      <td>rockyfire update   california hwy 20 close dir...</td>\n",
              "      <td>[2208, 165, 34, 1224, 535, 305, 816, 764, 276,...</td>\n",
              "    </tr>\n",
              "    <tr>\n",
              "      <th>6</th>\n",
              "      <td>10</td>\n",
              "      <td>NaN</td>\n",
              "      <td>NaN</td>\n",
              "      <td>#flood #disaster Heavy rain causes flash flood...</td>\n",
              "      <td>1</td>\n",
              "      <td>flood disaster heavy rain cause flash flooding...</td>\n",
              "      <td>[28, 16, 653, 154, 47, 612, 341, 380, 5244, 76...</td>\n",
              "    </tr>\n",
              "    <tr>\n",
              "      <th>7</th>\n",
              "      <td>13</td>\n",
              "      <td>NaN</td>\n",
              "      <td>NaN</td>\n",
              "      <td>I'm on top of the hill and I can see a fire in...</td>\n",
              "      <td>1</td>\n",
              "      <td>m hill fire wood</td>\n",
              "      <td>[3, 1122, 2, 1642]</td>\n",
              "    </tr>\n",
              "    <tr>\n",
              "      <th>8</th>\n",
              "      <td>14</td>\n",
              "      <td>NaN</td>\n",
              "      <td>NaN</td>\n",
              "      <td>There's an emergency evacuation happening now ...</td>\n",
              "      <td>1</td>\n",
              "      <td>s emergency evacuation happen building street</td>\n",
              "      <td>[5, 14, 187, 170, 30, 380]</td>\n",
              "    </tr>\n",
              "    <tr>\n",
              "      <th>9</th>\n",
              "      <td>15</td>\n",
              "      <td>NaN</td>\n",
              "      <td>NaN</td>\n",
              "      <td>I'm afraid that the tornado is coming to our a...</td>\n",
              "      <td>1</td>\n",
              "      <td>m afraid tornado come area</td>\n",
              "      <td>[3, 1869, 291, 12, 196]</td>\n",
              "    </tr>\n",
              "  </tbody>\n",
              "</table>\n",
              "</div>\n",
              "      <button class=\"colab-df-convert\" onclick=\"convertToInteractive('df-43cf7dc2-0329-4467-86ce-06fb76381e3a')\"\n",
              "              title=\"Convert this dataframe to an interactive table.\"\n",
              "              style=\"display:none;\">\n",
              "        \n",
              "  <svg xmlns=\"http://www.w3.org/2000/svg\" height=\"24px\"viewBox=\"0 0 24 24\"\n",
              "       width=\"24px\">\n",
              "    <path d=\"M0 0h24v24H0V0z\" fill=\"none\"/>\n",
              "    <path d=\"M18.56 5.44l.94 2.06.94-2.06 2.06-.94-2.06-.94-.94-2.06-.94 2.06-2.06.94zm-11 1L8.5 8.5l.94-2.06 2.06-.94-2.06-.94L8.5 2.5l-.94 2.06-2.06.94zm10 10l.94 2.06.94-2.06 2.06-.94-2.06-.94-.94-2.06-.94 2.06-2.06.94z\"/><path d=\"M17.41 7.96l-1.37-1.37c-.4-.4-.92-.59-1.43-.59-.52 0-1.04.2-1.43.59L10.3 9.45l-7.72 7.72c-.78.78-.78 2.05 0 2.83L4 21.41c.39.39.9.59 1.41.59.51 0 1.02-.2 1.41-.59l7.78-7.78 2.81-2.81c.8-.78.8-2.07 0-2.86zM5.41 20L4 18.59l7.72-7.72 1.47 1.35L5.41 20z\"/>\n",
              "  </svg>\n",
              "      </button>\n",
              "      \n",
              "  <style>\n",
              "    .colab-df-container {\n",
              "      display:flex;\n",
              "      flex-wrap:wrap;\n",
              "      gap: 12px;\n",
              "    }\n",
              "\n",
              "    .colab-df-convert {\n",
              "      background-color: #E8F0FE;\n",
              "      border: none;\n",
              "      border-radius: 50%;\n",
              "      cursor: pointer;\n",
              "      display: none;\n",
              "      fill: #1967D2;\n",
              "      height: 32px;\n",
              "      padding: 0 0 0 0;\n",
              "      width: 32px;\n",
              "    }\n",
              "\n",
              "    .colab-df-convert:hover {\n",
              "      background-color: #E2EBFA;\n",
              "      box-shadow: 0px 1px 2px rgba(60, 64, 67, 0.3), 0px 1px 3px 1px rgba(60, 64, 67, 0.15);\n",
              "      fill: #174EA6;\n",
              "    }\n",
              "\n",
              "    [theme=dark] .colab-df-convert {\n",
              "      background-color: #3B4455;\n",
              "      fill: #D2E3FC;\n",
              "    }\n",
              "\n",
              "    [theme=dark] .colab-df-convert:hover {\n",
              "      background-color: #434B5C;\n",
              "      box-shadow: 0px 1px 3px 1px rgba(0, 0, 0, 0.15);\n",
              "      filter: drop-shadow(0px 1px 2px rgba(0, 0, 0, 0.3));\n",
              "      fill: #FFFFFF;\n",
              "    }\n",
              "  </style>\n",
              "\n",
              "      <script>\n",
              "        const buttonEl =\n",
              "          document.querySelector('#df-43cf7dc2-0329-4467-86ce-06fb76381e3a button.colab-df-convert');\n",
              "        buttonEl.style.display =\n",
              "          google.colab.kernel.accessAllowed ? 'block' : 'none';\n",
              "\n",
              "        async function convertToInteractive(key) {\n",
              "          const element = document.querySelector('#df-43cf7dc2-0329-4467-86ce-06fb76381e3a');\n",
              "          const dataTable =\n",
              "            await google.colab.kernel.invokeFunction('convertToInteractive',\n",
              "                                                     [key], {});\n",
              "          if (!dataTable) return;\n",
              "\n",
              "          const docLinkHtml = 'Like what you see? Visit the ' +\n",
              "            '<a target=\"_blank\" href=https://colab.research.google.com/notebooks/data_table.ipynb>data table notebook</a>'\n",
              "            + ' to learn more about interactive tables.';\n",
              "          element.innerHTML = '';\n",
              "          dataTable['output_type'] = 'display_data';\n",
              "          await google.colab.output.renderOutput(dataTable, element);\n",
              "          const docLink = document.createElement('div');\n",
              "          docLink.innerHTML = docLinkHtml;\n",
              "          element.appendChild(docLink);\n",
              "        }\n",
              "      </script>\n",
              "    </div>\n",
              "  </div>\n",
              "  "
            ]
          },
          "metadata": {},
          "execution_count": 248
        }
      ]
    },
    {
      "cell_type": "code",
      "source": [
        "# Adding padding\n",
        "text_pad = keras.preprocessing.sequence.pad_sequences(data['text_encoded'], padding=\"post\")"
      ],
      "metadata": {
        "id": "GD0R26E4X8J6"
      },
      "execution_count": 249,
      "outputs": []
    },
    {
      "cell_type": "code",
      "source": [
        "text_pad\n"
      ],
      "metadata": {
        "colab": {
          "base_uri": "https://localhost:8080/"
        },
        "id": "bTxjWsB9YdD0",
        "outputId": "d509462f-8738-4657-9a03-dbf173dadee7"
      },
      "execution_count": 250,
      "outputs": [
        {
          "output_type": "execute_result",
          "data": {
            "text/plain": [
              "array([[3479,  398,  226, ...,    0,    0,    0],\n",
              "       [ 126,    2,  157, ...,    0,    0,    0],\n",
              "       [1338,  425, 1640, ...,    0,    0,    0],\n",
              "       ...,\n",
              "       [2567, 3475, 5209, ...,    0,    0,    0],\n",
              "       [  23,  712, 2454, ...,    0,    0,    0],\n",
              "       [ 104,   25,  365, ...,    0,    0,    0]], dtype=int32)"
            ]
          },
          "metadata": {},
          "execution_count": 250
        }
      ]
    },
    {
      "cell_type": "code",
      "source": [
        "text_pad.shape\n"
      ],
      "metadata": {
        "colab": {
          "base_uri": "https://localhost:8080/"
        },
        "id": "6jKfEddR19gi",
        "outputId": "6501e847-c0d2-45c8-f0d3-62b5a165bff7"
      },
      "execution_count": 251,
      "outputs": [
        {
          "output_type": "execute_result",
          "data": {
            "text/plain": [
              "(7613, 25)"
            ]
          },
          "metadata": {},
          "execution_count": 251
        }
      ]
    },
    {
      "cell_type": "code",
      "source": [
        "# Train Test Split\n",
        "xtrain, xval, ytrain, yval = train_test_split(text_pad,data.target, test_size=0.3, random_state=42)\n",
        "\n",
        "#Train and Val dataset creation\n",
        "train = tf.data.Dataset.from_tensor_slices((xtrain, ytrain))\n",
        "val = tf.data.Dataset.from_tensor_slices((xval, yval))"
      ],
      "metadata": {
        "id": "hNF5sbcquNL0"
      },
      "execution_count": 252,
      "outputs": []
    },
    {
      "cell_type": "code",
      "source": [
        "#Batch creation\n",
        "\n",
        "train_batch = train.shuffle(len(train)).batch(64)\n",
        "val_batch = val.shuffle(len(val)).batch(64)\n"
      ],
      "metadata": {
        "id": "aXxC1pHeuv31"
      },
      "execution_count": 253,
      "outputs": []
    },
    {
      "cell_type": "markdown",
      "source": [
        "## Part 2 : Model building"
      ],
      "metadata": {
        "id": "m8RsdXpOzb6A"
      }
    },
    {
      "cell_type": "markdown",
      "source": [
        "FIRST MODEL"
      ],
      "metadata": {
        "id": "SR1En1GgvlnP"
      }
    },
    {
      "cell_type": "code",
      "source": [
        "# Model creation\n",
        "vocab_size = tokenizer.num_words\n",
        "model = tf.keras.Sequential([\n",
        "                  # Input Word Embedding layer          \n",
        "                  tf.keras.layers.Embedding(vocab_size+1, 64,name=\"embedding\"),\n",
        "                  # Gobal average pooling\n",
        "                  tf.keras.layers.GlobalAveragePooling1D(),\n",
        "\n",
        "                  # Dense layers\n",
        "                  tf.keras.layers.Dense(32, activation='relu'),\n",
        "\n",
        "                  tf.keras.layers.Dense(16, activation='relu'),\n",
        "\n",
        "                  # output layers with sigmoid activation function as it's a binary classification case\n",
        "                  tf.keras.layers.Dense(1, activation=\"sigmoid\")\n",
        "])"
      ],
      "metadata": {
        "id": "K1ufyzOWvnXo"
      },
      "execution_count": 254,
      "outputs": []
    },
    {
      "cell_type": "code",
      "source": [
        "# Optimizer and logs settings\n",
        "optimizer= tf.keras.optimizers.Adam(learning_rate = 0.0001)\n",
        "\n",
        "model.compile(optimizer=optimizer,\n",
        "              loss=tf.keras.losses.BinaryCrossentropy(),\n",
        "             metrics=[tf.keras.metrics.BinaryAccuracy()])"
      ],
      "metadata": {
        "id": "selMEhaTv2tY"
      },
      "execution_count": 255,
      "outputs": []
    },
    {
      "cell_type": "code",
      "source": [
        "# CALLBACK OPTION 1\n",
        "# tensorboard_callback = tf.keras.callbacks.TensorBoard(log_dir=\"logs\")"
      ],
      "metadata": {
        "id": "jsjSYkTzv4kZ"
      },
      "execution_count": 256,
      "outputs": []
    },
    {
      "cell_type": "code",
      "source": [
        "# CALLBACK OPTION 2\n",
        "tensorboard_callback = tf.keras.callbacks.EarlyStopping(\n",
        "    monitor='val_loss',\n",
        "    min_delta=0,\n",
        "    patience=5,\n",
        "    verbose=0,\n",
        "    mode='auto',\n",
        "    baseline=None,\n",
        "    restore_best_weights=False\n",
        ")"
      ],
      "metadata": {
        "id": "aeNxzhXVSki0"
      },
      "execution_count": 257,
      "outputs": []
    },
    {
      "cell_type": "code",
      "source": [
        "# quick check of the model\n",
        "model.summary()"
      ],
      "metadata": {
        "colab": {
          "base_uri": "https://localhost:8080/"
        },
        "id": "fuUjfL_V1Rxl",
        "outputId": "8089dc1b-6b8d-4317-e7c2-881919c7f8fb"
      },
      "execution_count": 258,
      "outputs": [
        {
          "output_type": "stream",
          "name": "stdout",
          "text": [
            "Model: \"sequential_43\"\n",
            "_________________________________________________________________\n",
            " Layer (type)                Output Shape              Param #   \n",
            "=================================================================\n",
            " embedding (Embedding)       (None, None, 64)          640064    \n",
            "                                                                 \n",
            " global_average_pooling1d_43  (None, 64)               0         \n",
            "  (GlobalAveragePooling1D)                                       \n",
            "                                                                 \n",
            " dense_157 (Dense)           (None, 32)                2080      \n",
            "                                                                 \n",
            " dense_158 (Dense)           (None, 16)                528       \n",
            "                                                                 \n",
            " dense_159 (Dense)           (None, 1)                 17        \n",
            "                                                                 \n",
            "=================================================================\n",
            "Total params: 642,689\n",
            "Trainable params: 642,689\n",
            "Non-trainable params: 0\n",
            "_________________________________________________________________\n"
          ]
        }
      ]
    },
    {
      "cell_type": "code",
      "source": [
        "# Training\n",
        "history = model.fit(train_batch, \n",
        "                    epochs=50, \n",
        "                    validation_data=val_batch,\n",
        "                    callbacks=[tensorboard_callback])"
      ],
      "metadata": {
        "colab": {
          "base_uri": "https://localhost:8080/"
        },
        "id": "ZBctqv7yv4ry",
        "outputId": "bb32355b-a662-4af8-aa67-4585c556c4d3"
      },
      "execution_count": 259,
      "outputs": [
        {
          "output_type": "stream",
          "name": "stdout",
          "text": [
            "Epoch 1/50\n",
            "84/84 [==============================] - 2s 13ms/step - loss: 0.6917 - binary_accuracy: 0.5418 - val_loss: 0.6889 - val_binary_accuracy: 0.5771\n",
            "Epoch 2/50\n",
            "84/84 [==============================] - 1s 13ms/step - loss: 0.6865 - binary_accuracy: 0.5675 - val_loss: 0.6831 - val_binary_accuracy: 0.5771\n",
            "Epoch 3/50\n",
            "84/84 [==============================] - 1s 15ms/step - loss: 0.6811 - binary_accuracy: 0.5675 - val_loss: 0.6773 - val_binary_accuracy: 0.5771\n",
            "Epoch 4/50\n",
            "84/84 [==============================] - 2s 21ms/step - loss: 0.6751 - binary_accuracy: 0.5675 - val_loss: 0.6716 - val_binary_accuracy: 0.5771\n",
            "Epoch 5/50\n",
            "84/84 [==============================] - 2s 20ms/step - loss: 0.6684 - binary_accuracy: 0.5675 - val_loss: 0.6649 - val_binary_accuracy: 0.5775\n",
            "Epoch 6/50\n",
            "84/84 [==============================] - 2s 19ms/step - loss: 0.6590 - binary_accuracy: 0.5718 - val_loss: 0.6563 - val_binary_accuracy: 0.5884\n",
            "Epoch 7/50\n",
            "84/84 [==============================] - 2s 21ms/step - loss: 0.6456 - binary_accuracy: 0.6069 - val_loss: 0.6431 - val_binary_accuracy: 0.6270\n",
            "Epoch 8/50\n",
            "84/84 [==============================] - 2s 20ms/step - loss: 0.6251 - binary_accuracy: 0.6619 - val_loss: 0.6255 - val_binary_accuracy: 0.6751\n",
            "Epoch 9/50\n",
            "84/84 [==============================] - 2s 22ms/step - loss: 0.5995 - binary_accuracy: 0.7133 - val_loss: 0.6045 - val_binary_accuracy: 0.7246\n",
            "Epoch 10/50\n",
            "84/84 [==============================] - 2s 23ms/step - loss: 0.5693 - binary_accuracy: 0.7681 - val_loss: 0.5808 - val_binary_accuracy: 0.7500\n",
            "Epoch 11/50\n",
            "84/84 [==============================] - 2s 20ms/step - loss: 0.5354 - binary_accuracy: 0.7970 - val_loss: 0.5568 - val_binary_accuracy: 0.7806\n",
            "Epoch 12/50\n",
            "84/84 [==============================] - 2s 18ms/step - loss: 0.5008 - binary_accuracy: 0.8259 - val_loss: 0.5323 - val_binary_accuracy: 0.7850\n",
            "Epoch 13/50\n",
            "84/84 [==============================] - 2s 23ms/step - loss: 0.4659 - binary_accuracy: 0.8388 - val_loss: 0.5107 - val_binary_accuracy: 0.7920\n",
            "Epoch 14/50\n",
            "84/84 [==============================] - 2s 20ms/step - loss: 0.4339 - binary_accuracy: 0.8531 - val_loss: 0.4928 - val_binary_accuracy: 0.8030\n",
            "Epoch 15/50\n",
            "84/84 [==============================] - 2s 19ms/step - loss: 0.4056 - binary_accuracy: 0.8636 - val_loss: 0.4794 - val_binary_accuracy: 0.8100\n",
            "Epoch 16/50\n",
            "84/84 [==============================] - 2s 21ms/step - loss: 0.3803 - binary_accuracy: 0.8660 - val_loss: 0.4681 - val_binary_accuracy: 0.8078\n",
            "Epoch 17/50\n",
            "84/84 [==============================] - 2s 19ms/step - loss: 0.3571 - binary_accuracy: 0.8765 - val_loss: 0.4581 - val_binary_accuracy: 0.8095\n",
            "Epoch 18/50\n",
            "84/84 [==============================] - 2s 19ms/step - loss: 0.3377 - binary_accuracy: 0.8793 - val_loss: 0.4525 - val_binary_accuracy: 0.8047\n",
            "Epoch 19/50\n",
            "84/84 [==============================] - 1s 11ms/step - loss: 0.3203 - binary_accuracy: 0.8850 - val_loss: 0.4488 - val_binary_accuracy: 0.8012\n",
            "Epoch 20/50\n",
            "84/84 [==============================] - 1s 11ms/step - loss: 0.3050 - binary_accuracy: 0.8895 - val_loss: 0.4476 - val_binary_accuracy: 0.7968\n",
            "Epoch 21/50\n",
            "84/84 [==============================] - 1s 12ms/step - loss: 0.2913 - binary_accuracy: 0.8923 - val_loss: 0.4470 - val_binary_accuracy: 0.7951\n",
            "Epoch 22/50\n",
            "84/84 [==============================] - 1s 13ms/step - loss: 0.2789 - binary_accuracy: 0.8966 - val_loss: 0.4480 - val_binary_accuracy: 0.7955\n",
            "Epoch 23/50\n",
            "84/84 [==============================] - 1s 12ms/step - loss: 0.2676 - binary_accuracy: 0.9019 - val_loss: 0.4470 - val_binary_accuracy: 0.7964\n",
            "Epoch 24/50\n",
            "84/84 [==============================] - 1s 12ms/step - loss: 0.2579 - binary_accuracy: 0.9026 - val_loss: 0.4478 - val_binary_accuracy: 0.7973\n",
            "Epoch 25/50\n",
            "84/84 [==============================] - 1s 12ms/step - loss: 0.2481 - binary_accuracy: 0.9075 - val_loss: 0.4516 - val_binary_accuracy: 0.7933\n",
            "Epoch 26/50\n",
            "84/84 [==============================] - 1s 11ms/step - loss: 0.2399 - binary_accuracy: 0.9096 - val_loss: 0.4542 - val_binary_accuracy: 0.7907\n"
          ]
        }
      ]
    },
    {
      "cell_type": "code",
      "source": [
        "# Visualization of the training process for the loss\n",
        "plt.plot(history.history[\"loss\"], color=\"m\")\n",
        "plt.plot(history.history[\"val_loss\"], color=\"c\")\n",
        "plt.ylabel(\"loss\")\n",
        "plt.xlabel(\"Epochs\")\n",
        "plt.show()"
      ],
      "metadata": {
        "colab": {
          "base_uri": "https://localhost:8080/",
          "height": 279
        },
        "id": "5N2tPZilulC3",
        "outputId": "8cb215e6-0810-4796-914a-f7ac57f3a2f5"
      },
      "execution_count": 260,
      "outputs": [
        {
          "output_type": "display_data",
          "data": {
            "text/plain": [
              "<Figure size 432x288 with 1 Axes>"
            ],
            "image/png": "[encoded data removed]"
          },
          "metadata": {
            "needs_background": "light"
          }
        }
      ]
    },
    {
      "cell_type": "code",
      "source": [
        "# Visualization of the training process for the accuracy\n",
        "plt.plot(history.history[\"binary_accuracy\"], color=\"g\")\n",
        "plt.plot(history.history[\"val_binary_accuracy\"], color=\"m\")\n",
        "plt.ylabel(\"acurracy\")\n",
        "plt.xlabel(\"Epochs\")\n",
        "plt.show()"
      ],
      "metadata": {
        "colab": {
          "base_uri": "https://localhost:8080/",
          "height": 279
        },
        "id": "V3gurlyoulKR",
        "outputId": "50a20aca-6714-4488-d754-85d14b28eb42"
      },
      "execution_count": 261,
      "outputs": [
        {
          "output_type": "display_data",
          "data": {
            "text/plain": [
              "<Figure size 432x288 with 1 Axes>"
            ],
            "image/png": "[encoded data removed]"
          },
          "metadata": {
            "needs_background": "light"
          }
        }
      ]
    },
    {
      "cell_type": "markdown",
      "source": [
        "The first model stops at:\n",
        "Epoch 26/50\n",
        "84/84 [==============================] - 1s 11ms/step - loss: 0.2399 - binary_accuracy: 0.9096 - val_loss: 0.4542 - val_binary_accuracy: 0.7907\n",
        "\n",
        "Those results are not too bad but the validation loss is quite high and we're over fitting."
      ],
      "metadata": {
        "id": "2LhIdLqywcWM"
      }
    },
    {
      "cell_type": "markdown",
      "source": [
        "SECOND MODEL : let's see what happen if we add some layers\n"
      ],
      "metadata": {
        "id": "PpdfwRaY77v3"
      }
    },
    {
      "cell_type": "code",
      "source": [
        "model2 = tf.keras.Sequential([\n",
        "                  # Couche d'Input Word Embedding           \n",
        "                  tf.keras.layers.Embedding(vocab_size+1, 256,name=\"embedding\"),\n",
        "                  # Gobal average pooling\n",
        "                  tf.keras.layers.GlobalAveragePooling1D(),\n",
        "\n",
        "                  # Couche Dense classique\n",
        "                  tf.keras.layers.Dense(128, activation='relu'),\n",
        "\n",
        "                  # Couche Dense classique\n",
        "                  tf.keras.layers.Dense(64, activation='relu'),\n",
        "\n",
        "                  # Couche Dense classique\n",
        "                  tf.keras.layers.Dense(32, activation='relu'),\n",
        "\n",
        "                  # Couche Dense classique\n",
        "                  tf.keras.layers.Dense(16, activation='relu'),\n",
        "\n",
        "                  # Couche de sortie avec le nombre de neurones en sortie égale au nombre de classe avec fonction softmax\n",
        "                  tf.keras.layers.Dense(1, activation=\"sigmoid\")\n",
        "])\n",
        "\n",
        "model2.compile(optimizer=optimizer,\n",
        "              loss=tf.keras.losses.BinaryCrossentropy(),\n",
        "             metrics=[tf.keras.metrics.BinaryAccuracy()])"
      ],
      "metadata": {
        "id": "YOkfJ2_B79nG"
      },
      "execution_count": 262,
      "outputs": []
    },
    {
      "cell_type": "code",
      "source": [
        "history = model2.fit(train_batch, \n",
        "                    epochs=50, \n",
        "                    validation_data=val_batch,\n",
        "                    callbacks=[tensorboard_callback])"
      ],
      "metadata": {
        "colab": {
          "base_uri": "https://localhost:8080/"
        },
        "id": "_ldzrJjG8SbN",
        "outputId": "cfa2e9ea-2df6-41c1-9602-85dc066b12c1"
      },
      "execution_count": 263,
      "outputs": [
        {
          "output_type": "stream",
          "name": "stdout",
          "text": [
            "Epoch 1/50\n",
            "84/84 [==============================] - 60s 38ms/step - loss: 0.6784 - binary_accuracy: 0.5673 - val_loss: 0.6641 - val_binary_accuracy: 0.5771\n",
            "Epoch 2/50\n",
            "84/84 [==============================] - 3s 35ms/step - loss: 0.6193 - binary_accuracy: 0.6373 - val_loss: 0.5591 - val_binary_accuracy: 0.7548\n",
            "Epoch 3/50\n",
            "84/84 [==============================] - 3s 35ms/step - loss: 0.4443 - binary_accuracy: 0.8356 - val_loss: 0.4681 - val_binary_accuracy: 0.8047\n",
            "Epoch 4/50\n",
            "84/84 [==============================] - 3s 35ms/step - loss: 0.3169 - binary_accuracy: 0.8752 - val_loss: 0.4676 - val_binary_accuracy: 0.7968\n",
            "Epoch 5/50\n",
            "84/84 [==============================] - 5s 60ms/step - loss: 0.2582 - binary_accuracy: 0.8974 - val_loss: 0.4842 - val_binary_accuracy: 0.7894\n",
            "Epoch 6/50\n",
            "84/84 [==============================] - 3s 39ms/step - loss: 0.2249 - binary_accuracy: 0.9127 - val_loss: 0.5040 - val_binary_accuracy: 0.7898\n",
            "Epoch 7/50\n",
            "84/84 [==============================] - 3s 36ms/step - loss: 0.1984 - binary_accuracy: 0.9234 - val_loss: 0.5241 - val_binary_accuracy: 0.7824\n",
            "Epoch 8/50\n",
            "84/84 [==============================] - 3s 35ms/step - loss: 0.1794 - binary_accuracy: 0.9313 - val_loss: 0.5622 - val_binary_accuracy: 0.7680\n",
            "Epoch 9/50\n",
            "84/84 [==============================] - 3s 34ms/step - loss: 0.1605 - binary_accuracy: 0.9356 - val_loss: 0.5743 - val_binary_accuracy: 0.7750\n"
          ]
        }
      ]
    },
    {
      "cell_type": "markdown",
      "source": [
        "The second model stops at:  Epoch 9/50\n",
        "84/84 [==============================] - 3s 34ms/step - loss: 0.1605 - binary_accuracy: 0.9356 - val_loss: 0.5743 - val_binary_accuracy: 0.7750\n",
        "\n",
        "those results are very similar, maybe tiny bit less good."
      ],
      "metadata": {
        "id": "bOSi69jz9wVJ"
      }
    },
    {
      "cell_type": "markdown",
      "source": [
        "THIRD MODEL : we are going to try to reduce over fitting with some regularization"
      ],
      "metadata": {
        "id": "dea3fHInv3E-"
      }
    },
    {
      "cell_type": "code",
      "source": [
        "# Model creation: we take the first model and we add the regularization parameter L2\n",
        "\n",
        "model3 = tf.keras.Sequential([\n",
        "                  # Input Word Embedding layer          \n",
        "                  tf.keras.layers.Embedding(vocab_size+1, 64,name=\"embedding\"),\n",
        "                  # Gobal average pooling\n",
        "                  tf.keras.layers.GlobalAveragePooling1D(),\n",
        "\n",
        "                  # Dense layers\n",
        "                  tf.keras.layers.Dense(32, activation='relu', kernel_regularizer=regularizers.L2(0.001)),\n",
        "\n",
        "                  tf.keras.layers.Dense(16, activation='relu', kernel_regularizer=regularizers.L2(0.001)),\n",
        "\n",
        "                  # output layers with sigmoid activation function as it's a binary classification case\n",
        "                  tf.keras.layers.Dense(1, activation=\"sigmoid\")\n",
        "\n",
        "])\n",
        "\n",
        "model3.compile(optimizer=optimizer,\n",
        "              loss=tf.keras.losses.BinaryCrossentropy(),\n",
        "             metrics=[tf.keras.metrics.BinaryAccuracy()])"
      ],
      "metadata": {
        "id": "5KYQ8i7Sv-ng"
      },
      "execution_count": 264,
      "outputs": []
    },
    {
      "cell_type": "code",
      "source": [
        "# Training\n",
        "history = model3.fit(train_batch, \n",
        "                    epochs=50, \n",
        "                    validation_data=val_batch,\n",
        "                    callbacks=[tensorboard_callback])"
      ],
      "metadata": {
        "colab": {
          "base_uri": "https://localhost:8080/"
        },
        "id": "65Ba7DFqwN2t",
        "outputId": "4abde4fc-f89c-425f-ed8d-0b92606c88a6"
      },
      "execution_count": 265,
      "outputs": [
        {
          "output_type": "stream",
          "name": "stdout",
          "text": [
            "Epoch 1/50\n",
            "84/84 [==============================] - 2s 14ms/step - loss: 0.9803 - binary_accuracy: 0.5524 - val_loss: 0.9350 - val_binary_accuracy: 0.5771\n",
            "Epoch 2/50\n",
            "84/84 [==============================] - 1s 12ms/step - loss: 0.9081 - binary_accuracy: 0.5675 - val_loss: 0.8831 - val_binary_accuracy: 0.5771\n",
            "Epoch 3/50\n",
            "84/84 [==============================] - 1s 11ms/step - loss: 0.8646 - binary_accuracy: 0.5675 - val_loss: 0.8468 - val_binary_accuracy: 0.5771\n",
            "Epoch 4/50\n",
            "84/84 [==============================] - 1s 12ms/step - loss: 0.8325 - binary_accuracy: 0.5675 - val_loss: 0.8189 - val_binary_accuracy: 0.5771\n",
            "Epoch 5/50\n",
            "84/84 [==============================] - 1s 12ms/step - loss: 0.8066 - binary_accuracy: 0.5676 - val_loss: 0.7958 - val_binary_accuracy: 0.5775\n",
            "Epoch 6/50\n",
            "84/84 [==============================] - 1s 13ms/step - loss: 0.7846 - binary_accuracy: 0.5703 - val_loss: 0.7762 - val_binary_accuracy: 0.5806\n",
            "Epoch 7/50\n",
            "84/84 [==============================] - 1s 12ms/step - loss: 0.7651 - binary_accuracy: 0.5874 - val_loss: 0.7589 - val_binary_accuracy: 0.6029\n",
            "Epoch 8/50\n",
            "84/84 [==============================] - 1s 11ms/step - loss: 0.7464 - binary_accuracy: 0.6191 - val_loss: 0.7421 - val_binary_accuracy: 0.6252\n",
            "Epoch 9/50\n",
            "84/84 [==============================] - 1s 12ms/step - loss: 0.7277 - binary_accuracy: 0.6512 - val_loss: 0.7259 - val_binary_accuracy: 0.6637\n",
            "Epoch 10/50\n",
            "84/84 [==============================] - 1s 12ms/step - loss: 0.7078 - binary_accuracy: 0.6938 - val_loss: 0.7088 - val_binary_accuracy: 0.6948\n",
            "Epoch 11/50\n",
            "84/84 [==============================] - 1s 11ms/step - loss: 0.6861 - binary_accuracy: 0.7373 - val_loss: 0.6912 - val_binary_accuracy: 0.7356\n",
            "Epoch 12/50\n",
            "84/84 [==============================] - 1s 12ms/step - loss: 0.6625 - binary_accuracy: 0.7789 - val_loss: 0.6727 - val_binary_accuracy: 0.7649\n",
            "Epoch 13/50\n",
            "84/84 [==============================] - 1s 12ms/step - loss: 0.6368 - binary_accuracy: 0.8071 - val_loss: 0.6534 - val_binary_accuracy: 0.7855\n",
            "Epoch 14/50\n",
            "84/84 [==============================] - 1s 12ms/step - loss: 0.6106 - binary_accuracy: 0.8305 - val_loss: 0.6345 - val_binary_accuracy: 0.7951\n",
            "Epoch 15/50\n",
            "84/84 [==============================] - 1s 12ms/step - loss: 0.5836 - binary_accuracy: 0.8396 - val_loss: 0.6173 - val_binary_accuracy: 0.8004\n",
            "Epoch 16/50\n",
            "84/84 [==============================] - 1s 12ms/step - loss: 0.5580 - binary_accuracy: 0.8489 - val_loss: 0.6015 - val_binary_accuracy: 0.8069\n",
            "Epoch 17/50\n",
            "84/84 [==============================] - 1s 11ms/step - loss: 0.5331 - binary_accuracy: 0.8581 - val_loss: 0.5851 - val_binary_accuracy: 0.8074\n",
            "Epoch 18/50\n",
            "84/84 [==============================] - 1s 12ms/step - loss: 0.5113 - binary_accuracy: 0.8632 - val_loss: 0.5740 - val_binary_accuracy: 0.8087\n",
            "Epoch 19/50\n",
            "84/84 [==============================] - 1s 11ms/step - loss: 0.4919 - binary_accuracy: 0.8666 - val_loss: 0.5657 - val_binary_accuracy: 0.8078\n",
            "Epoch 20/50\n",
            "84/84 [==============================] - 1s 12ms/step - loss: 0.4749 - binary_accuracy: 0.8701 - val_loss: 0.5584 - val_binary_accuracy: 0.8052\n",
            "Epoch 21/50\n",
            "84/84 [==============================] - 1s 11ms/step - loss: 0.4601 - binary_accuracy: 0.8737 - val_loss: 0.5528 - val_binary_accuracy: 0.8052\n",
            "Epoch 22/50\n",
            "84/84 [==============================] - 1s 12ms/step - loss: 0.4472 - binary_accuracy: 0.8763 - val_loss: 0.5473 - val_binary_accuracy: 0.8047\n",
            "Epoch 23/50\n",
            "84/84 [==============================] - 1s 13ms/step - loss: 0.4358 - binary_accuracy: 0.8793 - val_loss: 0.5452 - val_binary_accuracy: 0.8065\n",
            "Epoch 24/50\n",
            "84/84 [==============================] - 1s 11ms/step - loss: 0.4254 - binary_accuracy: 0.8842 - val_loss: 0.5444 - val_binary_accuracy: 0.8021\n",
            "Epoch 25/50\n",
            "84/84 [==============================] - 1s 12ms/step - loss: 0.4162 - binary_accuracy: 0.8882 - val_loss: 0.5412 - val_binary_accuracy: 0.8060\n",
            "Epoch 26/50\n",
            "84/84 [==============================] - 1s 11ms/step - loss: 0.4076 - binary_accuracy: 0.8898 - val_loss: 0.5420 - val_binary_accuracy: 0.7999\n",
            "Epoch 27/50\n",
            "84/84 [==============================] - 1s 13ms/step - loss: 0.3999 - binary_accuracy: 0.8919 - val_loss: 0.5405 - val_binary_accuracy: 0.8008\n",
            "Epoch 28/50\n",
            "84/84 [==============================] - 1s 12ms/step - loss: 0.3927 - binary_accuracy: 0.8959 - val_loss: 0.5385 - val_binary_accuracy: 0.8039\n",
            "Epoch 29/50\n",
            "84/84 [==============================] - 1s 13ms/step - loss: 0.3862 - binary_accuracy: 0.8960 - val_loss: 0.5415 - val_binary_accuracy: 0.7977\n",
            "Epoch 30/50\n",
            "84/84 [==============================] - 1s 13ms/step - loss: 0.3803 - binary_accuracy: 0.8998 - val_loss: 0.5439 - val_binary_accuracy: 0.7960\n",
            "Epoch 31/50\n",
            "84/84 [==============================] - 1s 12ms/step - loss: 0.3745 - binary_accuracy: 0.9002 - val_loss: 0.5414 - val_binary_accuracy: 0.7995\n",
            "Epoch 32/50\n",
            "84/84 [==============================] - 1s 12ms/step - loss: 0.3693 - binary_accuracy: 0.9007 - val_loss: 0.5444 - val_binary_accuracy: 0.7951\n",
            "Epoch 33/50\n",
            "84/84 [==============================] - 1s 12ms/step - loss: 0.3644 - binary_accuracy: 0.9043 - val_loss: 0.5446 - val_binary_accuracy: 0.7964\n"
          ]
        }
      ]
    },
    {
      "cell_type": "markdown",
      "source": [
        "This thrid model stops at: Epoch 33/50\n",
        "84/84 [==============================] - 1s 12ms/step - loss: 0.3644 - binary_accuracy: 0.9043 - val_loss: 0.5446 - val_binary_accuracy: 0.7964\n",
        "\n",
        "Results are very similar with the first one."
      ],
      "metadata": {
        "id": "rU0eR5ze0WpR"
      }
    },
    {
      "cell_type": "code",
      "source": [
        ""
      ],
      "metadata": {
        "id": "mQJGqOHSVZ6O"
      },
      "execution_count": 265,
      "outputs": []
    },
    {
      "cell_type": "markdown",
      "source": [
        "At the end, within the tested models, the first one is probably the best one.\n"
      ],
      "metadata": {
        "id": "JDgZH-GvuG0F"
      }
    },
    {
      "cell_type": "code",
      "source": [
        ""
      ],
      "metadata": {
        "id": "f939oj7duNw7"
      },
      "execution_count": null,
      "outputs": []
    }
  ]
}